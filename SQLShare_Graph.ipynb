{
 "metadata": {
  "name": ""
 },
 "nbformat": 3,
 "nbformat_minor": 0,
 "worksheets": [
  {
   "cells": [
    {
     "cell_type": "heading",
     "level": 1,
     "metadata": {},
     "source": [
      "Genome Visualizations"
     ]
    },
    {
     "cell_type": "heading",
     "level": 2,
     "metadata": {},
     "source": [
      "Gene Length"
     ]
    },
    {
     "cell_type": "code",
     "collapsed": false,
     "input": [
      "<img src=\"http://sqlshare-graphs.herokuapp.com/api/dataset?sql=SELECT * FROM [sr320@washington.edu].[BiGill_meth_Zhang_exp]&height=600&x_axis=index&y_axes=length_mRNA,&graph_type=scatter&styled=true\" alt=\"Sqlshare_Graphs_181B07B6.png\"/>"
     ],
     "language": "python",
     "metadata": {},
     "outputs": [
      {
       "ename": "SyntaxError",
       "evalue": "invalid syntax (<ipython-input-9-708e96b756cd>, line 1)",
       "output_type": "pyerr",
       "traceback": [
        "\u001b[0;36m  File \u001b[0;32m\"<ipython-input-9-708e96b756cd>\"\u001b[0;36m, line \u001b[0;32m1\u001b[0m\n\u001b[0;31m    <img src=\"http://sqlshare-graphs.herokuapp.com/api/dataset?sql=SELECT * FROM [sr320@washington.edu].[BiGill_meth_Zhang_exp]&height=600&x_axis=index&y_axes=length_mRNA,&graph_type=scatter&styled=true\" alt=\"Sqlshare_Graphs_181B07B6.png\"/>\u001b[0m\n\u001b[0m    ^\u001b[0m\n\u001b[0;31mSyntaxError\u001b[0m\u001b[0;31m:\u001b[0m invalid syntax\n"
       ]
      }
     ],
     "prompt_number": 9
    },
    {
     "cell_type": "code",
     "collapsed": false,
     "input": [
      "<iframe src=http://eagle.fish.washington.edu/ </iframe>)\n"
     ],
     "language": "python",
     "metadata": {},
     "outputs": [
      {
       "ename": "SyntaxError",
       "evalue": "invalid syntax (<ipython-input-8-deafb1f230f8>, line 1)",
       "output_type": "pyerr",
       "traceback": [
        "\u001b[0;36m  File \u001b[0;32m\"<ipython-input-8-deafb1f230f8>\"\u001b[0;36m, line \u001b[0;32m1\u001b[0m\n\u001b[0;31m    <iframe src=http://eagle.fish.washington.edu/ </iframe>)\u001b[0m\n\u001b[0m    ^\u001b[0m\n\u001b[0;31mSyntaxError\u001b[0m\u001b[0;31m:\u001b[0m invalid syntax\n"
       ]
      }
     ],
     "prompt_number": 8
    },
    {
     "cell_type": "code",
     "collapsed": false,
     "input": [
      "\n",
      "\n",
      "from IPython.display import HTML\n",
      "HTML('<iframe src=http://sqlshare-graphs.herokuapp.com/api/dataset?sql=SELECT * FROM [sr320@washington.edu].[BiGill_meth_Zhang_exp]&height=600&x_axis=index&y_axes=length_mRNA,&graph_type=scatter&styled=true width=\"700\" height=350></iframe>')\n",
      "\n"
     ],
     "language": "python",
     "metadata": {},
     "outputs": [
      {
       "html": [
        "<iframe src=http://sqlshare-graphs.herokuapp.com/api/dataset?sql=SELECT * FROM [sr320@washington.edu].[BiGill_meth_Zhang_exp]&height=600&x_axis=index&y_axes=length_mRNA,&graph_type=scatter&styled=true width=\"700\" height=350></iframe>"
       ],
       "metadata": {},
       "output_type": "pyout",
       "prompt_number": 10,
       "text": [
        "<IPython.core.display.HTML at 0x105756210>"
       ]
      }
     ],
     "prompt_number": 10
    },
    {
     "cell_type": "code",
     "collapsed": false,
     "input": [
      "from IPython.display import HTML\n",
      "HTML('<iframe src=http://eagle.fish.washington.edu/ width=700 height=350></iframe>')"
     ],
     "language": "python",
     "metadata": {},
     "outputs": [
      {
       "html": [
        "<iframe src=http://eagle.fish.washington.edu/ width=700 height=350></iframe>"
       ],
       "metadata": {},
       "output_type": "pyout",
       "prompt_number": 3,
       "text": [
        "<IPython.core.display.HTML at 0x1057564d0>"
       ]
      }
     ],
     "prompt_number": 3
    },
    {
     "cell_type": "code",
     "collapsed": false,
     "input": [],
     "language": "python",
     "metadata": {},
     "outputs": []
    }
   ],
   "metadata": {}
  }
 ]
}