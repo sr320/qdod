{
 "metadata": {
  "name": "CC_ampk"
 },
 "nbformat": 3,
 "nbformat_minor": 0,
 "worksheets": [
  {
   "cells": [
    {
     "cell_type": "heading",
     "level": 1,
     "metadata": {},
     "source": "Searching for info on AMP-activated protein kinase in oysters / qDOD"
    },
    {
     "cell_type": "markdown",
     "metadata": {},
     "source": "![pw](http://www.cellsignal.com/reference/pathway/images/AMPK.jpg)"
    },
    {
     "cell_type": "heading",
     "level": 2,
     "metadata": {},
     "source": "SQLShare"
    },
    {
     "cell_type": "markdown",
     "metadata": {},
     "source": "```\nSELECT * \n  FROM [sr320@washington.edu].[qDOD Cgigas Gene Descriptions (Swiss-prot)]\n  where Description like '%AMP-activated%'\n```"
    },
    {
     "cell_type": "markdown",
     "metadata": {},
     "source": "CGI_ID|SPID|evalue|Description    \nCGI_10003983|Q28948|0|5'-AMP-activated protein kinase catalytic subunit alpha-2   \nCGI_10010273|Q91WG5|4E-36|5'-AMP-activated protein kinase subunit gamma-2   \nCGI_10010275|Q91WG5|1E-128|5'-AMP-activated protein kinase subunit gamma-2   \nCGI_10016569|Q9QZH4|2E-09|5'-AMP-activated protein kinase subunit beta-2   \nCGI_10021816|Q5RDH5|5E-15|5'-AMP-activated protein kinase catalytic subunit alpha-1  \nCGI_10025389|Q6PAM0|3E-84|5'-AMP-activated protein kinase subunit beta-2   \n  "
    },
    {
     "cell_type": "heading",
     "level": 4,
     "metadata": {},
     "source": "Emma's Proteomic Data"
    },
    {
     "cell_type": "markdown",
     "metadata": {},
     "source": "```\nSELECT * FROM [sr320@washington.edu].[OABS_ETS_S3]\nWhere [Gene Name] like '%AMP-activated protein kinase%'\n```"
    },
    {
     "cell_type": "markdown",
     "metadata": {},
     "source": "Q6PAM0   \n3e-84   \n5'-AMP-activated protein kinase subunit beta-2   "
    },
    {
     "cell_type": "heading",
     "level": 4,
     "metadata": {},
     "source": "OsHV\n"
    },
    {
     "cell_type": "markdown",
     "metadata": {},
     "source": "```\nSELECT * FROM [sr320@washington.edu].[Cgigas Larvae RNA-Seq OsHV]\n  where ID like 'CGI_10003983'\n```    "
    },
    {
     "cell_type": "raw",
     "metadata": {},
     "source": "CGI_10003983\n165\n165\n18.094\nCGI_10003983\nQ28948\n0\n5'-AMP-activated protein kinase catalytic subunit alpha-2"
    },
    {
     "cell_type": "heading",
     "level": 3,
     "metadata": {},
     "source": "more on CGI_10003983"
    },
    {
     "cell_type": "markdown",
     "metadata": {},
     "source": "```\nSELECT * FROM [sr320@washington.edu].[qDOD_v9_gene]\n  where Column9 like '%CGI_10003983%'\n```"
    },
    {
     "cell_type": "raw",
     "metadata": {},
     "source": "scaffold1375\nGLEAN\nmRNA\n40162\n57556\n1\n+\n.\nID=CGI_10003983;\n"
    },
    {
     "cell_type": "heading",
     "level": 2,
     "metadata": {},
     "source": "IGV Genome Browser"
    },
    {
     "cell_type": "markdown",
     "metadata": {},
     "source": "Loading session `http://eagle.fish.washington.edu/cnidarian/oyster_v9_igv_session.xml`"
    },
    {
     "cell_type": "markdown",
     "metadata": {},
     "source": "<img src=\"http://eagle.fish.washington.edu/cnidarian/skitch/IGV_-_Session__http__eagle.fish.washington.edu_cnidarian_oyster_v9_igv_session.xml_and_CC_ampk_183269B4.png\" alt=\"IGV_-_Session__http__eagle.fish.washington.edu_cnidarian_oyster_v9_igv_session.xml_and_CC_ampk_183269B4.png\" />"
    },
    {
     "cell_type": "markdown",
     "metadata": {},
     "source": "<img src=\"http://eagle.fish.washington.edu/cnidarian/skitch/IGV_-_Session__http__eagle.fish.washington.edu_trilobite_Crassostrea_gigas_v9_tracks_BiGill_igv_charlie.xml_18326ABC.png\" alt=\"IGV_-_Session__http__eagle.fish.washington.edu_trilobite_Crassostrea_gigas_v9_tracks_BiGill_igv_charlie.xml_18326ABC.png\" />"
    },
    {
     "cell_type": "heading",
     "level": 2,
     "metadata": {},
     "source": "Oyster Genome Browser"
    },
    {
     "cell_type": "markdown",
     "metadata": {},
     "source": "<IMAGE src=\"http://www.animalgenome.org/cgi-bin/gbrowse_img/oyster/?name=scaffold1375:34951..60000;type=mRNA+CDS;width=800;id=e4ddd1ba16785b17463c3e7ea44c4e9f;keystyle=between;grid=on\" />\n"
    },
    {
     "cell_type": "code",
     "collapsed": false,
     "input": "",
     "language": "python",
     "metadata": {},
     "outputs": []
    }
   ],
   "metadata": {}
  }
 ]
}