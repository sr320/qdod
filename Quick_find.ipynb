{
 "metadata": {
  "name": "",
  "signature": "sha256:24dd8ad6252be072578150943eab80858a62a912328c672f100de715f3a9f6ba"
 },
 "nbformat": 3,
 "nbformat_minor": 0,
 "worksheets": [
  {
   "cells": [
    {
     "cell_type": "heading",
     "level": 1,
     "metadata": {},
     "source": [
      "Quick Find"
     ]
    },
    {
     "cell_type": "code",
     "collapsed": false,
     "input": [
      "#What is \n",
      "ID=\"EKC26898\"\n",
      "!grep {ID} /Volumes/web/cnidarian/C_gigas_Ensemble_ID_qf.tab"
     ],
     "language": "python",
     "metadata": {},
     "outputs": [],
     "prompt_number": 1
    },
    {
     "cell_type": "code",
     "collapsed": false,
     "input": [
      "!grep {ID} /Volumes/web/cnidarian/C_gigas_Ensemble_ID_qf.tab"
     ],
     "language": "python",
     "metadata": {},
     "outputs": [
      {
       "output_type": "stream",
       "stream": "stdout",
       "text": [
        "CGI_10017800\tEKC26898\tEKC26898\tK1PZ30\tUniprot/SPTREMBL\tSEQUENCE_MATCH\t100\t100\t-\tCGI_10017800\tP10039\t9E-46\tTenascin\tP10039\tGO:0005102\tGO:0005102\treceptor binding\tsignal transduction activity\tF\r",
        "\r\n",
        "CGI_10017800\tEKC26898\tEKC26898\tK1PZ30\tUniprot/SPTREMBL\tSEQUENCE_MATCH\t100\t100\t-\tCGI_10017800\tP10039\t9E-46\tTenascin\tP10039\tGO:0005576\tGO:0005576\textracellular region\tnon-structural extracellular\tC\r",
        "\r\n",
        "CGI_10017800\tEKC26898\tEKC26898\tK1PZ30\tUniprot/SPTREMBL\tSEQUENCE_MATCH\t100\t100\t-\tCGI_10017800\tP10039\t9E-46\tTenascin\tP10039\tGO:0005578\tGO:0005578\tproteinaceous extracellular matrix\textracellular matrix\tC\r",
        "\r\n",
        "CGI_10017800\tEKC26898\tEKC26898\tK1PZ30\tUniprot/SPTREMBL\tSEQUENCE_MATCH\t100\t100\t-\tCGI_10017800\tP10039\t9E-46\tTenascin\tP10039\tGO:0007155\tGO:0007155\tcell adhesion\tcell adhesion\tP\r",
        "\r\n",
        "CGI_10017800\tEKC26898\tEKC26898\tK1PZ30\tUniprot/SPTREMBL\tSEQUENCE_MATCH\t100\t100\t-\tCGI_10017800\tP10039\t9E-46\tTenascin\tP10039\tGO:0007165\tGO:0007165\tsignal transduction\tsignal transduction\tP\r",
        "\r\n"
       ]
      }
     ],
     "prompt_number": 7
    },
    {
     "cell_type": "code",
     "collapsed": false,
     "input": [],
     "language": "python",
     "metadata": {},
     "outputs": []
    }
   ],
   "metadata": {}
  }
 ]
}