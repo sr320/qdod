{
 "metadata": {
  "name": ""
 },
 "nbformat": 3,
 "nbformat_minor": 0,
 "worksheets": [
  {
   "cells": [
    {
     "cell_type": "markdown",
     "metadata": {},
     "source": [
      "<iframe width=\"425\" height=\"350\" frameborder=\"0\" scrolling=\"no\" marginheight=\"0\" marginwidth=\"0\" src=\"https://www.google.com/maps/ms?msa=0&amp;msid=201270832134884264143.0004cbcad45c2f9d341d3&amp;hl=en&amp;ie=UTF8&amp;t=m&amp;ll=47.772203,-122.831475&amp;spn=1.454684,0.601501&amp;output=embed\"></iframe><br /><small>View <a href=\"https://www.google.com/maps/ms?msa=0&amp;msid=201270832134884264143.0004cbcad45c2f9d341d3&amp;hl=en&amp;ie=UTF8&amp;t=m&amp;ll=47.772203,-122.831475&amp;spn=1.454684,0.601501&amp;source=embed\" style=\"color:#0000FF;text-align:left\">Native Oyster Local Adaptation Project</a> in a larger map</small>"
     ]
    },
    {
     "cell_type": "code",
     "collapsed": false,
     "input": [],
     "language": "python",
     "metadata": {},
     "outputs": []
    }
   ],
   "metadata": {}
  }
 ]
}