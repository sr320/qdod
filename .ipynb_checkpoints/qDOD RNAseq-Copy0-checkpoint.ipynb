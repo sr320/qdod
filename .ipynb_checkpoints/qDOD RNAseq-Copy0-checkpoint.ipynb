{
 "metadata": {
  "name": ""
 },
 "nbformat": 3,
 "nbformat_minor": 0,
 "worksheets": [
  {
   "cells": [
    {
     "cell_type": "markdown",
     "metadata": {},
     "source": [
      "<img src=\"http://eagle.fish.washington.edu/cnidarian/skitch/ga_182E7EED.png\" alt=\"ga_182E7EED.png\" width = 50%/>"
     ]
    },
    {
     "cell_type": "heading",
     "level": 1,
     "metadata": {},
     "source": [
      "IPlant Model : Ensembl Genome"
     ]
    },
    {
     "cell_type": "markdown",
     "metadata": {},
     "source": [
      "Genome = Crassostrea_gigas.GCA_000297895.1.21.dna_rm.toplevel.fa   \n",
      "GTF = Crassostrea_gigas.GCA_000297895.1.21.gtf"
     ]
    },
    {
     "cell_type": "markdown",
     "metadata": {},
     "source": [
      "BiGoRNA   \n",
      "- [raw](https://github.com/sr320/qdod/wiki/Roberts-Lab-Raw-Data#wiki-select-genomic-data)   \n",
      "- [BAM](http://de.iplantcollaborative.org/dl/8da35077-89d5-40c7-96cf-660458fec8fa)  \n"
     ]
    },
    {
     "cell_type": "code",
     "collapsed": false,
     "input": [
      "#Sample name\n",
      "id=\"BB3\"\n",
      "#iget command with bam output from Tophat (genome Crassostrea_gigas.GCA_000297895.1.21.dna_rm.toplevel.fa; gtf Crassostrea_gigas.GCA_000297895.1.21.dna_rm.toplevel.fa)\n",
      "ig=\"\n"
     ],
     "language": "python",
     "metadata": {},
     "outputs": [],
     "prompt_number": 8
    },
    {
     "cell_type": "markdown",
     "metadata": {},
     "source": [
      "Set working directory"
     ]
    },
    {
     "cell_type": "code",
     "collapsed": false,
     "input": [
      "cd /Volumes/web/cnidarian/qdod2/RNAseq"
     ],
     "language": "python",
     "metadata": {},
     "outputs": [
      {
       "output_type": "stream",
       "stream": "stdout",
       "text": [
        "/Volumes/web/cnidarian/qdod2/RNAseq\n"
       ]
      }
     ],
     "prompt_number": 5
    },
    {
     "cell_type": "code",
     "collapsed": false,
     "input": [
      "!mkdir {id}"
     ],
     "language": "python",
     "metadata": {},
     "outputs": [],
     "prompt_number": 9
    },
    {
     "cell_type": "code",
     "collapsed": false,
     "input": [
      "#downloading bam file\n",
      "!{ig}"
     ],
     "language": "python",
     "metadata": {},
     "outputs": [],
     "prompt_number": 6
    },
    {
     "cell_type": "code",
     "collapsed": false,
     "input": [
      "!samtools sort /Volumes/web/cnidarian/BiGoRNA_GTGTCTAC_1.bam /Volumes/web/cnidarian/BiGoRNA_GTGTCTAC_1.sorted"
     ],
     "language": "python",
     "metadata": {},
     "outputs": [
      {
       "output_type": "stream",
       "stream": "stdout",
       "text": [
        "[bam_sort_core] merging from 18 files...\r\n"
       ]
      }
     ],
     "prompt_number": 8
    },
    {
     "cell_type": "code",
     "collapsed": false,
     "input": [
      "!head /Volumes/web/whale/ensembl/ftp.ensemblgenomes.org/pub/release-21/metazoa/fasta/crassostrea_gigas/dna/Crassostrea_gigas.GCA_000297895.1.21.dna_sm.genome.fa"
     ],
     "language": "python",
     "metadata": {},
     "outputs": [
      {
       "output_type": "stream",
       "stream": "stdout",
       "text": [
        ">C12728 dna_sm:supercontig supercontig:GCA_000297895.1:C12728:1:200:1\r\n",
        "TTTTTCTTATTTTTATTTGTACCAGTTAATCCTGTGAgccgcttttatgtctctttctgg\r\n",
        "ccgtttttatgtctctttctgTTGACTTTATTATTCTCTCATTTATGATTTAACATCTCA\r\n",
        "TATGAATTATTATGTGTATCTTGCATGGGATATTTTGCCACTTCGTGCCCATAAAAATCA\r\n",
        "ACACTTGTCTTTCGGTGTAT\r\n",
        ">C12722 dna_sm:supercontig supercontig:GCA_000297895.1:C12722:1:200:1\r\n",
        "TAGGGACAGTGTCTATTGCATTAAGGTGAGTGACTGTTTGGGGTTAAACTTAAACAGGTA\r\n",
        "TGGATAGATTGAGTGTGTGAACATCCCTGCTCTATCTAATCTACGTGTTTTCTAACCTTT\r\n",
        "GATACAAAGTGTGCGGTCATTCCTGCCCTGTATCGCATTAATACAAGTGTGCAGTCATAC\r\n",
        "CTGCTTGTATTGGTGGTGGT\r\n"
       ]
      }
     ],
     "prompt_number": 17
    },
    {
     "cell_type": "code",
     "collapsed": false,
     "input": [
      "!perl -e '$count=0; $len=0; while(<>) {s/\\r?\\n//; s/\\t/ /g; if (s/^>//) { if ($. != 1) {print \"\\n\"} s/ |$/\\t/; $count++; $_ .= \"\\t\";} else {s/ //g; $len += length($_)} print $_;} print \"\\n\"; warn \"\\nConverted $count FASTA records in $. lines to tabular format\\nTotal sequence length: $len\\n\\n\";' /Volumes/web/whale/ensembl/ftp.ensemblgenomes.org/pub/release-21/metazoa/fasta/crassostrea_gigas/dna/Crassostrea_gigas.GCA_000297895.1.21.dna_sm.genome.fa > /Volumes/web/cnidarian/cgigasgenome1.tab"
     ],
     "language": "python",
     "metadata": {},
     "outputs": [
      {
       "output_type": "stream",
       "stream": "stdout",
       "text": [
        "\r\n",
        "Converted 7658 FASTA records in 9306685 lines to tabular format\r\n",
        "Total sequence length: 557717710\r\n",
        "\r\n"
       ]
      }
     ],
     "prompt_number": 13
    },
    {
     "cell_type": "code",
     "collapsed": false,
     "input": [
      "!perl -e '$col = 2;' -e 'while (<>) { s/\\r?\\n//; @F = split /\\t/, $_; $len = length($F[$col]); print \"$_\\t$len\\n\" } warn \"\\nAdded column with length of column $col for $. lines.\\n\\n\";' /Volumes/web/cnidarian/cgigasgenome1.tab > /Volumes/web/cnidarian/cgigasgenome2.tab"
     ],
     "language": "python",
     "metadata": {},
     "outputs": [
      {
       "output_type": "stream",
       "stream": "stdout",
       "text": [
        "\r\n",
        "Added column with length of column 2 for 7658 lines.\r\n",
        "\r\n"
       ]
      }
     ],
     "prompt_number": 14
    },
    {
     "cell_type": "code",
     "collapsed": false,
     "input": [
      "!awk '{ print $1,$5 }' /Volumes/web/cnidarian/cgigasgenome2.tab > /Volumes/web/cnidarian/cgigasgenome3.tab"
     ],
     "language": "python",
     "metadata": {},
     "outputs": [],
     "prompt_number": 24
    },
    {
     "cell_type": "code",
     "collapsed": false,
     "input": [
      "!tail /Volumes/web/cnidarian/cgigasgenome3.tab"
     ],
     "language": "python",
     "metadata": {},
     "outputs": [
      {
       "output_type": "stream",
       "stream": "stdout",
       "text": [
        "scaffold77 1619719\r\n",
        "scaffold337 1638316\r\n",
        "scaffold86 1697160\r\n",
        "scaffold1532 1715538\r\n",
        "scaffold419 1725835\r\n",
        "scaffold102 1727112\r\n",
        "scaffold1024 1774716\r\n",
        "scaffold150 1854615\r\n",
        "scaffold1009 1861391\r\n",
        "scaffold22 1964558\r\n"
       ]
      }
     ],
     "prompt_number": 26
    },
    {
     "cell_type": "raw",
     "metadata": {},
     "source": [
      "!bedtools genomecov -bg -split -ibam /Volumes/web/cnidarian/BiGoRNA_GTGTCTAC_1.sorted.bam -g /Volumes/web/cnidarian/cgigasgenome3.tab > /Volumes/web/cnidarian/BiGoRNA_bg1"
     ]
    },
    {
     "cell_type": "markdown",
     "metadata": {},
     "source": [
      "---"
     ]
    },
    {
     "cell_type": "heading",
     "level": 1,
     "metadata": {},
     "source": [
      "CLC Model"
     ]
    },
    {
     "cell_type": "heading",
     "level": 2,
     "metadata": {},
     "source": [
      "RNA-Seq_DH3"
     ]
    },
    {
     "cell_type": "markdown",
     "metadata": {},
     "source": [
      "RNA-Seq DH3; pooled gill, Drayton Harbor"
     ]
    },
    {
     "cell_type": "markdown",
     "metadata": {},
     "source": [
      "[Direct Link](https://sqlshare.escience.washington.edu/sqlshare#s=query/sr320%40washington.edu/RNA-Seq_DH3)"
     ]
    },
    {
     "cell_type": "code",
     "collapsed": false,
     "input": [
      "!python /Users/sr320/sqlshare-pythonclient/tools/fetchdata.py -s \"set rowcount 10 SELECT * FROM [sr320@washington.edu].[RNA-Seq_DH3]\" -f tsv -o /Volumes/web/cnidarian/pDOD_DH3.txt\n"
     ],
     "language": "python",
     "metadata": {},
     "outputs": [],
     "prompt_number": 1
    },
    {
     "cell_type": "code",
     "collapsed": false,
     "input": [
      "!head -4 /Volumes/web/cnidarian/pDOD_DH3.txt"
     ],
     "language": "python",
     "metadata": {},
     "outputs": [
      {
       "output_type": "stream",
       "stream": "stdout",
       "text": [
        "Feature ID\tExpression values\tTranscripts annotated\tDetected transcripts\tExon length\tUnique gene reads\tTotal gene reads\tUnique exon reads\tTotal exon reads\tRatio of unique to total (exon reads)\tUnique exon-exon reads\tTotal exon-exon reads\tUnique intron-exon reads\tTotal intron-exon reads\tExons\tPutative exons\tRPKM\tMedian coverage\tChromosome\tChromosome region start\tChromosome region end\r",
        "\r\n",
        "CGI_10000001\t9.471\t1\t1\t351\t0\t31\t0\t31\t0\t0\t0\t0\t0\t1\t0\t9.471\t0\tC16582\t35\t385\r",
        "\r\n",
        "CGI_10000002\t8.695\t1\t1\t333\t27\t27\t27\t27\t1\t0\t0\t0\t0\t1\t0\t8.695\t3\tC17212\t31\t363\r",
        "\r\n",
        "CGI_10000003\t3.763\t1\t1\t228\t5\t8\t5\t8\t0.625\t0\t0\t0\t0\t1\t0\t3.763\t1\tC17316\t30\t257\r",
        "\r\n"
       ]
      }
     ],
     "prompt_number": 12
    },
    {
     "cell_type": "code",
     "collapsed": false,
     "input": [],
     "language": "python",
     "metadata": {},
     "outputs": []
    }
   ],
   "metadata": {}
  }
 ]
}