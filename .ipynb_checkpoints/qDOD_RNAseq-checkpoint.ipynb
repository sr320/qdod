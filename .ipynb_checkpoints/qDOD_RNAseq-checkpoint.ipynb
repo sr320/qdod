{
 "metadata": {
  "name": ""
 },
 "nbformat": 3,
 "nbformat_minor": 0,
 "worksheets": [
  {
   "cells": [
    {
     "cell_type": "heading",
     "level": 1,
     "metadata": {},
     "source": [
      "RNA-seq Pipelines"
     ]
    },
    {
     "cell_type": "code",
     "collapsed": false,
     "input": [
      "!date\n",
      "#made 2 bedgraphs"
     ],
     "language": "python",
     "metadata": {},
     "outputs": [
      {
       "output_type": "stream",
       "stream": "stdout",
       "text": [
        "Sat Feb 15 06:26:24 PST 2014\r\n"
       ]
      }
     ],
     "prompt_number": 23
    },
    {
     "cell_type": "heading",
     "level": 2,
     "metadata": {},
     "source": [
      "IPlant Model : Ensembl Genome"
     ]
    },
    {
     "cell_type": "markdown",
     "metadata": {},
     "source": [
      "Genome = Crassostrea_gigas.GCA_000297895.1.21.dna_rm.toplevel.fa   \n",
      "GTF = Crassostrea_gigas.GCA_000297895.1.21.gtf"
     ]
    },
    {
     "cell_type": "markdown",
     "metadata": {},
     "source": [
      "BiGoRNA   \n",
      "- [raw](https://github.com/sr320/qdod/wiki/Roberts-Lab-Raw-Data#wiki-select-genomic-data)   \n",
      "- [BAM](http://de.iplantcollaborative.org/dl/8da35077-89d5-40c7-96cf-660458fec8fa)via Tophat    \n",
      "- [bedgraph](http://eagle.fish.washington.edu/cnidarian/BiGoRNA_genomecov.bedgraph)\n"
     ]
    },
    {
     "cell_type": "markdown",
     "metadata": {},
     "source": [
      "Tophat   \n",
      "\n",
      "    /usr/local2/sheldon/tophat_test.pl  --align_reads 'serial' --mate-inner-dist '50' --file_query 'BiGillRNA_GACTAAGA_1.fastq' --file_query 'BiGoRNA_GTGTCTAC_1.fastq' --file_query2 'BiGillRNA_GACTAAGA_2.fastq' --file_query2 'BiGoRNA_GTGTCTAC_2.fastq'    --library-type  'fr-unstranded' --min-anchor-length  '8' --splice-mismatches  '0' --min-intron-length  '70' --max-intron-length  '50000' --min-isoform-fraction  '0.15' --max-multihits  '20' --min-segment-intron  '50' --user_annotation 'Crassostrea_gigas.GCA_000297895.1.21.gtf' --max-segment-intron  '500000' --segment-mismatches  '2' --segment-length  '20' --num-threads  '6' --user_database 'Crassostrea_gigas.GCA_000297895.1.21.dna_rm.toplevel.fa' --b2-sensitive  --tophat_version '2.0.9' --bowtie_version '2.1.0' 1>"
     ]
    },
    {
     "cell_type": "markdown",
     "metadata": {},
     "source": [
      "bedgraph code\n",
      "\n",
      "    /usr/local3/bin/bedtools-iplant-1.00/bedtools.pl genomecov     -bg         -split  -ibam 'BiGoRNA_GTGTCTAC_1.bam' -g  'cgigas_E_genome_bt.tab' -output 'bedtools_genomecov_output'"
     ]
    },
    {
     "cell_type": "markdown",
     "metadata": {},
     "source": [
      "BiGillRNA\n",
      "\n",
      "- [BAM](http://de.iplantcollaborative.org/dl/c54d6483-29c5-4248-9f4f-fc582f270465)   \n",
      "- [bedgraph](http://eagle.fish.washington.edu/cnidarian/BiGillRNA_genomecov.bedgraph)\n",
      "\n",
      "_this bedgraph is ~800 MB_\n"
     ]
    },
    {
     "cell_type": "markdown",
     "metadata": {},
     "source": [
      "    /usr/local3/bin/bedtools-iplant-1.00/bedtools.pl genomecov     -bg         -split  -ibam 'BiGillRNA_GACTAAGA_1.bam' -g  'cgigas_E_genome_bt.tab' -output 'bedtools_genomecov_output' 1> logs/condor-stdout-0 2>"
     ]
    },
    {
     "cell_type": "markdown",
     "metadata": {},
     "source": [
      "---"
     ]
    },
    {
     "cell_type": "code",
     "collapsed": false,
     "input": [
      "cd /Volumes/web/cnidarian/"
     ],
     "language": "python",
     "metadata": {},
     "outputs": [
      {
       "output_type": "stream",
       "stream": "stdout",
       "text": [
        "/Volumes/web/cnidarian\n"
       ]
      }
     ],
     "prompt_number": 4
    },
    {
     "cell_type": "code",
     "collapsed": false,
     "input": [
      "!iget -t 8da35077-89d5-40c7-96cf-660458fec8fa '/iplant/home/sr320/coge_data/TopHat2-PE_BiGill_BiGo-2014-02-02-09-12-25.697/bam/BiGoRNA_GTGTCTAC_1.bam'"
     ],
     "language": "python",
     "metadata": {},
     "outputs": [],
     "prompt_number": 6
    },
    {
     "cell_type": "code",
     "collapsed": false,
     "input": [
      "!samtools sort /Volumes/web/cnidarian/BiGoRNA_GTGTCTAC_1.bam /Volumes/web/cnidarian/BiGoRNA_GTGTCTAC_1.sorted"
     ],
     "language": "python",
     "metadata": {},
     "outputs": [
      {
       "output_type": "stream",
       "stream": "stdout",
       "text": [
        "[bam_sort_core] merging from 18 files...\r\n"
       ]
      }
     ],
     "prompt_number": 8
    },
    {
     "cell_type": "code",
     "collapsed": false,
     "input": [
      "!head /Volumes/web/whale/ensembl/ftp.ensemblgenomes.org/pub/release-21/metazoa/fasta/crassostrea_gigas/dna/Crassostrea_gigas.GCA_000297895.1.21.dna_sm.genome.fa"
     ],
     "language": "python",
     "metadata": {},
     "outputs": [
      {
       "output_type": "stream",
       "stream": "stdout",
       "text": [
        ">C12728 dna_sm:supercontig supercontig:GCA_000297895.1:C12728:1:200:1\r\n",
        "TTTTTCTTATTTTTATTTGTACCAGTTAATCCTGTGAgccgcttttatgtctctttctgg\r\n",
        "ccgtttttatgtctctttctgTTGACTTTATTATTCTCTCATTTATGATTTAACATCTCA\r\n",
        "TATGAATTATTATGTGTATCTTGCATGGGATATTTTGCCACTTCGTGCCCATAAAAATCA\r\n",
        "ACACTTGTCTTTCGGTGTAT\r\n",
        ">C12722 dna_sm:supercontig supercontig:GCA_000297895.1:C12722:1:200:1\r\n",
        "TAGGGACAGTGTCTATTGCATTAAGGTGAGTGACTGTTTGGGGTTAAACTTAAACAGGTA\r\n",
        "TGGATAGATTGAGTGTGTGAACATCCCTGCTCTATCTAATCTACGTGTTTTCTAACCTTT\r\n",
        "GATACAAAGTGTGCGGTCATTCCTGCCCTGTATCGCATTAATACAAGTGTGCAGTCATAC\r\n",
        "CTGCTTGTATTGGTGGTGGT\r\n"
       ]
      }
     ],
     "prompt_number": 17
    },
    {
     "cell_type": "code",
     "collapsed": false,
     "input": [
      "!perl -e '$count=0; $len=0; while(<>) {s/\\r?\\n//; s/\\t/ /g; if (s/^>//) { if ($. != 1) {print \"\\n\"} s/ |$/\\t/; $count++; $_ .= \"\\t\";} else {s/ //g; $len += length($_)} print $_;} print \"\\n\"; warn \"\\nConverted $count FASTA records in $. lines to tabular format\\nTotal sequence length: $len\\n\\n\";' /Volumes/web/whale/ensembl/ftp.ensemblgenomes.org/pub/release-21/metazoa/fasta/crassostrea_gigas/dna/Crassostrea_gigas.GCA_000297895.1.21.dna_sm.genome.fa > /Volumes/web/cnidarian/cgigasgenome1.tab"
     ],
     "language": "python",
     "metadata": {},
     "outputs": [
      {
       "output_type": "stream",
       "stream": "stdout",
       "text": [
        "\r\n",
        "Converted 7658 FASTA records in 9306685 lines to tabular format\r\n",
        "Total sequence length: 557717710\r\n",
        "\r\n"
       ]
      }
     ],
     "prompt_number": 13
    },
    {
     "cell_type": "code",
     "collapsed": false,
     "input": [
      "!perl -e '$col = 2;' -e 'while (<>) { s/\\r?\\n//; @F = split /\\t/, $_; $len = length($F[$col]); print \"$_\\t$len\\n\" } warn \"\\nAdded column with length of column $col for $. lines.\\n\\n\";' /Volumes/web/cnidarian/cgigasgenome1.tab > /Volumes/web/cnidarian/cgigasgenome2.tab"
     ],
     "language": "python",
     "metadata": {},
     "outputs": [
      {
       "output_type": "stream",
       "stream": "stdout",
       "text": [
        "\r\n",
        "Added column with length of column 2 for 7658 lines.\r\n",
        "\r\n"
       ]
      }
     ],
     "prompt_number": 14
    },
    {
     "cell_type": "code",
     "collapsed": false,
     "input": [
      "!awk '{ print $1,$5 }' /Volumes/web/cnidarian/cgigasgenome2.tab > /Volumes/web/cnidarian/cgigasgenome3.tab"
     ],
     "language": "python",
     "metadata": {},
     "outputs": [],
     "prompt_number": 24
    },
    {
     "cell_type": "code",
     "collapsed": false,
     "input": [
      "!tail /Volumes/web/cnidarian/cgigasgenome3.tab"
     ],
     "language": "python",
     "metadata": {},
     "outputs": [
      {
       "output_type": "stream",
       "stream": "stdout",
       "text": [
        "scaffold77 1619719\r\n",
        "scaffold337 1638316\r\n",
        "scaffold86 1697160\r\n",
        "scaffold1532 1715538\r\n",
        "scaffold419 1725835\r\n",
        "scaffold102 1727112\r\n",
        "scaffold1024 1774716\r\n",
        "scaffold150 1854615\r\n",
        "scaffold1009 1861391\r\n",
        "scaffold22 1964558\r\n"
       ]
      }
     ],
     "prompt_number": 26
    },
    {
     "cell_type": "raw",
     "metadata": {},
     "source": [
      "!bedtools genomecov -bg -split -ibam /Volumes/web/cnidarian/BiGoRNA_GTGTCTAC_1.sorted.bam -g /Volumes/web/cnidarian/cgigasgenome3.tab > /Volumes/web/cnidarian/BiGoRNA_bg1"
     ]
    },
    {
     "cell_type": "code",
     "collapsed": false,
     "input": [
      "pwd"
     ],
     "language": "python",
     "metadata": {},
     "outputs": [
      {
       "metadata": {},
       "output_type": "pyout",
       "prompt_number": 31,
       "text": [
        "u'/Volumes/web/cnidarian'"
       ]
      }
     ],
     "prompt_number": 31
    },
    {
     "cell_type": "code",
     "collapsed": false,
     "input": [
      "!head /Volumes/web/cnidarian/cgigasgenome3.tab"
     ],
     "language": "python",
     "metadata": {},
     "outputs": [
      {
       "output_type": "stream",
       "stream": "stdout",
       "text": [
        "C12728 200\r\n",
        "C12722 200\r\n",
        "C12706 200\r\n",
        "C12718 200\r\n",
        "C12732 200\r\n",
        "C12726 200\r\n",
        "C12708 200\r\n",
        "C12730 200\r\n",
        "C12724 200\r\n",
        "C12734 200\r\n"
       ]
      }
     ],
     "prompt_number": 32
    },
    {
     "cell_type": "code",
     "collapsed": false,
     "input": [
      "!/Volumes/Bay3/Software/bg/bedGraphToBigWig /Volumes/web/cnidarian/BiGoRNA_bg1_sorted.bedgraph /Volumes/web/cnidarian/cgigasgenome3.tab out.bw"
     ],
     "language": "python",
     "metadata": {},
     "outputs": [
      {
       "output_type": "stream",
       "stream": "stdout",
       "text": [
        "Expecting 2 words line 4252 of /Volumes/web/cnidarian/cgigasgenome3.tab got 1\r\n"
       ]
      }
     ],
     "prompt_number": 44
    },
    {
     "cell_type": "code",
     "collapsed": false,
     "input": [
      "!head /Volumes/web/cnidarian/BiGoRNA_bg1.bedgraph"
     ],
     "language": "python",
     "metadata": {},
     "outputs": [
      {
       "output_type": "stream",
       "stream": "stdout",
       "text": [
        "C12722\t142\t192\t1\r\n",
        "C12738\t40\t90\t2\r\n",
        "C12738\t94\t144\t13\r\n",
        "C12738\t149\t199\t3\r\n",
        "C12748\t98\t113\t1\r\n",
        "C12748\t113\t163\t2\r\n",
        "C12748\t163\t198\t1\r\n",
        "C12758\t28\t37\t1\r\n",
        "C12758\t37\t38\t2\r\n",
        "C12758\t38\t87\t3\r\n"
       ]
      }
     ],
     "prompt_number": 38
    },
    {
     "cell_type": "code",
     "collapsed": false,
     "input": [
      "!sort -k1,1 -k2,2n /Volumes/web/cnidarian/BiGoRNA_bg1.bedgraph > /Volumes/web/cnidarian/BiGoRNA_bg1_sorted.bedgraph"
     ],
     "language": "python",
     "metadata": {},
     "outputs": [],
     "prompt_number": 40
    },
    {
     "cell_type": "code",
     "collapsed": false,
     "input": [
      "!/Volumes/Bay3/Software/bg/bedGraphToBigWig\n"
     ],
     "language": "python",
     "metadata": {},
     "outputs": [
      {
       "output_type": "stream",
       "stream": "stdout",
       "text": [
        "bedGraphToBigWig v 4 - Convert a bedGraph file to bigWig format.\r\n",
        "usage:\r\n",
        "   bedGraphToBigWig in.bedGraph chrom.sizes out.bw\r\n",
        "where in.bedGraph is a four column file in the format:\r\n",
        "      <chrom> <start> <end> <value>\r\n",
        "and chrom.sizes is two column: <chromosome name> <size in bases>\r\n",
        "and out.bw is the output indexed big wig file.\r\n",
        "Use the script: fetchChromSizes to obtain the actual chrom.sizes information\r\n",
        "from UCSC, please do not make up a chrom sizes from your own information.\r\n",
        "The input bedGraph file must be sorted, use the unix sort command:\r\n",
        "  sort -k1,1 -k2,2n unsorted.bedGraph > sorted.bedGraph\r\n",
        "options:\r\n",
        "   -blockSize=N - Number of items to bundle in r-tree.  Default 256\r\n",
        "   -itemsPerSlot=N - Number of data points bundled at lowest level. Default 1024\r\n",
        "   -unc - If set, do not use compression.\r\n"
       ]
      }
     ],
     "prompt_number": 37
    },
    {
     "cell_type": "markdown",
     "metadata": {},
     "source": [
      "---"
     ]
    },
    {
     "cell_type": "heading",
     "level": 1,
     "metadata": {},
     "source": [
      "CLC Model"
     ]
    },
    {
     "cell_type": "heading",
     "level": 2,
     "metadata": {},
     "source": [
      "RNA-Seq_DH3"
     ]
    },
    {
     "cell_type": "markdown",
     "metadata": {},
     "source": [
      "RNA-Seq DH3; pooled gill, Drayton Harbor"
     ]
    },
    {
     "cell_type": "markdown",
     "metadata": {},
     "source": [
      "[Direct Link](https://sqlshare.escience.washington.edu/sqlshare#s=query/sr320%40washington.edu/RNA-Seq_DH3)"
     ]
    },
    {
     "cell_type": "code",
     "collapsed": false,
     "input": [
      "!python /Users/sr320/sqlshare-pythonclient/tools/fetchdata.py -s \"set rowcount 10 SELECT * FROM [sr320@washington.edu].[RNA-Seq_DH3]\" -f tsv -o /Volumes/web/cnidarian/pDOD_DH3.txt\n"
     ],
     "language": "python",
     "metadata": {},
     "outputs": [],
     "prompt_number": 1
    },
    {
     "cell_type": "code",
     "collapsed": false,
     "input": [
      "!head -4 /Volumes/web/cnidarian/pDOD_DH3.txt"
     ],
     "language": "python",
     "metadata": {},
     "outputs": [
      {
       "output_type": "stream",
       "stream": "stdout",
       "text": [
        "Feature ID\tExpression values\tTranscripts annotated\tDetected transcripts\tExon length\tUnique gene reads\tTotal gene reads\tUnique exon reads\tTotal exon reads\tRatio of unique to total (exon reads)\tUnique exon-exon reads\tTotal exon-exon reads\tUnique intron-exon reads\tTotal intron-exon reads\tExons\tPutative exons\tRPKM\tMedian coverage\tChromosome\tChromosome region start\tChromosome region end\r",
        "\r\n",
        "CGI_10000001\t9.471\t1\t1\t351\t0\t31\t0\t31\t0\t0\t0\t0\t0\t1\t0\t9.471\t0\tC16582\t35\t385\r",
        "\r\n",
        "CGI_10000002\t8.695\t1\t1\t333\t27\t27\t27\t27\t1\t0\t0\t0\t0\t1\t0\t8.695\t3\tC17212\t31\t363\r",
        "\r\n",
        "CGI_10000003\t3.763\t1\t1\t228\t5\t8\t5\t8\t0.625\t0\t0\t0\t0\t1\t0\t3.763\t1\tC17316\t30\t257\r",
        "\r\n"
       ]
      }
     ],
     "prompt_number": 12
    },
    {
     "cell_type": "code",
     "collapsed": false,
     "input": [],
     "language": "python",
     "metadata": {},
     "outputs": []
    }
   ],
   "metadata": {}
  }
 ]
}