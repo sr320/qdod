{
 "metadata": {
  "name": "",
  "signature": "sha256:16d5ac2e8ef7a7c2323dccc9fd6927a1cdfe5c316b9cf8203c4f13d50b012fec"
 },
 "nbformat": 3,
 "nbformat_minor": 0,
 "worksheets": [
  {
   "cells": [
    {
     "cell_type": "heading",
     "level": 1,
     "metadata": {},
     "source": [
      "Transposable Elements in the Oyster Genome"
     ]
    },
    {
     "cell_type": "markdown",
     "metadata": {},
     "source": [
      "Initial characterization was described elsewhere..\n",
      "The genomic feature track is below"
     ]
    },
    {
     "cell_type": "code",
     "collapsed": false,
     "input": [
      "!head /Volumes/web/trilobite/Crassostrea_gigas_v9_tracks/Cgigas_v9_TE.gff"
     ],
     "language": "python",
     "metadata": {},
     "outputs": [
      {
       "output_type": "stream",
       "stream": "stdout",
       "text": [
        "C21242\tTRF\tTandem_Repeat\t38\t100\t72\t+\t.\t.\r\n",
        "C21306\tTRF\tTandem_Repeat\t35\t143\t112\t+\t.\t.\r\n",
        "C21306\tTRF\tTandem_Repeat\t574\t947\t208\t+\t.\t.\r\n",
        "C21306\tTRF\tTandem_Repeat\t574\t901\t313\t+\t.\t.\r\n",
        "C21372\tTRF\tTandem_Repeat\t643\t671\t58\t+\t.\t.\r\n",
        "C22542\tTRF\tTandem_Repeat\t1727\t1774\t96\t+\t.\t.\r\n",
        "C22728\tTRF\tTandem_Repeat\t426\t491\t105\t+\t.\t.\r\n",
        "C23428\tTRF\tTandem_Repeat\t130\t415\t202\t+\t.\t.\r\n",
        "C23796\tTRF\tTandem_Repeat\t547\t608\t97\t+\t.\t.\r\n",
        "C24440\tTRF\tTandem_Repeat\t1059\t1089\t62\t+\t.\t.\r\n"
       ]
      }
     ],
     "prompt_number": 1
    },
    {
     "cell_type": "code",
     "collapsed": false,
     "input": [
      "!wc -l /Volumes/web/trilobite/Crassostrea_gigas_v9_tracks/Cgigas_v9_TE.gff"
     ],
     "language": "python",
     "metadata": {},
     "outputs": [
      {
       "output_type": "stream",
       "stream": "stdout",
       "text": [
        "  119786 /Volumes/web/trilobite/Crassostrea_gigas_v9_tracks/Cgigas_v9_TE.gff\r\n"
       ]
      }
     ],
     "prompt_number": 2
    },
    {
     "cell_type": "code",
     "collapsed": false,
     "input": [
      "!awk '{print $2}' /Volumes/web/trilobite/Crassostrea_gigas_v9_tracks/Cgigas_v9_TE.gff  | uniq"
     ],
     "language": "python",
     "metadata": {},
     "outputs": [
      {
       "metadata": {},
       "output_type": "pyout",
       "prompt_number": 5,
       "text": [
        "['TRF', 'WUBlastX']"
       ]
      }
     ],
     "prompt_number": 5
    },
    {
     "cell_type": "code",
     "collapsed": false,
     "input": [
      "!awk '{print $3}' /Volumes/web/trilobite/Crassostrea_gigas_v9_tracks/Cgigas_v9_TE.gff  | sort | uniq"
     ],
     "language": "python",
     "metadata": {},
     "outputs": [
      {
       "output_type": "stream",
       "stream": "stdout",
       "text": [
        "DNA\r\n",
        "DNA?_Crypton?\r\n",
        "DNA_Academ\r\n",
        "DNA_Chapaev\r\n",
        "DNA_Chapaev-Cha\r\n",
        "DNA_Crypton\r\n",
        "DNA_En-Spm\r\n",
        "DNA_Harbinger\r\n",
        "DNA_Helitron\r\n",
        "DNA_IS\r\n",
        "DNA_IS4EU\r\n",
        "DNA_Kolobok\r\n",
        "DNA_Kolobok-Hyd\r\n",
        "DNA_Kolobok-IS4\r\n",
        "DNA_Maverick\r\n",
        "DNA_Merlin\r\n",
        "DNA_MuDR\r\n",
        "DNA_NOF\r\n",
        "DNA_NOF?\r\n",
        "DNA_Novosib\r\n",
        "DNA_P\r\n",
        "DNA_PiggyBac\r\n",
        "DNA_Sola\r\n",
        "DNA_TcMar\r\n",
        "DNA_TcMar-Ant1\r\n",
        "DNA_TcMar-Fot1\r\n",
        "DNA_TcMar-IS630\r\n",
        "DNA_TcMar-IS885\r\n",
        "DNA_TcMar-ISRm1\r\n",
        "DNA_TcMar-M44\r\n",
        "DNA_TcMar-Marin\r\n",
        "DNA_TcMar-Pogo\r\n"
       ]
      },
      {
       "output_type": "stream",
       "stream": "stdout",
       "text": [
        "DNA_TcMar-Stowa\r\n",
        "DNA_TcMar-Tc1\r\n",
        "DNA_TcMar-Tc2\r\n",
        "DNA_TcMar-Tigge\r\n",
        "DNA_TcMar-m44\r\n",
        "DNA_Transib\r\n",
        "DNA_Zator\r\n",
        "DNA_hAT\r\n",
        "DNA_hAT-Ac\r\n",
        "DNA_hAT-Blackja\r\n",
        "DNA_hAT-Charlie\r\n",
        "DNA_hAT-Hobo\r\n",
        "DNA_hAT-Restles\r\n",
        "DNA_hAT-Tag1\r\n",
        "DNA_hAT-Tip100\r\n",
        "DNA_hAT-Tip100?\r\n",
        "DNA_hAT-Tol2\r\n",
        "DNA_hAT-hAT5\r\n",
        "DNA_hAT-hATw\r\n",
        "DNA_hAT-hATx\r\n",
        "LINE_CR1\r\n",
        "LINE_CR1-L2\r\n",
        "LINE_DRE\r\n",
        "LINE_Dong-R4\r\n",
        "LINE_I\r\n",
        "LINE_I-Nimb\r\n",
        "LINE_Jockey\r\n",
        "LINE_L1\r\n",
        "LINE_L1-Tx1\r\n",
        "LINE_L1?\r\n",
        "LINE_L2\r\n",
        "LINE_L2-Hydra\r\n",
        "LINE_LOA\r\n",
        "LINE_Odin\r\n",
        "LINE_Penelope\r\n",
        "LINE_Proto2\r\n",
        "LINE_R1\r\n",
        "LINE_R2\r\n",
        "LINE_R2-Hero\r\n",
        "LINE_RTE\r\n",
        "LINE_RTE-BovB\r\n",
        "LINE_RTE-RTE\r\n"
       ]
      },
      {
       "output_type": "stream",
       "stream": "stdout",
       "text": [
        "LINE_RTE-X\r\n",
        "LINE_Rex-Babar\r\n",
        "LINE_Tad1?\r\n",
        "LINE_Telomeric\r\n",
        "LINE_Zorro\r\n",
        "LTR_Caulimoviru\r\n",
        "LTR_Copia\r\n",
        "LTR_DIRS\r\n",
        "LTR_DIRS?\r\n",
        "LTR_Delta\r\n",
        "LTR_ERV-Foamy\r\n",
        "LTR_ERV-Lenti\r\n",
        "LTR_ERV1\r\n",
        "LTR_ERVK\r\n",
        "LTR_ERVL\r\n",
        "LTR_Foamy\r\n",
        "LTR_Gypsy\r\n",
        "LTR_Gypsy-Cigr\r\n",
        "LTR_Gypsy-Gmr1\r\n",
        "LTR_Gypsy-Troyk\r\n",
        "LTR_Gypsy?\r\n",
        "LTR_Lenti\r\n",
        "LTR_Ngaro\r\n",
        "LTR_Pao\r\n"
       ]
      },
      {
       "output_type": "stream",
       "stream": "stdout",
       "text": [
        "RC_Helitron\r\n",
        "Tandem_Repeat\r\n"
       ]
      },
      {
       "output_type": "stream",
       "stream": "stdout",
       "text": [
        "Unknown\r\n"
       ]
      }
     ],
     "prompt_number": 6
    },
    {
     "cell_type": "heading",
     "level": 2,
     "metadata": {},
     "source": [
      "Creating genomic feature tracks split between 'TRF' and 'WUBlastX'"
     ]
    },
    {
     "cell_type": "code",
     "collapsed": false,
     "input": [
      "!grep \"WUBlast\" /Volumes/web/trilobite/Crassostrea_gigas_v9_tracks/Cgigas_v9_TE.gff | head "
     ],
     "language": "python",
     "metadata": {},
     "outputs": [
      {
       "output_type": "stream",
       "stream": "stdout",
       "text": [
        "scaffold1479\tWUBlastX\tLTR_Gypsy\t2608\t4209\t104\t+\t.\t.\r\n",
        "C33730\tWUBlastX\tLTR_Pao\t1960\t2589\t652\t-\t.\t.\r\n",
        "C33730\tWUBlastX\tLTR_Pao\t3358\t5868\t1471\t-\t.\t.\r\n",
        "C33730\tWUBlastX\tLTR_Pao\t6390\t7283\t627\t-\t.\t.\r\n",
        "C33730\tWUBlastX\tLTR_Pao\t7412\t7684\t35\t-\t.\t.\r\n",
        "scaffold1053\tWUBlastX\tLTR_Pao\t209281\t213366\t2970\t+\t.\t.\r\n",
        "scaffold1053\tWUBlastX\tLTR_Pao\t213366\t214466\t1161\t+\t.\t.\r\n",
        "scaffold1024\tWUBlastX\tLTR_Pao\t160588\t161058\t515\t+\t.\t.\r\n",
        "scaffold1154\tWUBlastX\tLTR_Pao\t208643\t211198\t1815\t+\t.\t.\r\n",
        "scaffold1328\tWUBlastX\tLTR_Pao\t311668\t316782\t3981\t-\t.\t.\r\n"
       ]
      }
     ],
     "prompt_number": 7
    },
    {
     "cell_type": "code",
     "collapsed": false,
     "input": [
      "!grep \"WUBlast\" /Volumes/web/trilobite/Crassostrea_gigas_v9_tracks/Cgigas_v9_TE.gff > /Volumes/web/cnidarian/Cgigas_v9_TE_WUBonly.gff"
     ],
     "language": "python",
     "metadata": {},
     "outputs": [],
     "prompt_number": 8
    },
    {
     "cell_type": "code",
     "collapsed": false,
     "input": [
      "!wc -l /Volumes/web/cnidarian/Cgigas_v9_TE_WUBonly.gff"
     ],
     "language": "python",
     "metadata": {},
     "outputs": [
      {
       "output_type": "stream",
       "stream": "stdout",
       "text": [
        "   58468 /Volumes/web/cnidarian/Cgigas_v9_TE_WUBonly.gff\r\n"
       ]
      }
     ],
     "prompt_number": 10
    },
    {
     "cell_type": "code",
     "collapsed": false,
     "input": [
      "!awk '{print $3}' /Volumes/web/cnidarian/Cgigas_v9_TE_WUBonly.gff  | sort | uniq"
     ],
     "language": "python",
     "metadata": {},
     "outputs": [
      {
       "output_type": "stream",
       "stream": "stdout",
       "text": [
        "DNA\r\n",
        "DNA?_Crypton?\r\n",
        "DNA_Academ\r\n",
        "DNA_Chapaev\r\n",
        "DNA_Chapaev-Cha\r\n",
        "DNA_Crypton\r\n",
        "DNA_En-Spm\r\n",
        "DNA_Harbinger\r\n",
        "DNA_Helitron\r\n",
        "DNA_IS\r\n",
        "DNA_IS4EU\r\n",
        "DNA_Kolobok\r\n",
        "DNA_Kolobok-Hyd\r\n",
        "DNA_Kolobok-IS4\r\n",
        "DNA_Maverick\r\n"
       ]
      },
      {
       "output_type": "stream",
       "stream": "stdout",
       "text": [
        "DNA_Merlin\r\n",
        "DNA_MuDR\r\n",
        "DNA_NOF\r\n",
        "DNA_NOF?\r\n",
        "DNA_Novosib\r\n",
        "DNA_P\r\n",
        "DNA_PiggyBac\r\n",
        "DNA_Sola\r\n",
        "DNA_TcMar\r\n",
        "DNA_TcMar-Ant1\r\n",
        "DNA_TcMar-Fot1\r\n",
        "DNA_TcMar-IS630\r\n",
        "DNA_TcMar-IS885\r\n",
        "DNA_TcMar-ISRm1\r\n",
        "DNA_TcMar-M44\r\n",
        "DNA_TcMar-Marin\r\n",
        "DNA_TcMar-Pogo\r\n",
        "DNA_TcMar-Stowa\r\n",
        "DNA_TcMar-Tc1\r\n",
        "DNA_TcMar-Tc2\r\n",
        "DNA_TcMar-Tigge\r\n",
        "DNA_TcMar-m44\r\n",
        "DNA_Transib\r\n",
        "DNA_Zator\r\n",
        "DNA_hAT\r\n",
        "DNA_hAT-Ac\r\n",
        "DNA_hAT-Blackja\r\n",
        "DNA_hAT-Charlie\r\n",
        "DNA_hAT-Hobo\r\n",
        "DNA_hAT-Restles\r\n",
        "DNA_hAT-Tag1\r\n",
        "DNA_hAT-Tip100\r\n",
        "DNA_hAT-Tip100?\r\n",
        "DNA_hAT-Tol2\r\n",
        "DNA_hAT-hAT5\r\n",
        "DNA_hAT-hATw\r\n",
        "DNA_hAT-hATx\r\n",
        "LINE_CR1\r\n",
        "LINE_CR1-L2\r\n",
        "LINE_DRE\r\n",
        "LINE_Dong-R4\r\n",
        "LINE_I\r\n",
        "LINE_I-Nimb\r\n",
        "LINE_Jockey\r\n",
        "LINE_L1\r\n",
        "LINE_L1-Tx1\r\n",
        "LINE_L1?\r\n",
        "LINE_L2\r\n",
        "LINE_L2-Hydra\r\n",
        "LINE_LOA\r\n",
        "LINE_Odin\r\n",
        "LINE_Penelope\r\n"
       ]
      },
      {
       "output_type": "stream",
       "stream": "stdout",
       "text": [
        "LINE_Proto2\r\n",
        "LINE_R1\r\n",
        "LINE_R2\r\n",
        "LINE_R2-Hero\r\n",
        "LINE_RTE\r\n",
        "LINE_RTE-BovB\r\n",
        "LINE_RTE-RTE\r\n",
        "LINE_RTE-X\r\n",
        "LINE_Rex-Babar\r\n",
        "LINE_Tad1?\r\n",
        "LINE_Telomeric\r\n",
        "LINE_Zorro\r\n",
        "LTR_Caulimoviru\r\n",
        "LTR_Copia\r\n",
        "LTR_DIRS\r\n",
        "LTR_DIRS?\r\n",
        "LTR_Delta\r\n",
        "LTR_ERV-Foamy\r\n",
        "LTR_ERV-Lenti\r\n",
        "LTR_ERV1\r\n",
        "LTR_ERVK\r\n",
        "LTR_ERVL\r\n",
        "LTR_Foamy\r\n",
        "LTR_Gypsy\r\n",
        "LTR_Gypsy-Cigr\r\n"
       ]
      },
      {
       "output_type": "stream",
       "stream": "stdout",
       "text": [
        "LTR_Gypsy-Gmr1\r\n",
        "LTR_Gypsy-Troyk\r\n",
        "LTR_Gypsy?\r\n",
        "LTR_Lenti\r\n",
        "LTR_Ngaro\r\n",
        "LTR_Pao\r\n",
        "RC_Helitron\r\n",
        "Unknown\r\n"
       ]
      }
     ],
     "prompt_number": 21
    },
    {
     "cell_type": "code",
     "collapsed": false,
     "input": [
      "!grep \"TRF\" /Volumes/web/trilobite/Crassostrea_gigas_v9_tracks/Cgigas_v9_TE.gff | head "
     ],
     "language": "python",
     "metadata": {},
     "outputs": [
      {
       "output_type": "stream",
       "stream": "stdout",
       "text": [
        "C21242\tTRF\tTandem_Repeat\t38\t100\t72\t+\t.\t.\r\n",
        "C21306\tTRF\tTandem_Repeat\t35\t143\t112\t+\t.\t.\r\n",
        "C21306\tTRF\tTandem_Repeat\t574\t947\t208\t+\t.\t.\r\n",
        "C21306\tTRF\tTandem_Repeat\t574\t901\t313\t+\t.\t.\r\n",
        "C21372\tTRF\tTandem_Repeat\t643\t671\t58\t+\t.\t.\r\n",
        "C22542\tTRF\tTandem_Repeat\t1727\t1774\t96\t+\t.\t.\r\n",
        "C22728\tTRF\tTandem_Repeat\t426\t491\t105\t+\t.\t.\r\n",
        "C23428\tTRF\tTandem_Repeat\t130\t415\t202\t+\t.\t.\r\n",
        "C23796\tTRF\tTandem_Repeat\t547\t608\t97\t+\t.\t.\r\n",
        "C24440\tTRF\tTandem_Repeat\t1059\t1089\t62\t+\t.\t.\r\n"
       ]
      }
     ],
     "prompt_number": 9
    },
    {
     "cell_type": "code",
     "collapsed": false,
     "input": [
      "!grep \"TRF\" /Volumes/web/trilobite/Crassostrea_gigas_v9_tracks/Cgigas_v9_TE.gff > /Volumes/web/cnidarian/Cgigas_v9_TE_TRFonly.gff"
     ],
     "language": "python",
     "metadata": {},
     "outputs": [],
     "prompt_number": 11
    },
    {
     "cell_type": "code",
     "collapsed": false,
     "input": [
      "!wc -l /Volumes/web/cnidarian/Cgigas_v9_TE_TRFonly.gff"
     ],
     "language": "python",
     "metadata": {},
     "outputs": [
      {
       "output_type": "stream",
       "stream": "stdout",
       "text": [
        "   61319 /Volumes/web/cnidarian/Cgigas_v9_TE_TRFonly.gff\r\n"
       ]
      }
     ],
     "prompt_number": 12
    },
    {
     "cell_type": "code",
     "collapsed": false,
     "input": [
      "61319 + 58468"
     ],
     "language": "python",
     "metadata": {},
     "outputs": [
      {
       "metadata": {},
       "output_type": "pyout",
       "prompt_number": 19,
       "text": [
        "119787"
       ]
      }
     ],
     "prompt_number": 19
    },
    {
     "cell_type": "code",
     "collapsed": false,
     "input": [
      "!awk '{print $3}' /Volumes/web/cnidarian/Cgigas_v9_TE_TRFonly.gff  | sort | uniq"
     ],
     "language": "python",
     "metadata": {},
     "outputs": [
      {
       "output_type": "stream",
       "stream": "stdout",
       "text": [
        "Tandem_Repeat\r\n"
       ]
      }
     ],
     "prompt_number": 20
    },
    {
     "cell_type": "code",
     "collapsed": false,
     "input": [
      "btd = \"/Applications/bedtools2/bin/\""
     ],
     "language": "python",
     "metadata": {},
     "outputs": [],
     "prompt_number": 24
    },
    {
     "cell_type": "code",
     "collapsed": false,
     "input": [
      "!{btd}intersectbed"
     ],
     "language": "python",
     "metadata": {},
     "outputs": [
      {
       "output_type": "stream",
       "stream": "stdout",
       "text": [
        "\r\n",
        "Tool:    bedtools intersect (aka intersectBed)\r\n",
        "Version: v2.21.0\r\n",
        "Summary: Report overlaps between two feature files.\r\n",
        "\r\n",
        "Usage:   bedtools intersect [OPTIONS] -a <bed/gff/vcf> -b <bed/gff/vcf>\r\n",
        "\r\n",
        "\t\tNote: -b may be followed with multiple databases and/or \r\n",
        "\t\twildcard (*) character(s). \r\n",
        "Options: \r\n",
        "\t-abam\tThe A input file is in BAM format.  Output will be BAM as well.\r\n",
        "\r\n",
        "\t-ubam\tWrite uncompressed BAM output. Default writes compressed BAM.\r\n",
        "\r\n",
        "\t-bed\tWhen using BAM input (-abam), write output as BED. The default\r\n",
        "\t\tis to write output in BAM when using -abam.\r\n",
        "\r\n",
        "\t-wa\tWrite the original entry in A for each overlap.\r\n",
        "\r\n",
        "\t-wb\tWrite the original entry in B for each overlap.\r\n",
        "\t\t- Useful for knowing _what_ A overlaps. Restricted by -f and -r.\r\n",
        "\r\n",
        "\t-loj\tPerform a \"left outer join\". That is, for each feature in A\r\n",
        "\t\treport each overlap with B.  If no overlaps are found, \r\n",
        "\t\treport a NULL feature for B.\r\n",
        "\r\n",
        "\t-wo\tWrite the original A and B entries plus the number of base\r\n",
        "\t\tpairs of overlap between the two features.\r\n",
        "\t\t- Overlaps restricted by -f and -r.\r\n",
        "\t\t  Only A features with overlap are reported.\r\n",
        "\r\n",
        "\t-wao\tWrite the original A and B entries plus the number of base\r\n",
        "\t\tpairs of overlap between the two features.\r\n",
        "\t\t- Overlapping features restricted by -f and -r.\r\n",
        "\t\t  However, A features w/o overlap are also reported\r\n",
        "\t\t  with a NULL B feature and overlap = 0.\r\n",
        "\r\n",
        "\t-u\tWrite the original A entry _once_ if _any_ overlaps found in B.\r\n",
        "\t\t- In other words, just report the fact >=1 hit was found.\r\n",
        "\t\t- Overlaps restricted by -f and -r.\r\n",
        "\r\n",
        "\t-c\tFor each entry in A, report the number of overlaps with B.\r\n",
        "\t\t- Reports 0 for A entries that have no overlap with B.\r\n",
        "\t\t- Overlaps restricted by -f and -r.\r\n",
        "\r\n",
        "\t-v\tOnly report those entries in A that have _no overlaps_ with B.\r\n",
        "\t\t- Similar to \"grep -v\" (an homage).\r\n",
        "\r\n",
        "\t-f\tMinimum overlap required as a fraction of A.\r\n",
        "\t\t- Default is 1E-9 (i.e., 1bp).\r\n",
        "\t\t- FLOAT (e.g. 0.50)\r\n",
        "\r\n",
        "\t-r\tRequire that the fraction overlap be reciprocal for A and B.\r\n",
        "\t\t- In other words, if -f is 0.90 and -r is used, this requires\r\n",
        "\t\t  that B overlap 90% of A and A _also_ overlaps 90% of B.\r\n",
        "\r\n",
        "\t-s\tRequire same strandedness.  That is, only report hits in B\r\n",
        "\t\tthat overlap A on the _same_ strand.\r\n",
        "\t\t- By default, overlaps are reported without respect to strand.\r\n",
        "\r\n",
        "\t-S\tRequire different strandedness.  That is, only report hits in B\r\n",
        "\t\tthat overlap A on the _opposite_ strand.\r\n",
        "\t\t- By default, overlaps are reported without respect to strand.\r\n",
        "\r\n",
        "\t-split\tTreat \"split\" BAM or BED12 entries as distinct BED intervals.\r\n",
        "\r\n",
        "\t-sorted\tUse the \"chromsweep\" algorithm for sorted (-k1,1 -k2,2n) input.\r\n",
        "\r\n",
        "\t-g\tProvide a genome file to enforce consistent chromosome sort order\r\n",
        "\t\tacross input files. Only applies when used with -sorted option.\r\n",
        "\r\n",
        "\t-header\tPrint the header from the A file prior to results.\r\n",
        "\r\n",
        "\t-nobuf\tDisable buffered output. Using this option will cause each line\r\n",
        "\t\tof output to be printed as it is generated, rather than saved\r\n",
        "\t\tin a buffer. This will make printing large output files \r\n",
        "\t\tnoticeably slower, but can be useful in conjunction with\r\n",
        "\t\tother software tools and scripts that need to process one\r\n",
        "\t\tline of bedtools output at a time.\r\n",
        "\r\n",
        "\t-names\tWhen using multiple databases, provide an alias for each that\r\n",
        "\t\twill appear instead of a fileId when also printing the DB record.\r\n",
        "\r\n",
        "\t-filenames\tWhen using multiple databases, show each complete filename\r\n",
        "\t\t\tinstead of a fileId when also printing the DB record.\r\n",
        "\r\n",
        "\t-sortout\tWhen using multiple databases, sort the output DB hits\r\n",
        "\t\t\tfor each record.\r\n",
        "\r\n",
        "\t-iobuf\tFollow with desired integer size of read buffer.\r\n",
        "\t\tOptional suffixes K/M/G supported.\r\n",
        "\t\tNote: currently has no effect with compressed files.\r\n",
        "\r\n",
        "Notes: \r\n",
        "\t(1) When a BAM file is used for the A file, the alignment is retained if overlaps exist,\r\n",
        "\tand exlcuded if an overlap cannot be found.  If multiple overlaps exist, they are not\r\n",
        "\treported, as we are only testing for one or more overlaps.\r\n",
        "\r\n"
       ]
      }
     ],
     "prompt_number": 28
    },
    {
     "cell_type": "code",
     "collapsed": false,
     "input": [
      "!{btd}intersectbed -u \\\n",
      "-a /Volumes/web/cnidarian/Cgigas_v9_TE_WUBonly.gff \\\n",
      "-b /Volumes/web/trilobite/Crassostrea_gigas_v9_tracks/Cgigas_v9_gene.gff \\\n",
      "| wc -l"
     ],
     "language": "python",
     "metadata": {},
     "outputs": [
      {
       "output_type": "stream",
       "stream": "stdout",
       "text": [
        "   13558\r\n"
       ]
      }
     ],
     "prompt_number": 36
    },
    {
     "cell_type": "code",
     "collapsed": false,
     "input": [
      "!{btd}intersectbed -u \\\n",
      "-a /Volumes/web/cnidarian/Cgigas_v9_TE_WUBonly.gff \\\n",
      "-b /Volumes/web/trilobite/Crassostrea_gigas_v9_tracks/Cgigas_v9_exon.gff \\\n",
      "| wc -l"
     ],
     "language": "python",
     "metadata": {},
     "outputs": [
      {
       "output_type": "stream",
       "stream": "stdout",
       "text": [
        "^C\r\n"
       ]
      }
     ]
    },
    {
     "cell_type": "code",
     "collapsed": false,
     "input": [
      "!{btd}intersectbed -u \\\n",
      "-a /Volumes/web/cnidarian/Cgigas_v9_TE_WUBonly.gff \\\n",
      "-b /Volumes/web/trilobite/Crassostrea_gigas_v9_tracks/Cgigas_v9_intron.gff \\\n",
      "| wc -l"
     ],
     "language": "python",
     "metadata": {},
     "outputs": []
    },
    {
     "cell_type": "code",
     "collapsed": false,
     "input": [],
     "language": "python",
     "metadata": {},
     "outputs": []
    },
    {
     "cell_type": "code",
     "collapsed": false,
     "input": [
      "!{btd}intersectbed -u \\\n",
      "-a /Volumes/web/cnidarian/Cgigas_v9_TE_WUBonly.gff \\\n",
      "-b /Volumes/web/trilobite/Crassostrea_gigas_v9_tracks/Cgigas_v9_COMP_gene_prom_TE.bed \\\n",
      "| wc -l"
     ],
     "language": "python",
     "metadata": {},
     "outputs": []
    },
    {
     "cell_type": "code",
     "collapsed": false,
     "input": [],
     "language": "python",
     "metadata": {},
     "outputs": []
    }
   ],
   "metadata": {}
  }
 ]
}