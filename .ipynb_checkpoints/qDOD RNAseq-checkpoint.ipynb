{
 "metadata": {
  "name": ""
 },
 "nbformat": 3,
 "nbformat_minor": 0,
 "worksheets": [
  {
   "cells": [
    {
     "cell_type": "markdown",
     "metadata": {},
     "source": [
      "<img src=\"http://eagle.fish.washington.edu/cnidarian/skitch/ga_182E7EED.png\" alt=\"ga_182E7EED.png\" width = 50%/>"
     ]
    },
    {
     "cell_type": "heading",
     "level": 1,
     "metadata": {},
     "source": [
      "RNA-Seq_DH3"
     ]
    },
    {
     "cell_type": "markdown",
     "metadata": {},
     "source": [
      "RNA-Seq DH3; pooled gill, Drayton Harbor"
     ]
    },
    {
     "cell_type": "markdown",
     "metadata": {},
     "source": [
      "[Direct Link](https://sqlshare.escience.washington.edu/sqlshare#s=query/sr320%40washington.edu/RNA-Seq_DH3)"
     ]
    },
    {
     "cell_type": "code",
     "collapsed": false,
     "input": [
      "!python /Users/sr320/sqlshare-pythonclient/tools/fetchdata.py -s \"set rowcount 10 SELECT * FROM [sr320@washington.edu].[RNA-Seq_DH3]\" -f tsv -o /Volumes/web/cnidarian/pDOD_DH3.txt\n"
     ],
     "language": "python",
     "metadata": {},
     "outputs": [],
     "prompt_number": 1
    },
    {
     "cell_type": "code",
     "collapsed": false,
     "input": [
      "!head /Volumes/web/cnidarian/pDOD_DH3.txt"
     ],
     "language": "python",
     "metadata": {},
     "outputs": [
      {
       "output_type": "stream",
       "stream": "stdout",
       "text": [
        "Feature ID\tExpression values\tTranscripts annotated\tDetected transcripts\tExon length\tUnique gene reads\tTotal gene reads\tUnique exon reads\tTotal exon reads\tRatio of unique to total (exon reads)\tUnique exon-exon reads\tTotal exon-exon reads\tUnique intron-exon reads\tTotal intron-exon reads\tExons\tPutative exons\tRPKM\tMedian coverage\tChromosome\tChromosome region start\tChromosome region end\r",
        "\r\n",
        "CGI_10000001\t9.471\t1\t1\t351\t0\t31\t0\t31\t0\t0\t0\t0\t0\t1\t0\t9.471\t0\tC16582\t35\t385\r",
        "\r\n",
        "CGI_10000002\t8.695\t1\t1\t333\t27\t27\t27\t27\t1\t0\t0\t0\t0\t1\t0\t8.695\t3\tC17212\t31\t363\r",
        "\r\n",
        "CGI_10000003\t3.763\t1\t1\t228\t5\t8\t5\t8\t0.625\t0\t0\t0\t0\t1\t0\t3.763\t1\tC17316\t30\t257\r",
        "\r\n",
        "CGI_10000004\t6.599\t2\t2\t195\t12\t12\t12\t12\t1\t0\t0\t0\t0\t2\t0\t6.599\t1\tC17476\t34\t257\r",
        "\r\n",
        "CGI_10000005\t0\t1\t0\t192\t0\t0\t0\t0\t?\t0\t0\t0\t0\t1\t0\t0\t0\tC17998\t196\t387\r",
        "\r\n",
        "CGI_10000009\t467.53\t1\t1\t378\t6\t1648\t6\t1648\t3.641E-3\t0\t0\t0\t0\t1\t0\t467.53\t16\tC18346\t174\t551\r",
        "\r\n",
        "CGI_10000010\t677.524\t1\t1\t261\t0\t1649\t0\t1649\t0\t0\t0\t0\t0\t1\t0\t677.524\t80\tC18428\t286\t546\r",
        "\r\n",
        "CGI_10000011\t12.464\t1\t1\t456\t47\t53\t47\t53\t0.887\t0\t0\t0\t0\t1\t0\t12.464\t3\tC18964\t203\t658\r",
        "\r\n",
        "CGI_10000012\t0\t1\t0\t645\t0\t0\t0\t0\t?\t0\t0\t0\t0\t1\t0\t0\t0\tC18980\t30\t674\r",
        "\r\n"
       ]
      }
     ],
     "prompt_number": 2
    },
    {
     "cell_type": "code",
     "collapsed": false,
     "input": [],
     "language": "python",
     "metadata": {},
     "outputs": []
    }
   ],
   "metadata": {}
  }
 ]
}