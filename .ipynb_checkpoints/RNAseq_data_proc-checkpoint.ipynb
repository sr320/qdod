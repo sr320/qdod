{
 "metadata": {
  "name": ""
 },
 "nbformat": 3,
 "nbformat_minor": 0,
 "worksheets": [
  {
   "cells": [
    {
     "cell_type": "heading",
     "level": 1,
     "metadata": {},
     "source": [
      "Workflows for processing raw RNAseq file for integration into qDOD platform"
     ]
    },
    {
     "cell_type": "heading",
     "level": 2,
     "metadata": {},
     "source": [
      "Solid Data"
     ]
    },
    {
     "cell_type": "markdown",
     "metadata": {},
     "source": [
      "Step 1: Import into Solid data (csfasta and qual) into CLC"
     ]
    },
    {
     "cell_type": "markdown",
     "metadata": {},
     "source": [
      "<img src=\"http://eagle.fish.washington.edu/cnidarian/skitch/CLC_Genomics_Workbench_6.5_17FB3EF4.png\" alt=\"CLC_Genomics_Workbench_6.5_17FB3EF4.png\"/>"
     ]
    },
    {
     "cell_type": "code",
     "collapsed": false,
     "input": [
      "ls /Volumes/web/cnidarian/qdod2"
     ],
     "language": "python",
     "metadata": {},
     "outputs": [
      {
       "output_type": "stream",
       "stream": "stdout",
       "text": [
        "RNA-Seq_DH2.csv\r\n",
        "RNA-Seq_DH2.csv.sqlshare.restart\r\n",
        "RNA-Seq_DH2.sqlshare.restart\r\n",
        "solid0078_20091105_BB3 trimmed RNA-Seq (Workflow Output).csv\r\n",
        "solid0078_20091105_BB3 trimmed RNA-Seq (Workflow Output).txt\r\n",
        "solid0078_20091105_BB3 trimmed report.pdf\r\n",
        "solid0078_20091105_BB3 trimmed un-mapped reads [no read group] (single) contig list.fa\r\n",
        "solid0078_20091105_DH2 trimmed RNA-Seq (Workflow Output).csv\r\n",
        "solid0078_20091105_DH2 trimmed RNA-Seq (Workflow Output).txt\r\n",
        "solid0078_20091105_DH2 trimmed report.pdf\r\n",
        "solid0078_20091105_DH2 trimmed un-mapped reads [no read group] (single) contig list.fa\r\n",
        "solid0078_20091105_DH3 trimmed RNA-Seq (Workflow Output).csv\r\n",
        "solid0078_20091105_DH3 trimmed RNA-Seq (Workflow Output).txt\r\n",
        "solid0078_20091105_DH3 trimmed report.pdf\r\n",
        "solid0078_20091105_DH3 trimmed un-mapped reads [no read group] (single) contig list.fa\r\n"
       ]
      }
     ],
     "prompt_number": 22
    },
    {
     "cell_type": "code",
     "collapsed": false,
     "input": [
      "#solid0078_20091105_DH2\n",
      "!head /Volumes/web/cnidarian/qdod2/solid0078_20091105_DH2\\ trimmed\\ RNA-Seq\\ \\(Workflow\\ Output\\).csv"
     ],
     "language": "python",
     "metadata": {},
     "outputs": [
      {
       "output_type": "stream",
       "stream": "stdout",
       "text": [
        "\"Feature ID\",\"Expression values\",\"Transcripts annotated\",\"Detected transcripts\",\"Exon length\",\"Unique gene reads\",\"Total gene reads\",\"Unique exon reads\",\"Total exon reads\",\"Ratio of unique to total (exon reads)\",\"Unique exon-exon reads\",\"Total exon-exon reads\",\"Unique intron-exon reads\",\"Total intron-exon reads\",\"Exons\",\"Putative exons\",\"RPKM\",\"Median coverage\",\"Chromosome\",\"Chromosome region start\",\"Chromosome region end\"\r\n",
        "\"CGI_10000780\",\"0.148\",\"2\",\"1\",\"1350\",\"1\",\"2\",\"1\",\"2\",\"0.5\",\"0\",\"0\",\"0\",\"0\",\"2\",\"0\",\"0.148\",\"0\",\"scaffold350\",\"1105\",\"3206\"\r\n",
        "\"CGI_10000456\",\"12.346\",\"4\",\"4\",\"438\",\"44\",\"61\",\"41\",\"54\",\"0.759\",\"0\",\"0\",\"2\",\"6\",\"4\",\"0\",\"12.346\",\"2\",\"scaffold28720\",\"349\",\"2038\"\r\n",
        "\"CGI_10000457\",\"0\",\"7\",\"0\",\"603\",\"0\",\"0\",\"0\",\"0\",\"?\",\"0\",\"0\",\"0\",\"0\",\"7\",\"0\",\"0\",\"0\",\"scaffold28720\",\"3692\",\"5692\"\r\n",
        "\"CGI_10000774\",\"31.244\",\"2\",\"2\",\"375\",\"117\",\"117\",\"117\",\"117\",\"1\",\"0\",\"0\",\"1\",\"1\",\"2\",\"0\",\"31.244\",\"9\",\"scaffold31684\",\"6549\",\"7563\"\r\n",
        "\"CGI_10000917\",\"0\",\"1\",\"0\",\"426\",\"0\",\"0\",\"0\",\"0\",\"?\",\"0\",\"0\",\"0\",\"0\",\"1\",\"0\",\"0\",\"0\",\"scaffold32586\",\"1736\",\"2161\"\r\n",
        "\"CGI_10000861\",\"0.6\",\"1\",\"1\",\"2004\",\"12\",\"12\",\"12\",\"12\",\"1\",\"0\",\"0\",\"0\",\"0\",\"1\",\"0\",\"0.6\",\"0\",\"scaffold900\",\"6516\",\"8519\"\r\n",
        "\"CGI_10000994\",\"27.133\",\"11\",\"11\",\"1635\",\"389\",\"477\",\"361\",\"443\",\"0.815\",\"0\",\"0\",\"31\",\"35\",\"11\",\"0\",\"27.133\",\"7\",\"scaffold33132\",\"5089\",\"12821\"\r\n",
        "\"CGI_10000643\",\"0.181\",\"4\",\"1\",\"552\",\"2\",\"2\",\"1\",\"1\",\"1\",\"0\",\"0\",\"0\",\"0\",\"4\",\"0\",\"0.181\",\"0\",\"scaffold740\",\"109\",\"2125\"\r\n",
        "\"CGI_10000763\",\"0.804\",\"3\",\"2\",\"249\",\"4\",\"4\",\"2\",\"2\",\"1\",\"0\",\"0\",\"0\",\"0\",\"3\",\"0\",\"0.804\",\"0\",\"scaffold31534\",\"1194\",\"3724\"\r\n"
       ]
      }
     ],
     "prompt_number": 2
    },
    {
     "cell_type": "code",
     "collapsed": false,
     "input": [
      "#copy and rename RNA-seq_DH2\n",
      "cp /Volumes/web/cnidarian/qdod2/solid0078_20091105_DH2\\ trimmed\\ RNA-Seq\\ \\(Workflow\\ Output\\).csv /Volumes/web/cnidarian/qdod2/RNA-Seq_DH2"
     ],
     "language": "python",
     "metadata": {},
     "outputs": [],
     "prompt_number": 10
    },
    {
     "cell_type": "raw",
     "metadata": {},
     "source": [
      "#upload to SQLShare\n",
      "!python /Users/sr320/sqlshare-pythonclient/tools/singleupload.py -d RNA-Seq_DH2 /Volumes/web/cnidarian/qdod2/RNA-Seq_DH2.csv"
     ]
    },
    {
     "cell_type": "code",
     "collapsed": false,
     "input": [
      "!python /Users/sr320/sqlshare-pythonclient/tools/settags.py RNA-Seq_DH2 \"qdod2 RNAseq gill\""
     ],
     "language": "python",
     "metadata": {},
     "outputs": [
      {
       "output_type": "stream",
       "stream": "stdout",
       "text": [
        "send: 'GET /REST.svc/v1/user/sr320@washington.edu HTTP/1.1\\r\\nHost: rest.sqlshare.escience.washington.edu\\r\\nAccept-Encoding: identity\\r\\nAuthorization: ss_apikey sr320@washington.edu : c8c52036bdecbbc798d3248bcc15c15c\\r\\n\\r\\n'\r\n"
       ]
      },
      {
       "output_type": "stream",
       "stream": "stdout",
       "text": [
        "reply: 'HTTP/1.1 200 OK\\r\\n'\r\n",
        "header: Cache-Control: private\r",
        "\r\n",
        "header: Transfer-Encoding: chunked\r",
        "\r\n",
        "header: Content-Type: application/json; charset=utf-8\r",
        "\r\n",
        "header: Server: Microsoft-IIS/7.0\r",
        "\r\n",
        "header: X-AspNet-Version: 4.0.30319\r",
        "\r\n",
        "header: X-Powered-By: ASP.NET\r",
        "\r\n",
        "header: Date: Wed, 02 Oct 2013 02:24:57 GMT\r",
        "\r\n"
       ]
      },
      {
       "output_type": "stream",
       "stream": "stdout",
       "text": [
        "send: 'PUT /REST.svc/v2/db/dataset/sr320%40washington.edu/RNA-Seq_DH2/tags HTTP/1.1\\r\\nHost: rest.sqlshare.escience.washington.edu\\r\\nAccept-Encoding: identity\\r\\nContent-Length: 71\\r\\nContent-Type: application/json\\r\\nAuthorization: ss_apikey sr320@washington.edu : c8c52036bdecbbc798d3248bcc15c15c\\r\\nAccept: application/json\\r\\n\\r\\n[{\"name\": \"sr320@washington.edu\", \"tags\": [\"qdod2\", \"RNAseq\", \"gill\"]}]'\r\n"
       ]
      },
      {
       "output_type": "stream",
       "stream": "stdout",
       "text": [
        "reply: 'HTTP/1.1 200 OK\\r\\n'\r\n",
        "header: Cache-Control: private\r",
        "\r\n",
        "header: Transfer-Encoding: chunked\r",
        "\r\n",
        "header: Content-Type: application/json; charset=utf-8\r",
        "\r\n",
        "header: Server: Microsoft-IIS/7.0\r",
        "\r\n",
        "header: X-AspNet-Version: 4.0.30319\r",
        "\r\n",
        "header: X-Powered-By: ASP.NET\r",
        "\r\n",
        "header: Date: Wed, 02 Oct 2013 02:24:57 GMT\r",
        "\r\n",
        "tags ['qdod2', 'RNAseq', 'gill'] added to dataset RNA-Seq_DH2\r\n"
       ]
      }
     ],
     "prompt_number": 18
    },
    {
     "cell_type": "code",
     "collapsed": false,
     "input": [
      "\n",
      "!python /Users/sr320/sqlshare-pythonclient/tools/singleupload.py -d RNA-Seq_DH3 /Volumes/web/cnidarian/qdod2/solid0078_20091105_DH3\\ trimmed\\ RNA-Seq\\ \\(Workflow\\ Output\\).csv"
     ],
     "language": "python",
     "metadata": {},
     "outputs": [
      {
       "output_type": "stream",
       "stream": "stdout",
       "text": [
        "processing chunk line 0 to 28028 (0.260717153549 s elapsed)\r\n",
        "pushing /Volumes/web/cnidarian/qdod2/solid0078_20091105_DH3 trimmed RNA-Seq (Workflow Output).csv...\r\n"
       ]
      },
      {
       "output_type": "stream",
       "stream": "stdout",
       "text": [
        "parsing 849B12E1...\r\n"
       ]
      },
      {
       "output_type": "stream",
       "stream": "stdout",
       "text": [
        "finished RNA-Seq_DH3\r\n"
       ]
      }
     ],
     "prompt_number": 24
    },
    {
     "cell_type": "code",
     "collapsed": false,
     "input": [
      "!python /Users/sr320/sqlshare-pythonclient/tools/settags.py RNA-Seq_DH3 \"qdod2 RNAseq gill\""
     ],
     "language": "python",
     "metadata": {},
     "outputs": [
      {
       "output_type": "stream",
       "stream": "stdout",
       "text": [
        "send: 'GET /REST.svc/v1/user/sr320@washington.edu HTTP/1.1\\r\\nHost: rest.sqlshare.escience.washington.edu\\r\\nAccept-Encoding: identity\\r\\nAuthorization: ss_apikey sr320@washington.edu : c8c52036bdecbbc798d3248bcc15c15c\\r\\n\\r\\n'\r\n"
       ]
      },
      {
       "output_type": "stream",
       "stream": "stdout",
       "text": [
        "reply: 'HTTP/1.1 200 OK\\r\\n'\r\n",
        "header: Cache-Control: private\r",
        "\r\n",
        "header: Transfer-Encoding: chunked\r",
        "\r\n",
        "header: Content-Type: application/json; charset=utf-8\r",
        "\r\n",
        "header: Server: Microsoft-IIS/7.0\r",
        "\r\n",
        "header: X-AspNet-Version: 4.0.30319\r",
        "\r\n",
        "header: X-Powered-By: ASP.NET\r",
        "\r\n",
        "header: Date: Wed, 02 Oct 2013 02:32:49 GMT\r",
        "\r\n"
       ]
      },
      {
       "output_type": "stream",
       "stream": "stdout",
       "text": [
        "send: 'PUT /REST.svc/v2/db/dataset/sr320%40washington.edu/RNA-Seq_DH3/tags HTTP/1.1\\r\\nHost: rest.sqlshare.escience.washington.edu\\r\\nAccept-Encoding: identity\\r\\nContent-Length: 71\\r\\nContent-Type: application/json\\r\\nAuthorization: ss_apikey sr320@washington.edu : c8c52036bdecbbc798d3248bcc15c15c\\r\\nAccept: application/json\\r\\n\\r\\n[{\"name\": \"sr320@washington.edu\", \"tags\": [\"qdod2\", \"RNAseq\", \"gill\"]}]'\r\n"
       ]
      },
      {
       "output_type": "stream",
       "stream": "stdout",
       "text": [
        "reply: 'HTTP/1.1 200 OK\\r\\n'\r\n",
        "header: Cache-Control: private\r",
        "\r\n",
        "header: Transfer-Encoding: chunked\r",
        "\r\n",
        "header: Content-Type: application/json; charset=utf-8\r",
        "\r\n",
        "header: Server: Microsoft-IIS/7.0\r",
        "\r\n",
        "header: X-AspNet-Version: 4.0.30319\r",
        "\r\n",
        "header: X-Powered-By: ASP.NET\r",
        "\r\n",
        "header: Date: Wed, 02 Oct 2013 02:32:49 GMT\r",
        "\r\n",
        "tags ['qdod2', 'RNAseq', 'gill'] added to dataset RNA-Seq_DH3\r\n"
       ]
      }
     ],
     "prompt_number": 25
    },
    {
     "cell_type": "code",
     "collapsed": false,
     "input": [],
     "language": "python",
     "metadata": {},
     "outputs": []
    }
   ],
   "metadata": {}
  }
 ]
}