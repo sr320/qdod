{
 "cells": [
  {
   "cell_type": "markdown",
   "metadata": {
    "button": false,
    "deletable": true,
    "new_sheet": false,
    "run_control": {
     "read_only": false
    }
   },
   "source": [
    "# Deriving protein Annotation based on ensemblmetazoa"
   ]
  },
  {
   "cell_type": "markdown",
   "metadata": {
    "run_control": {}
   },
   "source": [
    "![pic](img/Ensembl_Metazoa.png)"
   ]
  },
  {
   "cell_type": "code",
   "execution_count": 2,
   "metadata": {
    "collapsed": false,
    "run_control": {}
   },
   "outputs": [
    {
     "name": "stdout",
     "output_type": "stream",
     "text": [
      "Crassostrea_gigas.GCA_000297895.1.29.pep.all.fa\r\n"
     ]
    }
   ],
   "source": [
    "!ls data/"
   ]
  },
  {
   "cell_type": "code",
   "execution_count": 4,
   "metadata": {
    "collapsed": false,
    "run_control": {}
   },
   "outputs": [
    {
     "name": "stdout",
     "output_type": "stream",
     "text": [
      ">EKC21896 pep:novel supercontig:GCA_000297895.1:scaffold39040:587:10567:-1 gene:CGI_10003144 transcript:EKC21896 description:\"C-type lectin domain family 10 member A \"\r\n",
      "MEHRVMTQSCDGDWVRYGDSCYRYYTSQMAWIYAFKTCQSDNGFLTDIENADEQAFLQNL\r\n",
      "TSRAKFWISASDSVGDWFKWMWYGGIHPWGYTNWDTAFYLTEDPVLTLAVEASSNETRLI\r\n",
      "CAFIFNISDVDFSVEWYLNDKMKCVVTPCMPGNCSMRGSSRESNVISAKIQVW\r\n",
      ">EKC21897 pep:novel supercontig:GCA_000297895.1:scaffold39040:38002:64552:-1 gene:CGI_10003145 transcript:EKC21897 description:\"WD repeat-containing protein C10orf79 \"\r\n",
      "MDAVGSLELSWAQGYNGGKVGYIDKDVICYQAGSNIKFIAEDGAETVFNFKGNGVGPFAV\r\n",
      "HATNKCFAVAERCLNPKITVYVYPTFREAAVLKDGAKLEYRSLVFSHSEYMVTITGIPEF\r\n",
      "QLMLWRYTDGTKLTSVDITSDPVSSVTFNPGNWRQLCVTTEKSMTVWNTEQSNDKYVMLP\r\n",
      "QKIKLPAENPSLNSDEEKDRDIPTRASTRMTRYTIDLPKAAIAGLVGERAEALDEVQDTT\r\n",
      "PRVVPLSHTWSPSGDVYVGCQGGQILKVDGEIYKAKLFYHPLPPASAPNSRATSATSRFN\r\n"
     ]
    }
   ],
   "source": [
    "!head data/Crassostrea_gigas.GCA_000297895.1.29.pep.all.fa"
   ]
  },
  {
   "cell_type": "code",
   "execution_count": 6,
   "metadata": {
    "collapsed": false,
    "run_control": {}
   },
   "outputs": [
    {
     "name": "stdout",
     "output_type": "stream",
     "text": [
      "   26089\r\n"
     ]
    }
   ],
   "source": [
    "!grep \">\" data/Crassostrea_gigas.GCA_000297895.1.29.pep.all.fa | wc -l"
   ]
  },
  {
   "cell_type": "code",
   "execution_count": 7,
   "metadata": {
    "collapsed": true,
    "run_control": {}
   },
   "outputs": [],
   "source": [
    "!grep \">\" data/Crassostrea_gigas.GCA_000297895.1.29.pep.all.fa > analyses/pep.title"
   ]
  },
  {
   "cell_type": "code",
   "execution_count": 8,
   "metadata": {
    "collapsed": false,
    "run_control": {}
   },
   "outputs": [
    {
     "name": "stdout",
     "output_type": "stream",
     "text": [
      ">EKC21896 pep:novel supercontig:GCA_000297895.1:scaffold39040:587:10567:-1 gene:CGI_10003144 transcript:EKC21896 description:\"C-type lectin domain family 10 member A \"\r\n",
      ">EKC21897 pep:novel supercontig:GCA_000297895.1:scaffold39040:38002:64552:-1 gene:CGI_10003145 transcript:EKC21897 description:\"WD repeat-containing protein C10orf79 \"\r\n",
      ">EKC38298 pep:novel supercontig:GCA_000297895.1:scaffold348:113:793:1 gene:CGI_10022967 transcript:EKC38298 description:\"Amidase \"\r\n",
      ">EKC38299 pep:novel supercontig:GCA_000297895.1:scaffold348:3467:4042:1 gene:CGI_10022968 transcript:EKC38299 description:\"Ankyrin repeat domain-containing protein 1 \"\r\n",
      ">EKC38300 pep:novel supercontig:GCA_000297895.1:scaffold348:4307:4717:1 gene:CGI_10022969 transcript:EKC38300 \r\n",
      ">EKC38301 pep:novel supercontig:GCA_000297895.1:scaffold348:46971:56603:1 gene:CGI_10022970 transcript:EKC38301 \r\n",
      ">EKC38302 pep:novel supercontig:GCA_000297895.1:scaffold348:129346:131334:1 gene:CGI_10022971 transcript:EKC38302 description:\"IMPACT-like protein \"\r\n",
      ">EKC38303 pep:novel supercontig:GCA_000297895.1:scaffold348:160739:182763:1 gene:CGI_10022972 transcript:EKC38303 description:\"Putative ATP-dependent RNA helicase DDX58 \"\r\n",
      ">EKC38304 pep:novel supercontig:GCA_000297895.1:scaffold348:191643:203885:1 gene:CGI_10022973 transcript:EKC38304 description:\"Interferon-induced helicase C domain-containing protein 1 \"\r\n",
      ">EKC38305 pep:novel supercontig:GCA_000297895.1:scaffold348:204032:218386:1 gene:CGI_10022974 transcript:EKC38305 description:\"Collagen-like protein 2 \"\r\n"
     ]
    }
   ],
   "source": [
    "!head analyses/pep.title"
   ]
  },
  {
   "cell_type": "code",
   "execution_count": null,
   "metadata": {
    "collapsed": true,
    "run_control": {}
   },
   "outputs": [],
   "source": []
  }
 ],
 "metadata": {
  "kernelspec": {
   "display_name": "Python 3",
   "language": "python",
   "name": "python3"
  },
  "language_info": {
   "codemirror_mode": {
    "name": "ipython",
    "version": 3
   },
   "file_extension": ".py",
   "mimetype": "text/x-python",
   "name": "python",
   "nbconvert_exporter": "python",
   "pygments_lexer": "ipython3",
   "version": "3.5.0"
  }
 },
 "nbformat": 4,
 "nbformat_minor": 0
}
