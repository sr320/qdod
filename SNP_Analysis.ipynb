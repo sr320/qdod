{
 "metadata": {
  "name": ""
 },
 "nbformat": 3,
 "nbformat_minor": 0,
 "worksheets": [
  {
   "cells": [
    {
     "cell_type": "heading",
     "level": 2,
     "metadata": {},
     "source": [
      "Pipeline for Variant Calling"
     ]
    },
    {
     "cell_type": "markdown",
     "metadata": {},
     "source": [
      "<img src=\"http://eagle.fish.washington.edu/cnidarian/skitch/CLC_Genomics_Workbench_6.5_18197688.png\" alt=\"CLC_Genomics_Workbench_6.5_18197688.png\"/>"
     ]
    },
    {
     "cell_type": "heading",
     "level": 3,
     "metadata": {},
     "source": [
      "SB Gill RNA-seq (BS complement)"
     ]
    },
    {
     "cell_type": "code",
     "collapsed": false,
     "input": [
      "!head /Volumes/web/cnidarian/qdod2/s_1.GTGTCTAC_1\\ \\(paired\\)\\ trimmed\\ \\(paired\\)\\ mapping\\ variants.csv"
     ],
     "language": "python",
     "metadata": {},
     "outputs": [
      {
       "output_type": "stream",
       "stream": "stdout",
       "text": [
        "\"Mapping\",\"Reference Position\",\"Type\",\"Length\",\"Reference\",\"Allele\",\"Linkage\",\"Zygosity\",\"Count\",\"Coverage\",\"Frequency\",\"Hyper-allelic\",\"Forward/reverse balance\",\"Average quality\",\"Overlapping annotations\",\"Coding region change\",\"Amino acid change\"\r\n",
        "\"scaffold28720 mapping\",\"1586\",\"SNV\",\"1\",\"A\",\"G\",\"\",\"Homozygous\",\"8\",\"12\",\"66.667\",\"No\",\"0.125\",\"40.5\",\"Gene: CGI_10000456, mRNA: CGI_10000456\",\"\",\"\"\r\n",
        "\"scaffold33132 mapping\",\"4181\",\"SNV\",\"1\",\"T\",\"C\",\"\",\"Homozygous\",\"23\",\"34\",\"67.647\",\"No\",\"0.13\",\"40.696\",\"\",\"\",\"\"\r\n",
        "\"scaffold33132 mapping\",\"4195\",\"SNV\",\"1\",\"C\",\"G\",\"\",\"Heterozygous\",\"10\",\"23\",\"43.478\",\"No\",\"0.5\",\"35.7\",\"\",\"\",\"\"\r\n",
        "\"scaffold33132 mapping\",\"4246\",\"SNV\",\"1\",\"T\",\"C\",\"\",\"Heterozygous\",\"6\",\"16\",\"37.5\",\"No\",\"0.5\",\"37.5\",\"\",\"\",\"\"\r\n",
        "\"scaffold33132 mapping\",\"4370\",\"SNV\",\"1\",\"T\",\"C\",\"\",\"Homozygous\",\"23\",\"31\",\"74.194\",\"No\",\"0.13\",\"39.696\",\"\",\"\",\"\"\r\n",
        "\"scaffold33132 mapping\",\"4384\",\"SNV\",\"1\",\"T\",\"C\",\"\",\"Homozygous\",\"20\",\"28\",\"71.429\",\"No\",\"0.35\",\"38.9\",\"\",\"\",\"\"\r\n",
        "\"scaffold33132 mapping\",\"4398\",\"SNV\",\"1\",\"T\",\"C\",\"\",\"Heterozygous\",\"7\",\"17\",\"41.176\",\"No\",\"0.143\",\"39.143\",\"\",\"\",\"\"\r\n",
        "\"scaffold33132 mapping\",\"4529\",\"SNV\",\"1\",\"C\",\"A\",\"\",\"Heterozygous\",\"6\",\"15\",\"40\",\"No\",\"0.333\",\"38.333\",\"\",\"\",\"\"\r\n",
        "\"scaffold33132 mapping\",\"4544\",\"SNV\",\"1\",\"C\",\"T\",\"\",\"Heterozygous\",\"9\",\"15\",\"60\",\"No\",\"0.222\",\"39.333\",\"\",\"\",\"\"\r\n"
       ]
      }
     ],
     "prompt_number": 1
    },
    {
     "cell_type": "markdown",
     "metadata": {},
     "source": [
      "quick and dirty excel up\n",
      "<img src=\"http://eagle.fish.washington.edu/cnidarian/skitch/SQLShare_-_View_Query_1819790D.png\" alt=\"SQLShare_-_View_Query_1819790D.png\"/>"
     ]
    },
    {
     "cell_type": "code",
     "collapsed": false,
     "input": [],
     "language": "python",
     "metadata": {},
     "outputs": []
    }
   ],
   "metadata": {}
  }
 ]
}