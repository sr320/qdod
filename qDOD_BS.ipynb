{
 "metadata": {
  "name": ""
 },
 "nbformat": 3,
 "nbformat_minor": 0,
 "worksheets": [
  {
   "cells": [
    {
     "cell_type": "heading",
     "level": 1,
     "metadata": {},
     "source": [
      "Bisulfite Seq Genome tracks"
     ]
    },
    {
     "cell_type": "heading",
     "level": 2,
     "metadata": {},
     "source": [
      "BiGill"
     ]
    },
    {
     "cell_type": "markdown",
     "metadata": {},
     "source": [
      "<iframe src=\"http://wl.figshare.com/articles/749728/embed?show_title=1\" width=\"568\" height=\"239\" frameborder=\"0\"></iframe>"
     ]
    },
    {
     "cell_type": "code",
     "collapsed": false,
     "input": [
      "cd /Volumes/web/cnidarian/"
     ],
     "language": "python",
     "metadata": {},
     "outputs": [
      {
       "output_type": "stream",
       "stream": "stdout",
       "text": [
        "/Volumes/web/cnidarian\n"
       ]
      }
     ],
     "prompt_number": 2
    },
    {
     "cell_type": "raw",
     "metadata": {},
     "source": [
      "!wget http://files.figshare.com/1252773/BiGill_CpG_methylation.igv"
     ]
    },
    {
     "cell_type": "code",
     "collapsed": false,
     "input": [
      "!head BiGill_CpG_methylation.igv"
     ],
     "language": "python",
     "metadata": {},
     "outputs": [
      {
       "output_type": "stream",
       "stream": "stdout",
       "text": [
        "C10009\t70\t71\tCpG\t0\r\n",
        "C10049\t43\t44\tCpG\t0.2\r\n",
        "C10049\t52\t53\tCpG\t0.071\r\n",
        "C10075\t87\t88\tCpG\t0.2\r\n",
        "C1009\t89\t90\tCpG\t0.833\r\n",
        "C10093\t107\t108\tCpG\t0.875\r\n",
        "C10107\t28\t29\tCpG\t0\r\n",
        "C10107\t93\t94\tCpG\t0.667\r\n",
        "C10127\t72\t73\tCpG\t0\r\n",
        "C10127\t95\t96\tCpG\t0\r\n"
       ]
      }
     ],
     "prompt_number": 5
    },
    {
     "cell_type": "markdown",
     "metadata": {},
     "source": [
      "in coge"
     ]
    },
    {
     "cell_type": "heading",
     "level": 2,
     "metadata": {},
     "source": [
      "BiGo"
     ]
    },
    {
     "cell_type": "code",
     "collapsed": false,
     "input": [],
     "language": "python",
     "metadata": {},
     "outputs": []
    }
   ],
   "metadata": {}
  }
 ]
}