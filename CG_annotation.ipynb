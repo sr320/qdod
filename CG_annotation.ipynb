{
 "metadata": {
  "name": "",
  "signature": "sha256:8f791449d9eab540c465b0c6ba0a6101e2a64c106c0804435d0e2533a6d7b08b"
 },
 "nbformat": 3,
 "nbformat_minor": 0,
 "worksheets": [
  {
   "cells": [
    {
     "cell_type": "heading",
     "level": 1,
     "metadata": {},
     "source": [
      "Annotating CG motifs in Ensemble Genome"
     ]
    },
    {
     "cell_type": "heading",
     "level": 3,
     "metadata": {},
     "source": [
      "v9 file"
     ]
    },
    {
     "cell_type": "code",
     "collapsed": false,
     "input": [
      "!head /Volumes/web/trilobite/Crassostrea_gigas_v9_tracks/Cgigas_v9_CG.gff"
     ],
     "language": "python",
     "metadata": {},
     "outputs": [
      {
       "output_type": "stream",
       "stream": "stdout",
       "text": [
        "##gff-version 3\r\n",
        "##sequence-region scaffold360 1 280\r\n",
        "#!Date 2013-04-23\r\n",
        "#!Type DNA\r\n",
        "#!Source-version EMBOSS 6.5.7.0\r\n",
        "scaffold360\tfuzznuc\tnucleotide_motif\t60\t61\t2\t+\t.\tID=scaffold360.1;note=*pat pattern:CG\r\n",
        "scaffold360\tfuzznuc\tnucleotide_motif\t96\t97\t2\t+\t.\tID=scaffold360.2;note=*pat pattern:CG\r\n",
        "scaffold360\tfuzznuc\tnucleotide_motif\t120\t121\t2\t+\t.\tID=scaffold360.3;note=*pat pattern:CG\r\n",
        "scaffold360\tfuzznuc\tnucleotide_motif\t187\t188\t2\t+\t.\tID=scaffold360.4;note=*pat pattern:CG\r\n",
        "##gff-version 3\r\n"
       ]
      }
     ],
     "prompt_number": 1
    },
    {
     "cell_type": "heading",
     "level": 2,
     "metadata": {},
     "source": [
      "Ensemble"
     ]
    },
    {
     "cell_type": "heading",
     "level": 3,
     "metadata": {},
     "source": [
      "Fuzznuc in Iplant\n"
     ]
    },
    {
     "cell_type": "markdown",
     "metadata": {},
     "source": [
      "<img src=\"http://eagle.fish.washington.edu/cnidarian/skitch/_43__Discovery_Environment_18FC19DF.png\" alt=\"_43__Discovery_Environment_18FC19DF.png\"/>"
     ]
    },
    {
     "cell_type": "markdown",
     "metadata": {},
     "source": [
      "output not gff"
     ]
    },
    {
     "cell_type": "code",
     "collapsed": false,
     "input": [
      "!/Volumes/Bay3/Software/EMBOSS-6.5.7/emboss/fuzznuc -sequence /Volumes/web/whale/ensembl/ftp.ensemblgenomes.org/pub/release-21/metazoa/fasta/crassostrea_gigas/dna/Crassostrea_gigas.GCA_000297895.1.21.dna_sm.genome.fa  -rformat gff -pattern CG -outfile /Volumes/web/cnidarian/CGmotif_ensembl_sm.gff"
     ],
     "language": "python",
     "metadata": {},
     "outputs": [
      {
       "output_type": "stream",
       "stream": "stdout",
       "text": [
        "Search for patterns in nucleotide sequences\r\n"
       ]
      }
     ],
     "prompt_number": 8
    },
    {
     "cell_type": "code",
     "collapsed": false,
     "input": [
      "!fgrep -c \"CG\" /Volumes/web/whale/ensembl/ftp.ensemblgenomes.org/pub/release-21/metazoa/fasta/crassostrea_gigas/dna/Crassostrea_gigas.GCA_000297895.1.21.dna_sm.genome.fa"
     ],
     "language": "python",
     "metadata": {},
     "outputs": [
      {
       "output_type": "stream",
       "stream": "stdout",
       "text": [
        "4910271\r\n"
       ]
      }
     ],
     "prompt_number": 9
    },
    {
     "cell_type": "code",
     "collapsed": false,
     "input": [
      "!fgrep -c \"cg\" /Volumes/web/whale/ensembl/ftp.ensemblgenomes.org/pub/release-21/metazoa/fasta/crassostrea_gigas/dna/Crassostrea_gigas.GCA_000297895.1.21.dna_sm.genome.fa"
     ],
     "language": "python",
     "metadata": {},
     "outputs": [
      {
       "output_type": "stream",
       "stream": "stdout",
       "text": [
        "223309\r\n"
       ]
      }
     ],
     "prompt_number": 14
    },
    {
     "cell_type": "code",
     "collapsed": false,
     "input": [
      "!head -20 /Volumes/web/cnidarian/CGmotif_ensembl_sm.gff"
     ],
     "language": "python",
     "metadata": {},
     "outputs": [
      {
       "output_type": "stream",
       "stream": "stdout",
       "text": [
        "##gff-version 3\r\n",
        "##sequence-region C12728 1 200\r\n",
        "#!Date 2014-04-14\r\n",
        "#!Type DNA\r\n",
        "#!Source-version EMBOSS 6.5.7.0\r\n",
        "C12728\tfuzznuc\tnucleotide_motif\t40\t41\t2\t+\t.\tID=C12728.1;note=*pat pattern:CG\r\n",
        "C12728\tfuzznuc\tnucleotide_motif\t62\t63\t2\t+\t.\tID=C12728.2;note=*pat pattern:CG\r\n",
        "C12728\tfuzznuc\tnucleotide_motif\t164\t165\t2\t+\t.\tID=C12728.3;note=*pat pattern:CG\r\n",
        "C12728\tfuzznuc\tnucleotide_motif\t193\t194\t2\t+\t.\tID=C12728.4;note=*pat pattern:CG\r\n",
        "##gff-version 3\r\n",
        "##sequence-region C12722 1 200\r\n",
        "#!Date 2014-04-14\r\n",
        "#!Type DNA\r\n",
        "#!Source-version EMBOSS 6.5.7.0\r\n",
        "C12722\tfuzznuc\tnucleotide_motif\t104\t105\t2\t+\t.\tID=C12722.1;note=*pat pattern:CG\r\n",
        "C12722\tfuzznuc\tnucleotide_motif\t134\t135\t2\t+\t.\tID=C12722.2;note=*pat pattern:CG\r\n",
        "C12722\tfuzznuc\tnucleotide_motif\t154\t155\t2\t+\t.\tID=C12722.3;note=*pat pattern:CG\r\n",
        "##gff-version 3\r\n",
        "##sequence-region C12706 1 200\r\n",
        "#!Date 2014-04-14\r\n"
       ]
      }
     ],
     "prompt_number": 12
    },
    {
     "cell_type": "code",
     "collapsed": false,
     "input": [
      "!fgrep -c \"fuzznuc\tnucleotide_motif\" /Volumes/web/cnidarian/CGmotif_ensembl_sm.gff"
     ],
     "language": "python",
     "metadata": {},
     "outputs": [
      {
       "output_type": "stream",
       "stream": "stdout",
       "text": [
        "9936143\r\n"
       ]
      }
     ],
     "prompt_number": 15
    },
    {
     "cell_type": "heading",
     "level": 2,
     "metadata": {},
     "source": [
      "Bedtools"
     ]
    },
    {
     "cell_type": "code",
     "collapsed": false,
     "input": [
      "!head -100 /Volumes/web/whale/ensembl/ftp.ensemblgenomes.org/pub/release-21/metazoa/gff3/crassostrea_gigas/Crassostrea_gigas.GCA_000297895.1.21.gff3"
     ],
     "language": "python",
     "metadata": {},
     "outputs": [
      {
       "output_type": "stream",
       "stream": "stdout",
       "text": [
        "##gff-version 3\r\n",
        "##sequence-region   C12728 1 200\r\n",
        "C12728\t.\trepeat_region\t38\t81\t.\t?\t.\tName=trf;class=trf;repeat_consensus=GCCGCTTTTATGTCTCTTTCTG;type=Tandem repeats\r\n",
        "##sequence-region   C12722 1 200\r\n",
        "##sequence-region   C12706 1 200\r\n",
        "##sequence-region   C12718 1 200\r\n",
        "##sequence-region   C12732 1 200\r\n",
        "##sequence-region   C12726 1 200\r\n",
        "##sequence-region   C12708 1 200\r\n",
        "##sequence-region   C12730 1 200\r\n",
        "##sequence-region   C12724 1 200\r\n",
        "C12724\t.\trepeat_region\t1\t96\t.\t?\t.\tName=dust;class=dust;repeat_consensus=N;type=Dust\r\n",
        "C12724\t.\trepeat_region\t20\t127\t.\t?\t.\tName=trf;class=trf;repeat_consensus=TCATCAACATGAACATCATCATCGTCG;type=Tandem repeats\r\n",
        "C12724\t.\trepeat_region\t47\t103\t.\t?\t.\tName=trf;class=trf;repeat_consensus=TCGTCATCATCAACATAACATCA;type=Tandem repeats\r\n",
        "##sequence-region   C12734 1 200\r\n",
        "C12734\t.\trepeat_region\t149\t196\t.\t?\t.\tName=dust;class=dust;repeat_consensus=N;type=Dust\r\n",
        "##sequence-region   C12782 1 201\r\n",
        "##sequence-region   C12766 1 201\r\n",
        "##sequence-region   C12768 1 201\r\n",
        "##sequence-region   C12738 1 201\r\n",
        "##sequence-region   C12758 1 201\r\n",
        "##sequence-region   C12742 1 201\r\n",
        "##sequence-region   C12774 1 201\r\n",
        "##sequence-region   C12760 1 201\r\n",
        "##sequence-region   C12772 1 201\r\n",
        "##sequence-region   C12764 1 201\r\n",
        "##sequence-region   C12780 1 201\r\n",
        "C12780\t.\trepeat_region\t158\t165\t.\t?\t.\tName=dust;class=dust;repeat_consensus=N;type=Dust\r\n",
        "##sequence-region   C12778 1 201\r\n",
        "##sequence-region   C12784 1 201\r\n",
        "##sequence-region   C12748 1 201\r\n",
        "##sequence-region   C12802 1 202\r\n",
        "C12802\t.\trepeat_region\t52\t59\t.\t?\t.\tName=dust;class=dust;repeat_consensus=N;type=Dust\r\n",
        "##sequence-region   C12806 1 202\r\n",
        "C12806\t.\trepeat_region\t149\t157\t.\t?\t.\tName=dust;class=dust;repeat_consensus=N;type=Dust\r\n",
        "##sequence-region   C12786 1 202\r\n",
        "##sequence-region   C12788 1 202\r\n",
        "##sequence-region   C12810 1 202\r\n",
        "##sequence-region   C12828 1 202\r\n",
        "C12828\t.\trepeat_region\t1\t202\t.\t?\t.\tName=trf;class=trf;repeat_consensus=ATGTAGCAGTAGGTAATTCAAGCA;type=Tandem repeats\r\n",
        "C12828\t.\trepeat_region\t1\t202\t.\t?\t.\tName=trf;class=trf;repeat_consensus=ATGTAGCAGTCGGTAATTCAAGCAATGTAGCAGTCGGTAATTCAAGCTATGTAGCAGTAGGTAATTCAAGCA;type=Tandem repeats\r\n",
        "##sequence-region   C12822 1 202\r\n",
        "##sequence-region   C12824 1 202\r\n",
        "##sequence-region   C12814 1 202\r\n",
        "##sequence-region   C12830 1 202\r\n",
        "C12830\t.\trepeat_region\t33\t88\t.\t?\t.\tName=dust;class=dust;repeat_consensus=N;type=Dust\r\n",
        "##sequence-region   C12798 1 202\r\n",
        "##sequence-region   C12836 1 203\r\n",
        "C12836\t.\trepeat_region\t72\t79\t.\t?\t.\tName=dust;class=dust;repeat_consensus=N;type=Dust\r\n",
        "##sequence-region   C12832 1 203\r\n",
        "##sequence-region   C12856 1 203\r\n",
        "##sequence-region   C12866 1 203\r\n",
        "##sequence-region   C12840 1 203\r\n",
        "##sequence-region   C12838 1 203\r\n",
        "C12838\t.\trepeat_region\t12\t63\t.\t?\t.\tName=trf;class=trf;repeat_consensus=TGTC;type=Tandem repeats\r\n",
        "C12838\t.\trepeat_region\t12\t64\t.\t?\t.\tName=dust;class=dust;repeat_consensus=N;type=Dust\r\n",
        "C12838\t.\trepeat_region\t17\t66\t.\t?\t.\tName=trf;class=trf;repeat_consensus=GTCTGTCCGTCC;type=Tandem repeats\r\n",
        "##sequence-region   C12848 1 203\r\n",
        "##sequence-region   C12834 1 203\r\n",
        "##sequence-region   C12860 1 203\r\n",
        "##sequence-region   C12842 1 203\r\n",
        "##sequence-region   C12882 1 204\r\n",
        "##sequence-region   C12890 1 204\r\n",
        "##sequence-region   C12872 1 204\r\n",
        "##sequence-region   C12886 1 204\r\n",
        "C12886\t.\trepeat_region\t14\t41\t.\t?\t.\tName=trf;class=trf;repeat_consensus=AAGGC;type=Tandem repeats\r\n",
        "C12886\t.\trepeat_region\t102\t156\t.\t?\t.\tName=dust;class=dust;repeat_consensus=N;type=Dust\r\n",
        "##sequence-region   C12880 1 204\r\n",
        "##sequence-region   C12906 1 204\r\n",
        "##sequence-region   C12876 1 204\r\n",
        "##sequence-region   C12870 1 204\r\n",
        "##sequence-region   C12888 1 204\r\n",
        "##sequence-region   C12948 1 205\r\n",
        "C12948\t.\trepeat_region\t117\t203\t.\t?\t.\tName=trf;class=trf;repeat_consensus=TGAATTGAACTTTTAGGATA;type=Tandem repeats\r\n",
        "##sequence-region   C12964 1 205\r\n",
        "##sequence-region   C12960 1 205\r\n",
        "C12960\t.\trepeat_region\t188\t196\t.\t?\t.\tName=dust;class=dust;repeat_consensus=N;type=Dust\r\n",
        "##sequence-region   C12916 1 205\r\n",
        "##sequence-region   C12924 1 205\r\n",
        "C12924\t.\trepeat_region\t5\t171\t.\t?\t.\tName=trf;class=trf;repeat_consensus=TGAATTCGTTATAACGAATTTAAATCTGTTATAACAAATTGA;type=Tandem repeats\r\n",
        "C12924\t.\trepeat_region\t12\t126\t.\t?\t.\tName=trf;class=trf;repeat_consensus=GTTATAACGAATTTAAATC;type=Tandem repeats\r\n",
        "##sequence-region   C12932 1 205\r\n",
        "C12932\t.\trepeat_region\t23\t72\t.\t?\t.\tName=dust;class=dust;repeat_consensus=N;type=Dust\r\n",
        "C12932\t.\trepeat_region\t23\t72\t.\t?\t.\tName=trf;class=trf;repeat_consensus=TGTCCGTC;type=Tandem repeats\r\n",
        "C12932\t.\trepeat_region\t24\t69\t.\t?\t.\tName=trf;class=trf;repeat_consensus=GTCC;type=Tandem repeats\r\n",
        "##sequence-region   C12958 1 205\r\n",
        "##sequence-region   C12918 1 205\r\n",
        "##sequence-region   C12950 1 205\r\n",
        "C12950\t.\trepeat_region\t2\t205\t.\t?\t.\tName=trf;class=trf;repeat_consensus=CACTATTGATGATGTCGTTGGGCTATTGGCACTGGT;type=Tandem repeats\r\n",
        "##sequence-region   C12956 1 205\r\n",
        "##sequence-region   C12938 1 205\r\n",
        "##sequence-region   C12954 1 205\r\n",
        "C12954\t.\trepeat_region\t52\t96\t.\t?\t.\tName=dust;class=dust;repeat_consensus=N;type=Dust\r\n",
        "##sequence-region   C12928 1 205\r\n",
        "##sequence-region   C12942 1 205\r\n",
        "##sequence-region   C12912 1 205\r\n",
        "##sequence-region   C12934 1 205\r\n",
        "##sequence-region   C12930 1 205\r\n",
        "##sequence-region   C12994 1 206\r\n",
        "C12994\t.\trepeat_region\t187\t203\t.\t?\t.\tName=dust;class=dust;repeat_consensus=N;type=Dust\r\n"
       ]
      }
     ],
     "prompt_number": 26
    },
    {
     "cell_type": "code",
     "collapsed": false,
     "input": [
      "!/Volumes/Bay3/Software/bedtools-2.17.0/bin/intersectBed -loj -a /Volumes/web/cnidarian/CGmotif_ensembl_sm.gff -b /Volumes/web/whale/ensembl/ftp.ensemblgenomes.org/pub/release-21/metazoa/gff3/crassostrea_gigas/Crassostrea_gigas.GCA_000297895.1.21.gff3 > /Volumes/web/cnidarian/CGmotif_intersect_feature"
     ],
     "language": "python",
     "metadata": {},
     "outputs": [],
     "prompt_number": 18
    },
    {
     "cell_type": "code",
     "collapsed": false,
     "input": [
      "!fgrep -c  \"fuzznuc\tnucleotide_motif\" /Volumes/web/cnidarian/CGmotif_intersect_feature"
     ],
     "language": "python",
     "metadata": {},
     "outputs": [
      {
       "output_type": "stream",
       "stream": "stdout",
       "text": [
        "16296813\r\n"
       ]
      }
     ],
     "prompt_number": 25
    },
    {
     "cell_type": "code",
     "collapsed": false,
     "input": [
      "#uploading to SQLSHARE\n",
      "spd=\"/Users/sr320/sqlshare-pythonclient/tools/\"\n",
      "!python {spd}singleupload.py -d CGannot_Ensembl_feat /Volumes/web/cnidarian/CGmotif_intersect_feature"
     ],
     "language": "python",
     "metadata": {},
     "outputs": [
      {
       "output_type": "stream",
       "stream": "stdout",
       "text": [
        "processing chunk line 0 to 657108 (2.6846268177 s elapsed)\r\n"
       ]
      },
      {
       "output_type": "stream",
       "stream": "stdout",
       "text": [
        "pushing /Volumes/web/cnidarian/CGmotif_intersect_feature...\r\n"
       ]
      },
      {
       "output_type": "stream",
       "stream": "stdout",
       "text": [
        "parsing 69C7611D...\r\n"
       ]
      },
      {
       "output_type": "stream",
       "stream": "stdout",
       "text": [
        "processing chunk line 657108 to 1206969 (384.398473978 s elapsed)\r\n"
       ]
      },
      {
       "output_type": "stream",
       "stream": "stdout",
       "text": [
        "pushing /Volumes/web/cnidarian/CGmotif_intersect_feature...\r\n"
       ]
      },
      {
       "output_type": "stream",
       "stream": "stdout",
       "text": [
        "parsing 9429AC87...\r\n"
       ]
      },
      {
       "output_type": "stream",
       "stream": "stdout",
       "text": [
        "processing chunk line 1206969 to 1752759 (616.887005806 s elapsed)\r\n"
       ]
      },
      {
       "output_type": "stream",
       "stream": "stdout",
       "text": [
        "pushing /Volumes/web/cnidarian/CGmotif_intersect_feature...\r\n"
       ]
      },
      {
       "output_type": "stream",
       "stream": "stdout",
       "text": [
        "parsing 959131F6...\r\n"
       ]
      },
      {
       "output_type": "stream",
       "stream": "stdout",
       "text": [
        "processing chunk line 1752759 to 2282289 (925.492045879 s elapsed)\r\n"
       ]
      },
      {
       "output_type": "stream",
       "stream": "stdout",
       "text": [
        "pushing /Volumes/web/cnidarian/CGmotif_intersect_feature...\r\n"
       ]
      },
      {
       "output_type": "stream",
       "stream": "stdout",
       "text": [
        "parsing 2811835F...\r\n"
       ]
      },
      {
       "output_type": "stream",
       "stream": "stdout",
       "text": [
        "processing chunk line 2282289 to 2808921 (1166.18363285 s elapsed)\r\n"
       ]
      },
      {
       "output_type": "stream",
       "stream": "stdout",
       "text": [
        "pushing /Volumes/web/cnidarian/CGmotif_intersect_feature...\r\n"
       ]
      },
      {
       "output_type": "stream",
       "stream": "stdout",
       "text": [
        "parsing A9FF06D1...\r\n"
       ]
      },
      {
       "output_type": "stream",
       "stream": "stdout",
       "text": [
        "processing chunk line 2808921 to 3332483 (1400.51269984 s elapsed)\r\n"
       ]
      },
      {
       "output_type": "stream",
       "stream": "stdout",
       "text": [
        "pushing /Volumes/web/cnidarian/CGmotif_intersect_feature...\r\n"
       ]
      },
      {
       "output_type": "stream",
       "stream": "stdout",
       "text": [
        "parsing 6CBD2B91...\r\n"
       ]
      },
      {
       "output_type": "stream",
       "stream": "stdout",
       "text": [
        "processing chunk line 3332483 to 3846094 (1698.62651396 s elapsed)\r\n"
       ]
      },
      {
       "output_type": "stream",
       "stream": "stdout",
       "text": [
        "pushing /Volumes/web/cnidarian/CGmotif_intersect_feature...\r\n"
       ]
      },
      {
       "output_type": "stream",
       "stream": "stdout",
       "text": [
        "parsing 684CD4BD...\r\n"
       ]
      },
      {
       "output_type": "stream",
       "stream": "stdout",
       "text": [
        "processing chunk line 3846094 to 4359769 (1941.41357589 s elapsed)\r\n"
       ]
      },
      {
       "output_type": "stream",
       "stream": "stdout",
       "text": [
        "pushing /Volumes/web/cnidarian/CGmotif_intersect_feature...\r\n"
       ]
      },
      {
       "output_type": "stream",
       "stream": "stdout",
       "text": [
        "parsing 2344F22F...\r\n"
       ]
      },
      {
       "output_type": "stream",
       "stream": "stdout",
       "text": [
        "processing chunk line 4359769 to 4873172 (2161.7397759 s elapsed)\r\n"
       ]
      },
      {
       "output_type": "stream",
       "stream": "stdout",
       "text": [
        "pushing /Volumes/web/cnidarian/CGmotif_intersect_feature...\r\n"
       ]
      },
      {
       "output_type": "stream",
       "stream": "stdout",
       "text": [
        "parsing 00BF8256...\r\n"
       ]
      },
      {
       "output_type": "stream",
       "stream": "stdout",
       "text": [
        "processing chunk line 4873172 to 5386517 (2395.16768193 s elapsed)\r\n"
       ]
      },
      {
       "output_type": "stream",
       "stream": "stdout",
       "text": [
        "pushing /Volumes/web/cnidarian/CGmotif_intersect_feature...\r\n"
       ]
      },
      {
       "output_type": "stream",
       "stream": "stdout",
       "text": [
        "parsing 9ED64889...\r\n"
       ]
      },
      {
       "output_type": "stream",
       "stream": "stdout",
       "text": [
        "processing chunk line 5386517 to 5905639 (2630.70829082 s elapsed)\r\n"
       ]
      },
      {
       "output_type": "stream",
       "stream": "stdout",
       "text": [
        "pushing /Volumes/web/cnidarian/CGmotif_intersect_feature...\r\n"
       ]
      },
      {
       "output_type": "stream",
       "stream": "stdout",
       "text": [
        "parsing 3ACE407C...\r\n"
       ]
      },
      {
       "output_type": "stream",
       "stream": "stdout",
       "text": [
        "processing chunk line 5905639 to 6426533 (2879.14030886 s elapsed)\r\n"
       ]
      },
      {
       "output_type": "stream",
       "stream": "stdout",
       "text": [
        "pushing /Volumes/web/cnidarian/CGmotif_intersect_feature...\r\n"
       ]
      },
      {
       "output_type": "stream",
       "stream": "stdout",
       "text": [
        "parsing 4D377FD1...\r\n"
       ]
      },
      {
       "output_type": "stream",
       "stream": "stdout",
       "text": [
        "processing chunk line 6426533 to 6937019 (3131.77666283 s elapsed)\r\n"
       ]
      },
      {
       "output_type": "stream",
       "stream": "stdout",
       "text": [
        "pushing /Volumes/web/cnidarian/CGmotif_intersect_feature...\r\n"
       ]
      },
      {
       "output_type": "stream",
       "stream": "stdout",
       "text": [
        "parsing 9DB40C28...\r\n"
       ]
      },
      {
       "output_type": "stream",
       "stream": "stdout",
       "text": [
        "processing chunk line 6937019 to 7457512 (3338.09166694 s elapsed)\r\n"
       ]
      },
      {
       "output_type": "stream",
       "stream": "stdout",
       "text": [
        "pushing /Volumes/web/cnidarian/CGmotif_intersect_feature...\r\n"
       ]
      },
      {
       "output_type": "stream",
       "stream": "stdout",
       "text": [
        "parsing 6C41EF61...\r\n"
       ]
      },
      {
       "output_type": "stream",
       "stream": "stdout",
       "text": [
        "processing chunk line 7457512 to 7967905 (3626.65325093 s elapsed)\r\n"
       ]
      },
      {
       "output_type": "stream",
       "stream": "stdout",
       "text": [
        "pushing /Volumes/web/cnidarian/CGmotif_intersect_feature...\r\n"
       ]
      },
      {
       "output_type": "stream",
       "stream": "stdout",
       "text": [
        "parsing A0E8B2B7...\r\n"
       ]
      },
      {
       "output_type": "stream",
       "stream": "stdout",
       "text": [
        "processing chunk line 7967905 to 8493500 (4040.02613378 s elapsed)\r\n"
       ]
      },
      {
       "output_type": "stream",
       "stream": "stdout",
       "text": [
        "pushing /Volumes/web/cnidarian/CGmotif_intersect_feature...\r\n"
       ]
      },
      {
       "output_type": "stream",
       "stream": "stdout",
       "text": [
        "parsing 92AB3679...\r\n"
       ]
      },
      {
       "output_type": "stream",
       "stream": "stdout",
       "text": [
        "processing chunk line 8493500 to 9016541 (4476.16360092 s elapsed)\r\n"
       ]
      },
      {
       "output_type": "stream",
       "stream": "stdout",
       "text": [
        "pushing /Volumes/web/cnidarian/CGmotif_intersect_feature...\r\n"
       ]
      },
      {
       "output_type": "stream",
       "stream": "stdout",
       "text": [
        "parsing 2B629C49...\r\n"
       ]
      },
      {
       "output_type": "stream",
       "stream": "stdout",
       "text": [
        "processing chunk line 9016541 to 9532320 (4790.02325392 s elapsed)\r\n"
       ]
      },
      {
       "output_type": "stream",
       "stream": "stdout",
       "text": [
        "pushing /Volumes/web/cnidarian/CGmotif_intersect_feature...\r\n"
       ]
      },
      {
       "output_type": "stream",
       "stream": "stdout",
       "text": [
        "parsing 2AC4878F...\r\n"
       ]
      },
      {
       "output_type": "stream",
       "stream": "stdout",
       "text": [
        "processing chunk line 9532320 to 10043405 (5222.42379093 s elapsed)\r\n"
       ]
      },
      {
       "output_type": "stream",
       "stream": "stdout",
       "text": [
        "pushing /Volumes/web/cnidarian/CGmotif_intersect_feature...\r\n"
       ]
      },
      {
       "output_type": "stream",
       "stream": "stdout",
       "text": [
        "parsing F785CD3A...\r\n"
       ]
      },
      {
       "output_type": "stream",
       "stream": "stdout",
       "text": [
        "processing chunk line 10043405 to 10568622 (5525.34709191 s elapsed)\r\n"
       ]
      },
      {
       "output_type": "stream",
       "stream": "stdout",
       "text": [
        "pushing /Volumes/web/cnidarian/CGmotif_intersect_feature...\r\n"
       ]
      },
      {
       "output_type": "stream",
       "stream": "stdout",
       "text": [
        "parsing 6F6628E5...\r\n"
       ]
      },
      {
       "output_type": "stream",
       "stream": "stdout",
       "text": [
        "processing chunk line 10568622 to 11080379 (6003.6101079 s elapsed)\r\n"
       ]
      },
      {
       "output_type": "stream",
       "stream": "stdout",
       "text": [
        "pushing /Volumes/web/cnidarian/CGmotif_intersect_feature...\r\n"
       ]
      },
      {
       "output_type": "stream",
       "stream": "stdout",
       "text": [
        "parsing 2038A1DD...\r\n"
       ]
      },
      {
       "output_type": "stream",
       "stream": "stdout",
       "text": [
        "processing chunk line 11080379 to 11595405 (6215.55741787 s elapsed)\r\n"
       ]
      },
      {
       "output_type": "stream",
       "stream": "stdout",
       "text": [
        "pushing /Volumes/web/cnidarian/CGmotif_intersect_feature...\r\n"
       ]
      },
      {
       "output_type": "stream",
       "stream": "stdout",
       "text": [
        "parsing 836D66A7...\r\n"
       ]
      },
      {
       "output_type": "stream",
       "stream": "stdout",
       "text": [
        "processing chunk line 11595405 to 12117200 (6482.20461988 s elapsed)\r\n"
       ]
      },
      {
       "output_type": "stream",
       "stream": "stdout",
       "text": [
        "pushing /Volumes/web/cnidarian/CGmotif_intersect_feature...\r\n"
       ]
      },
      {
       "output_type": "stream",
       "stream": "stdout",
       "text": [
        "parsing 00D1A75F...\r\n"
       ]
      },
      {
       "output_type": "stream",
       "stream": "stdout",
       "text": [
        "processing chunk line 12117200 to 12629085 (6827.36811996 s elapsed)\r\n"
       ]
      },
      {
       "output_type": "stream",
       "stream": "stdout",
       "text": [
        "pushing /Volumes/web/cnidarian/CGmotif_intersect_feature...\r\n"
       ]
      },
      {
       "output_type": "stream",
       "stream": "stdout",
       "text": [
        "parsing 6899B947...\r\n"
       ]
      },
      {
       "output_type": "stream",
       "stream": "stdout",
       "text": [
        "processing chunk line 12629085 to 13141826 (7120.6570859 s elapsed)\r\n"
       ]
      },
      {
       "output_type": "stream",
       "stream": "stdout",
       "text": [
        "pushing /Volumes/web/cnidarian/CGmotif_intersect_feature...\r\n"
       ]
      },
      {
       "output_type": "stream",
       "stream": "stdout",
       "text": [
        "parsing 9D65513F...\r\n"
       ]
      },
      {
       "output_type": "stream",
       "stream": "stdout",
       "text": [
        "processing chunk line 13141826 to 13655858 (7414.73094296 s elapsed)\r\n"
       ]
      },
      {
       "output_type": "stream",
       "stream": "stdout",
       "text": [
        "pushing /Volumes/web/cnidarian/CGmotif_intersect_feature...\r\n"
       ]
      },
      {
       "output_type": "stream",
       "stream": "stdout",
       "text": [
        "parsing A8E9813F...\r\n"
       ]
      },
      {
       "output_type": "stream",
       "stream": "stdout",
       "text": [
        "processing chunk line 13655858 to 14175744 (7624.57059598 s elapsed)\r\n"
       ]
      },
      {
       "output_type": "stream",
       "stream": "stdout",
       "text": [
        "pushing /Volumes/web/cnidarian/CGmotif_intersect_feature...\r\n"
       ]
      },
      {
       "output_type": "stream",
       "stream": "stdout",
       "text": [
        "parsing 33816E0C...\r\n"
       ]
      },
      {
       "output_type": "stream",
       "stream": "stdout",
       "text": [
        "processing chunk line 14175744 to 14683173 (7843.50774193 s elapsed)\r\n"
       ]
      },
      {
       "output_type": "stream",
       "stream": "stdout",
       "text": [
        "pushing /Volumes/web/cnidarian/CGmotif_intersect_feature...\r\n"
       ]
      },
      {
       "output_type": "stream",
       "stream": "stdout",
       "text": [
        "parsing C2A52351...\r\n"
       ]
      },
      {
       "output_type": "stream",
       "stream": "stdout",
       "text": [
        "processing chunk line 14683173 to 15203211 (8131.42966795 s elapsed)\r\n"
       ]
      },
      {
       "output_type": "stream",
       "stream": "stdout",
       "text": [
        "pushing /Volumes/web/cnidarian/CGmotif_intersect_feature...\r\n"
       ]
      },
      {
       "output_type": "stream",
       "stream": "stdout",
       "text": [
        "parsing C319D786...\r\n"
       ]
      },
      {
       "output_type": "stream",
       "stream": "stdout",
       "text": [
        "processing chunk line 15203211 to 15710224 (8490.53375196 s elapsed)\r\n"
       ]
      },
      {
       "output_type": "stream",
       "stream": "stdout",
       "text": [
        "pushing /Volumes/web/cnidarian/CGmotif_intersect_feature...\r\n"
       ]
      },
      {
       "output_type": "stream",
       "stream": "stdout",
       "text": [
        "parsing 2DA15F06...\r\n"
       ]
      },
      {
       "output_type": "stream",
       "stream": "stdout",
       "text": [
        "processing chunk line 15710224 to 16224928 (8869.11250401 s elapsed)\r\n"
       ]
      },
      {
       "output_type": "stream",
       "stream": "stdout",
       "text": [
        "pushing /Volumes/web/cnidarian/CGmotif_intersect_feature...\r\n"
       ]
      },
      {
       "output_type": "stream",
       "stream": "stdout",
       "text": [
        "parsing 4EE0EF6F...\r\n"
       ]
      },
      {
       "output_type": "stream",
       "stream": "stdout",
       "text": [
        "processing chunk line 16224928 to 16296813 (9075.72935987 s elapsed)\r\n",
        "pushing /Volumes/web/cnidarian/CGmotif_intersect_feature...\r\n"
       ]
      },
      {
       "output_type": "stream",
       "stream": "stdout",
       "text": [
        "parsing CE29D444...\r\n"
       ]
      },
      {
       "output_type": "stream",
       "stream": "stdout",
       "text": [
        "finished CGannot_Ensembl_feat\r\n"
       ]
      }
     ],
     "prompt_number": 24
    },
    {
     "cell_type": "code",
     "collapsed": false,
     "input": [],
     "language": "python",
     "metadata": {},
     "outputs": []
    }
   ],
   "metadata": {}
  }
 ]
}