{
 "metadata": {
  "name": ""
 },
 "nbformat": 3,
 "nbformat_minor": 0,
 "worksheets": [
  {
   "cells": [
    {
     "cell_type": "heading",
     "level": 1,
     "metadata": {},
     "source": [
      "Uniprot (Swiss-prot)"
     ]
    },
    {
     "cell_type": "markdown",
     "metadata": {},
     "source": [
      "Investigating ID mappings"
     ]
    },
    {
     "cell_type": "markdown",
     "metadata": {},
     "source": [
      "<img src=\"http://eagle.fish.washington.edu/cnidarian/skitch/Index_of__pub_databases_uniprot_current_release_knowledgebase_idmapping_1875E702.png\" alt=\"Index_of__pub_databases_uniprot_current_release_knowledgebase_idmapping_1875E702.png\"/>"
     ]
    },
    {
     "cell_type": "markdown",
     "metadata": {},
     "source": [
      "```\n",
      "Q6GZX4\tUniProtKB-ID\t001R_FRG3G\n",
      "Q6GZX4\tGI\t81941549\n",
      "Q6GZX4\tGI\t47060116\n",
      "Q6GZX4\tGI\t49237298\n",
      "Q6GZX4\tUniRef100\tUniRef100_Q6GZX4\n",
      "Q6GZX4\tUniRef90\tUniRef90_Q6GZX4\n",
      "Q6GZX4\tUniRef50\tUniRef50_Q6GZX4\n",
      "Q6GZX4\tUniParc\tUPI00003B0FD4\n",
      "Q6GZX4\tEMBL\tAY548484\n",
      "Q6GZX4\tEMBL-CDS\tAAT09660.1\n",
      "Q6GZX4\tNCBI_TaxID\t654924\n",
      "Q6GZX4\tRefSeq\tYP_031579.1\n",
      "Q6GZX4\tRefSeq_NT\tNC_005946.1\n",
      "Q6GZX4\tGeneID\t2947773\n",
      "Q6GZX4\tProtClustDB\tCLSP2511514\n",
      "Q6GZX3\tUniProtKB-ID\t002L_FRG3G\n",
      "Q6GZX3\tGI\t49237299\n",
      "Q6GZX3\tGI\t47060117\n",
      "Q6GZX3\tGI\t81941548\n",
      "Q6GZX3\tUniRef100\tUniRef100_Q6GZX3\n",
      "Q6GZX3\tUniRef90\tUniRef90_Q6GZX3\n",
      "Q6GZX3\tUniRef50\tUniRef50_Q6GZX3\n",
      "Q6GZX3\tUniParc\tUPI00003B0FD5\n",
      "Q6GZX3\tEMBL\tAY548484\n",
      "Q6GZX3\tEMBL-CDS\tAAT09661.1\n",
      "Q6GZX3\tNCBI_TaxID\t654924\n",
      "Q6GZX3\tRefSeq\tYP_031580.1\n",
      "```"
     ]
    },
    {
     "cell_type": "markdown",
     "metadata": {},
     "source": [
      "```\n",
      "Q6GZX4\t001R_FRG3G\t2947773\tYP_031579.1\t81941549; 47060116; 49237298\t\tGO:0006355; GO:0046782; GO:0006351\t\tUniRef100_Q6GZX4\tUniRef90_Q6GZX4\tUniRef50_Q6GZX4\tUPI00003B0FD4\t\t654924\t\t\t15165820\tAY548484\tAAT09660.1\t\t\t\t\n",
      "Q6GZX3\t002L_FRG3G\t2947774\tYP_031580.1\t49237299; 47060117; 81941548\t\tGO:0033644; GO:0016021\t\tUniRef100_Q6GZX3\tUniRef90_Q6GZX3\tUniRef50_Q6GZX3\tUPI00003B0FD5\t\t654924\t\t\t15165820\tAY548484\tAAT09661.1\t\t\t\t\n",
      "Q197F8\t002R_IIV3\t4156251\tYP_654574.1\t106073503; 109287880; 123808694\t\t\t\tUniRef100_Q197F8\tUniRef90_Q197F8\tUniRef50_Q197F8\tUPI0000D83464\t\t345201\t\t\t16912294\tDQ643392\tABF82032.1\t\t\t\t\n",
      "Q197F7\t003L_IIV3\t4156252\tYP_654575.1\t106073504; 109287881; 123808693\t\t\t\tUniRef100_Q197F7\tUniRef90_Q197F7\tUniRef50_Q197F7\tUPI0000D83465\t\t345201\t\t\t16912294\tDQ643392\tABF82033.1\t\t\t\t\n",
      "Q6GZX2\t003R_FRG3G\t2947775\tYP_031581.1\t81941547; 47060118; 49237300\t\t\t\tUniRef100_Q6GZX2\tUniRef90_Q6GZX2\tUniRef50_Q6GZX2\tUPI00003B0FD6\t\t654924\t\t\t15165820\tAY548484\tAAT09662.1\t\t\t\t\n",
      "Q6GZX1\t004R_FRG3G\t2947776\tYP_031582.1\t81941546; 49237301; 47060119\t\tGO:0033644; GO:0016021\t\tUniRef100_Q6GZX1\tUniRef90_Q6GZX1\tUniRef50_Q6GZX1\tUPI00003B0FD7\t\t654924\t\t\t15165820\tAY548484\tAAT09663.1\t\n",
      "```"
     ]
    },
    {
     "cell_type": "markdown",
     "metadata": {},
     "source": [
      "Will upload idmapping_selected.tab to SQLShare"
     ]
    },
    {
     "cell_type": "heading",
     "level": 1,
     "metadata": {},
     "source": [
      "GOA Data tables "
     ]
    },
    {
     "cell_type": "markdown",
     "metadata": {},
     "source": [
      "<img src=\"http://eagle.fish.washington.edu/cnidarian/skitch/Index_of__pub_databases_GO_goa_UNIPROT_1875E863.png\" alt=\"Index_of__pub_databases_GO_goa_UNIPROT_1875E863.png\"/>"
     ]
    },
    {
     "cell_type": "code",
     "collapsed": false,
     "input": [],
     "language": "python",
     "metadata": {},
     "outputs": []
    }
   ],
   "metadata": {}
  }
 ]
}