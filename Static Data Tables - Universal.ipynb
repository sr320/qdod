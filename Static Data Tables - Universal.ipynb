{
 "metadata": {
  "name": ""
 },
 "nbformat": 3,
 "nbformat_minor": 0,
 "worksheets": [
  {
   "cells": [
    {
     "cell_type": "heading",
     "level": 1,
     "metadata": {},
     "source": [
      "Uniprot (Swiss-prot)"
     ]
    },
    {
     "cell_type": "markdown",
     "metadata": {},
     "source": [
      "Investigating ID mappings"
     ]
    },
    {
     "cell_type": "markdown",
     "metadata": {},
     "source": [
      "<img src=\"http://eagle.fish.washington.edu/cnidarian/skitch/Index_of__pub_databases_uniprot_current_release_knowledgebase_idmapping_1875E702.png\" alt=\"Index_of__pub_databases_uniprot_current_release_knowledgebase_idmapping_1875E702.png\"/>"
     ]
    },
    {
     "cell_type": "markdown",
     "metadata": {},
     "source": [
      "```\n",
      "Q6GZX4\tUniProtKB-ID\t001R_FRG3G\n",
      "Q6GZX4\tGI\t81941549\n",
      "Q6GZX4\tGI\t47060116\n",
      "Q6GZX4\tGI\t49237298\n",
      "Q6GZX4\tUniRef100\tUniRef100_Q6GZX4\n",
      "Q6GZX4\tUniRef90\tUniRef90_Q6GZX4\n",
      "Q6GZX4\tUniRef50\tUniRef50_Q6GZX4\n",
      "Q6GZX4\tUniParc\tUPI00003B0FD4\n",
      "Q6GZX4\tEMBL\tAY548484\n",
      "Q6GZX4\tEMBL-CDS\tAAT09660.1\n",
      "Q6GZX4\tNCBI_TaxID\t654924\n",
      "Q6GZX4\tRefSeq\tYP_031579.1\n",
      "Q6GZX4\tRefSeq_NT\tNC_005946.1\n",
      "Q6GZX4\tGeneID\t2947773\n",
      "Q6GZX4\tProtClustDB\tCLSP2511514\n",
      "Q6GZX3\tUniProtKB-ID\t002L_FRG3G\n",
      "Q6GZX3\tGI\t49237299\n",
      "Q6GZX3\tGI\t47060117\n",
      "Q6GZX3\tGI\t81941548\n",
      "Q6GZX3\tUniRef100\tUniRef100_Q6GZX3\n",
      "Q6GZX3\tUniRef90\tUniRef90_Q6GZX3\n",
      "Q6GZX3\tUniRef50\tUniRef50_Q6GZX3\n",
      "Q6GZX3\tUniParc\tUPI00003B0FD5\n",
      "Q6GZX3\tEMBL\tAY548484\n",
      "Q6GZX3\tEMBL-CDS\tAAT09661.1\n",
      "Q6GZX3\tNCBI_TaxID\t654924\n",
      "Q6GZX3\tRefSeq\tYP_031580.1\n",
      "```"
     ]
    },
    {
     "cell_type": "markdown",
     "metadata": {},
     "source": [
      "```\n",
      "Q6GZX4\t001R_FRG3G\t2947773\tYP_031579.1\t81941549; 47060116; 49237298\t\tGO:0006355; GO:0046782; GO:0006351\t\tUniRef100_Q6GZX4\tUniRef90_Q6GZX4\tUniRef50_Q6GZX4\tUPI00003B0FD4\t\t654924\t\t\t15165820\tAY548484\tAAT09660.1\t\t\t\t\n",
      "Q6GZX3\t002L_FRG3G\t2947774\tYP_031580.1\t49237299; 47060117; 81941548\t\tGO:0033644; GO:0016021\t\tUniRef100_Q6GZX3\tUniRef90_Q6GZX3\tUniRef50_Q6GZX3\tUPI00003B0FD5\t\t654924\t\t\t15165820\tAY548484\tAAT09661.1\t\t\t\t\n",
      "Q197F8\t002R_IIV3\t4156251\tYP_654574.1\t106073503; 109287880; 123808694\t\t\t\tUniRef100_Q197F8\tUniRef90_Q197F8\tUniRef50_Q197F8\tUPI0000D83464\t\t345201\t\t\t16912294\tDQ643392\tABF82032.1\t\t\t\t\n",
      "Q197F7\t003L_IIV3\t4156252\tYP_654575.1\t106073504; 109287881; 123808693\t\t\t\tUniRef100_Q197F7\tUniRef90_Q197F7\tUniRef50_Q197F7\tUPI0000D83465\t\t345201\t\t\t16912294\tDQ643392\tABF82033.1\t\t\t\t\n",
      "Q6GZX2\t003R_FRG3G\t2947775\tYP_031581.1\t81941547; 47060118; 49237300\t\t\t\tUniRef100_Q6GZX2\tUniRef90_Q6GZX2\tUniRef50_Q6GZX2\tUPI00003B0FD6\t\t654924\t\t\t15165820\tAY548484\tAAT09662.1\t\t\t\t\n",
      "Q6GZX1\t004R_FRG3G\t2947776\tYP_031582.1\t81941546; 49237301; 47060119\t\tGO:0033644; GO:0016021\t\tUniRef100_Q6GZX1\tUniRef90_Q6GZX1\tUniRef50_Q6GZX1\tUPI00003B0FD7\t\t654924\t\t\t15165820\tAY548484\tAAT09663.1\t\n",
      "```"
     ]
    },
    {
     "cell_type": "markdown",
     "metadata": {},
     "source": [
      "Will upload idmapping_selected.tab to SQLShare"
     ]
    },
    {
     "cell_type": "code",
     "collapsed": false,
     "input": [
      "!python /Users/sr320/sqlshare-pythonclient/tools/singleupload.py -d idmapping_selected_121113 /Volumes/Bay3\\ scratch/idmapping_selected.tab.gz"
     ],
     "language": "python",
     "metadata": {},
     "outputs": [
      {
       "output_type": "stream",
       "stream": "stdout",
       "text": [
        "processing chunk line 0 to 404920 (0.797477006912 s elapsed)\r\n"
       ]
      },
      {
       "output_type": "stream",
       "stream": "stdout",
       "text": [
        "pushing /Volumes/Bay3 scratch/idmapping_selected.tab.gz...\r\n"
       ]
      },
      {
       "output_type": "stream",
       "stream": "stdout",
       "text": [
        "parsing 2D18304A...\r\n"
       ]
      },
      {
       "output_type": "stream",
       "stream": "stdout",
       "text": [
        "processing chunk line 404920 to 804663 (196.717787981 s elapsed)\r\n"
       ]
      },
      {
       "output_type": "stream",
       "stream": "stdout",
       "text": [
        "pushing /Volumes/Bay3 scratch/idmapping_selected.tab.gz...\r\n"
       ]
      },
      {
       "output_type": "stream",
       "stream": "stdout",
       "text": [
        "parsing 60F1975C...\r\n"
       ]
      },
      {
       "output_type": "stream",
       "stream": "stdout",
       "text": [
        "processing chunk line 804663 to 1200294 (387.686601877 s elapsed)\r\n"
       ]
      },
      {
       "output_type": "stream",
       "stream": "stdout",
       "text": [
        "pushing /Volumes/Bay3 scratch/idmapping_selected.tab.gz...\r\n"
       ]
      },
      {
       "output_type": "stream",
       "stream": "stdout",
       "text": [
        "parsing EFD5EA75...\r\n"
       ]
      },
      {
       "output_type": "stream",
       "stream": "stdout",
       "text": [
        "processing chunk line 1200294 to 1603297 (590.672935009 s elapsed)\r\n"
       ]
      },
      {
       "output_type": "stream",
       "stream": "stdout",
       "text": [
        "pushing /Volumes/Bay3 scratch/idmapping_selected.tab.gz...\r\n"
       ]
      },
      {
       "output_type": "stream",
       "stream": "stdout",
       "text": [
        "parsing 1E7AF5BB...\r\n"
       ]
      },
      {
       "output_type": "stream",
       "stream": "stdout",
       "text": [
        "processing chunk line 1603297 to 1999817 (781.915182829 s elapsed)\r\n"
       ]
      },
      {
       "output_type": "stream",
       "stream": "stdout",
       "text": [
        "pushing /Volumes/Bay3 scratch/idmapping_selected.tab.gz...\r\n"
       ]
      },
      {
       "output_type": "stream",
       "stream": "stdout",
       "text": [
        "parsing 8838C797...\r\n"
       ]
      },
      {
       "output_type": "stream",
       "stream": "stdout",
       "text": [
        "processing chunk line 1999817 to 2381650 (973.880259991 s elapsed)\r\n"
       ]
      },
      {
       "output_type": "stream",
       "stream": "stdout",
       "text": [
        "pushing /Volumes/Bay3 scratch/idmapping_selected.tab.gz...\r\n"
       ]
      },
      {
       "output_type": "stream",
       "stream": "stdout",
       "text": [
        "parsing 862C053D...\r\n"
       ]
      },
      {
       "output_type": "stream",
       "stream": "stdout",
       "text": [
        "processing chunk line 2381650 to 2751257 (1164.87379289 s elapsed)\r\n"
       ]
      },
      {
       "output_type": "stream",
       "stream": "stdout",
       "text": [
        "pushing /Volumes/Bay3 scratch/idmapping_selected.tab.gz...\r\n"
       ]
      },
      {
       "output_type": "stream",
       "stream": "stdout",
       "text": [
        "parsing 5A92F27E...\r\n"
       ]
      },
      {
       "output_type": "stream",
       "stream": "stdout",
       "text": [
        "processing chunk line 2751257 to 3114718 (1358.75076485 s elapsed)\r\n"
       ]
      },
      {
       "output_type": "stream",
       "stream": "stdout",
       "text": [
        "pushing /Volumes/Bay3 scratch/idmapping_selected.tab.gz...\r\n"
       ]
      },
      {
       "output_type": "stream",
       "stream": "stdout",
       "text": [
        "parsing 11E83A1F...\r\n"
       ]
      },
      {
       "output_type": "stream",
       "stream": "stdout",
       "text": [
        "processing chunk line 3114718 to 3455882 (1548.53822899 s elapsed)\r\n"
       ]
      },
      {
       "output_type": "stream",
       "stream": "stdout",
       "text": [
        "pushing /Volumes/Bay3 scratch/idmapping_selected.tab.gz...\r\n"
       ]
      },
      {
       "output_type": "stream",
       "stream": "stdout",
       "text": [
        "parsing 93D54A5A...\r\n"
       ]
      },
      {
       "output_type": "stream",
       "stream": "stdout",
       "text": [
        "processing chunk line 3455882 to 3800974 (1739.83408785 s elapsed)\r\n"
       ]
      },
      {
       "output_type": "stream",
       "stream": "stdout",
       "text": [
        "pushing /Volumes/Bay3 scratch/idmapping_selected.tab.gz...\r\n"
       ]
      },
      {
       "output_type": "stream",
       "stream": "stdout",
       "text": [
        "parsing 0A06501A...\r\n"
       ]
      },
      {
       "output_type": "stream",
       "stream": "stdout",
       "text": [
        "processing chunk line 3800974 to 4135114 (1932.12593889 s elapsed)\r\n"
       ]
      },
      {
       "output_type": "stream",
       "stream": "stdout",
       "text": [
        "pushing /Volumes/Bay3 scratch/idmapping_selected.tab.gz...\r\n"
       ]
      },
      {
       "output_type": "stream",
       "stream": "stdout",
       "text": [
        "Traceback (most recent call last):\r\n",
        "  File \"/Users/sr320/sqlshare-pythonclient/tools/singleupload.py\", line 42, in <module>\r\n",
        "    main()\r\n",
        "  File \"/Users/sr320/sqlshare-pythonclient/tools/singleupload.py\", line 39, in main\r\n",
        "    conn.uploadone(args[0], datasetname)\r\n",
        "  File \"/Library/Python/2.7/site-packages/SQLShare-0.1a-py2.7.egg/sqlshare/__init__.py\", line 183, in uploadone\r\n",
        "    self.upload_chunk(fn, dataset_name, chunk, True, False)\r\n",
        "  File \"/Library/Python/2.7/site-packages/SQLShare-0.1a-py2.7.egg/sqlshare/__init__.py\", line 197, in upload_chunk\r\n",
        "    jsonuploadid = self.post_file_chunk(fn, dataset_name, chunk, force_append, force_column_headers) \r\n",
        "  File \"/Library/Python/2.7/site-packages/SQLShare-0.1a-py2.7.egg/sqlshare/__init__.py\", line 136, in post_file_chunk\r\n",
        "    h.request('POST', selector, body, headers)\r\n",
        "  File \"/System/Library/Frameworks/Python.framework/Versions/2.7/lib/python2.7/httplib.py\", line 941, in request\r\n",
        "    self._send_request(method, url, body, headers)\r\n",
        "  File \"/System/Library/Frameworks/Python.framework/Versions/2.7/lib/python2.7/httplib.py\", line 975, in _send_request\r\n",
        "    self.endheaders(body)\r\n",
        "  File \"/System/Library/Frameworks/Python.framework/Versions/2.7/lib/python2.7/httplib.py\", line 937, in endheaders\r\n",
        "    self._send_output(message_body)\r\n",
        "  File \"/System/Library/Frameworks/Python.framework/Versions/2.7/lib/python2.7/httplib.py\", line 797, in _send_output\r\n",
        "    self.send(msg)\r\n",
        "  File \"/System/Library/Frameworks/Python.framework/Versions/2.7/lib/python2.7/httplib.py\", line 773, in send\r\n",
        "    self.sock.sendall(data)\r\n",
        "  File \"/System/Library/Frameworks/Python.framework/Versions/2.7/lib/python2.7/ssl.py\", line 207, in sendall\r\n",
        "    v = self.send(data[count:])\r\n",
        "  File \"/System/Library/Frameworks/Python.framework/Versions/2.7/lib/python2.7/ssl.py\", line 176, in send\r\n",
        "    v = self._sslobj.write(data)\r\n",
        "socket.error: [Errno 32] Broken pipe\r\n"
       ]
      }
     ],
     "prompt_number": 1
    },
    {
     "cell_type": "heading",
     "level": 1,
     "metadata": {},
     "source": [
      "GOA Data tables "
     ]
    },
    {
     "cell_type": "markdown",
     "metadata": {},
     "source": [
      "<img src=\"http://eagle.fish.washington.edu/cnidarian/skitch/Index_of__pub_databases_GO_goa_UNIPROT_1875E863.png\" alt=\"Index_of__pub_databases_GO_goa_UNIPROT_1875E863.png\"/>"
     ]
    },
    {
     "cell_type": "code",
     "collapsed": false,
     "input": [
      "!head -25 /Volumes/Bay3\\ scratch/gp_association_goa_uniprot\n"
     ],
     "language": "python",
     "metadata": {},
     "outputs": [
      {
       "output_type": "stream",
       "stream": "stdout",
       "text": [
        "!gpa-version: 1.1\r\n",
        "!\r\n",
        "!This file contains all GO annotations for proteins in the UniProt KnowledgeBase (UniProtKB).\r\n",
        "!If a particular protein accession is not annotated with GO, then it will not appear in this file.\r\n",
        "!\r\n",
        "!Columns:\r\n",
        "!\r\n",
        "!   name                  required? cardinality   GAF column #\r\n",
        "!   DB                    required  1             1\r\n",
        "!   DB_Object_ID          required  1             2 / 17\r\n",
        "!   Qualifier             required  1 or greater  4\r\n",
        "!   GO ID                 required  1             5\r\n",
        "!   DB:Reference(s)       required  1 or greater  6\r\n",
        "!   ECO evidence code     required  1             7 (GO evidence code)\r\n",
        "!   With                  optional  0 or greater  8\r\n",
        "!   Interacting taxon ID  optional  0 or 1        13\r\n",
        "!   Date                  required  1             14\r\n",
        "!   Assigned_by           required  1             15\r\n",
        "!   Annotation Extension  optional  0 or greater  16\r\n",
        "!   Annotation Properties optional  0 or 1        n/a\r\n",
        "!\r\n",
        "!Generated: 2013-12-10 06:22\r\n",
        "!\r\n",
        "UniProtKB\tA0A000\tenables\tGO:0003824\tGO_REF:0000002\tECO:0000256\tInterPro:IPR015421|InterPro:IPR015422\t\t20131207\tInterPro\t\t\r\n",
        "UniProtKB\tA0A000\tenables\tGO:0003870\tGO_REF:0000002\tECO:0000256\tInterPro:IPR010961\t\t20131207\tInterPro\t\t\r\n"
       ]
      }
     ],
     "prompt_number": 5
    },
    {
     "cell_type": "code",
     "collapsed": false,
     "input": [
      "#remove 23 lines"
     ],
     "language": "python",
     "metadata": {},
     "outputs": [],
     "prompt_number": 6
    },
    {
     "cell_type": "code",
     "collapsed": false,
     "input": [
      "!tail -n +24 /Volumes/Bay3\\ scratch/gp_association_goa_uniprot > /Volumes/Bay3\\ scratch/gp_association_goa_uniprot_121113"
     ],
     "language": "python",
     "metadata": {},
     "outputs": [
      {
       "output_type": "stream",
       "stream": "stdout",
       "text": [
        "^C\r\n"
       ]
      }
     ],
     "prompt_number": 7
    },
    {
     "cell_type": "code",
     "collapsed": false,
     "input": [
      "!grep -Ev '!' /Volumes/Bay3\\ scratch/gp_association_goa_uniprot > /Volumes/Bay3\\ scratch/gp_association_goa_uniprot_2"
     ],
     "language": "python",
     "metadata": {},
     "outputs": [],
     "prompt_number": 10
    },
    {
     "cell_type": "code",
     "collapsed": false,
     "input": [
      "!head /Users/sr320/Desktop/tst.txt\n"
     ],
     "language": "python",
     "metadata": {},
     "outputs": [
      {
       "output_type": "stream",
       "stream": "stdout",
       "text": [
        "UniProtKB\tA0A000\tenables\tGO:0003824\tGO_REF:0000002\tECO:0000256\tInterPro:IPR015421|InterPro:IPR015422\t\t20131207\tInterPro\t\t\r\n",
        "UniProtKB\tA0A000\tenables\tGO:0003870\tGO_REF:0000002\tECO:0000256\tInterPro:IPR010961\t\t20131207\tInterPro\t\t\r\n",
        "UniProtKB\tA0A000\tenables\tGO:0030170\tGO_REF:0000002\tECO:0000256\tInterPro:IPR004839|InterPro:IPR010961|InterPro:IPR015421|InterPro:IPR015422\t\t20131207\tInterPro\t\t\r\n",
        "UniProtKB\tA0A000\tinvolved_in\tGO:0009058\tGO_REF:0000002\tECO:0000256\tInterPro:IPR004839\t\t20131207\tInterPro\t\t\r\n",
        "UniProtKB\tA0A000\tinvolved_in\tGO:0033014\tGO_REF:0000002\tECO:0000256\tInterPro:IPR010961\t\t20131207\tInterPro\t\t\r\n",
        "UniProtKB\tA0A001\tenables\tGO:0000166\tGO_REF:0000002\tECO:0000256\tInterPro:IPR003593\t\t20131207\tInterPro\t\t\r\n",
        "UniProtKB\tA0A001\tenables\tGO:0000166\tGO_REF:0000038\tECO:0000323\tUniProtKB-KW:KW-0547\t\t20131207\tUniProt\t\t\r\n",
        "UniProtKB\tA0A001\tenables\tGO:0005524\tGO_REF:0000002\tECO:0000256\tInterPro:IPR001140|InterPro:IPR003439|InterPro:IPR011527|InterPro:IPR017871\t\t20131207\tInterPro\t\t\r\n",
        "UniProtKB\tA0A001\tenables\tGO:0005524\tGO_REF:0000038\tECO:0000323\tUniProtKB-KW:KW-0067\t\t20131207\tUniProt\t\t\r\n",
        "UniProtKB\tA0A001\tenables\tGO:0016887\tGO_REF:0000002\tECO:0000256\tInterPro:IPR003439|InterPro:IPR017871\t\t20131207\tInterPro\t\t\r\n"
       ]
      }
     ],
     "prompt_number": 9
    },
    {
     "cell_type": "code",
     "collapsed": false,
     "input": [],
     "language": "python",
     "metadata": {},
     "outputs": []
    }
   ],
   "metadata": {}
  }
 ]
}