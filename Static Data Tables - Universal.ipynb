{
 "metadata": {
  "name": ""
 },
 "nbformat": 3,
 "nbformat_minor": 0,
 "worksheets": [
  {
   "cells": [
    {
     "cell_type": "heading",
     "level": 1,
     "metadata": {},
     "source": [
      "Uniprot (Swiss-prot)"
     ]
    },
    {
     "cell_type": "markdown",
     "metadata": {},
     "source": [
      "Investigating ID mappings"
     ]
    },
    {
     "cell_type": "markdown",
     "metadata": {},
     "source": [
      "<img src=\"http://eagle.fish.washington.edu/cnidarian/skitch/Index_of__pub_databases_uniprot_current_release_knowledgebase_idmapping_1875E702.png\" alt=\"Index_of__pub_databases_uniprot_current_release_knowledgebase_idmapping_1875E702.png\"/>"
     ]
    },
    {
     "cell_type": "markdown",
     "metadata": {},
     "source": [
      "```\n",
      "Q6GZX4\tUniProtKB-ID\t001R_FRG3G\n",
      "Q6GZX4\tGI\t81941549\n",
      "Q6GZX4\tGI\t47060116\n",
      "Q6GZX4\tGI\t49237298\n",
      "Q6GZX4\tUniRef100\tUniRef100_Q6GZX4\n",
      "Q6GZX4\tUniRef90\tUniRef90_Q6GZX4\n",
      "Q6GZX4\tUniRef50\tUniRef50_Q6GZX4\n",
      "Q6GZX4\tUniParc\tUPI00003B0FD4\n",
      "Q6GZX4\tEMBL\tAY548484\n",
      "Q6GZX4\tEMBL-CDS\tAAT09660.1\n",
      "Q6GZX4\tNCBI_TaxID\t654924\n",
      "Q6GZX4\tRefSeq\tYP_031579.1\n",
      "Q6GZX4\tRefSeq_NT\tNC_005946.1\n",
      "Q6GZX4\tGeneID\t2947773\n",
      "Q6GZX4\tProtClustDB\tCLSP2511514\n",
      "Q6GZX3\tUniProtKB-ID\t002L_FRG3G\n",
      "Q6GZX3\tGI\t49237299\n",
      "Q6GZX3\tGI\t47060117\n",
      "Q6GZX3\tGI\t81941548\n",
      "Q6GZX3\tUniRef100\tUniRef100_Q6GZX3\n",
      "Q6GZX3\tUniRef90\tUniRef90_Q6GZX3\n",
      "Q6GZX3\tUniRef50\tUniRef50_Q6GZX3\n",
      "Q6GZX3\tUniParc\tUPI00003B0FD5\n",
      "Q6GZX3\tEMBL\tAY548484\n",
      "Q6GZX3\tEMBL-CDS\tAAT09661.1\n",
      "Q6GZX3\tNCBI_TaxID\t654924\n",
      "Q6GZX3\tRefSeq\tYP_031580.1\n",
      "```"
     ]
    },
    {
     "cell_type": "markdown",
     "metadata": {},
     "source": [
      "```\n",
      "Q6GZX4\t001R_FRG3G\t2947773\tYP_031579.1\t81941549; 47060116; 49237298\t\tGO:0006355; GO:0046782; GO:0006351\t\tUniRef100_Q6GZX4\tUniRef90_Q6GZX4\tUniRef50_Q6GZX4\tUPI00003B0FD4\t\t654924\t\t\t15165820\tAY548484\tAAT09660.1\t\t\t\t\n",
      "Q6GZX3\t002L_FRG3G\t2947774\tYP_031580.1\t49237299; 47060117; 81941548\t\tGO:0033644; GO:0016021\t\tUniRef100_Q6GZX3\tUniRef90_Q6GZX3\tUniRef50_Q6GZX3\tUPI00003B0FD5\t\t654924\t\t\t15165820\tAY548484\tAAT09661.1\t\t\t\t\n",
      "Q197F8\t002R_IIV3\t4156251\tYP_654574.1\t106073503; 109287880; 123808694\t\t\t\tUniRef100_Q197F8\tUniRef90_Q197F8\tUniRef50_Q197F8\tUPI0000D83464\t\t345201\t\t\t16912294\tDQ643392\tABF82032.1\t\t\t\t\n",
      "Q197F7\t003L_IIV3\t4156252\tYP_654575.1\t106073504; 109287881; 123808693\t\t\t\tUniRef100_Q197F7\tUniRef90_Q197F7\tUniRef50_Q197F7\tUPI0000D83465\t\t345201\t\t\t16912294\tDQ643392\tABF82033.1\t\t\t\t\n",
      "Q6GZX2\t003R_FRG3G\t2947775\tYP_031581.1\t81941547; 47060118; 49237300\t\t\t\tUniRef100_Q6GZX2\tUniRef90_Q6GZX2\tUniRef50_Q6GZX2\tUPI00003B0FD6\t\t654924\t\t\t15165820\tAY548484\tAAT09662.1\t\t\t\t\n",
      "Q6GZX1\t004R_FRG3G\t2947776\tYP_031582.1\t81941546; 49237301; 47060119\t\tGO:0033644; GO:0016021\t\tUniRef100_Q6GZX1\tUniRef90_Q6GZX1\tUniRef50_Q6GZX1\tUPI00003B0FD7\t\t654924\t\t\t15165820\tAY548484\tAAT09663.1\t\n",
      "```"
     ]
    },
    {
     "cell_type": "markdown",
     "metadata": {},
     "source": [
      "Will upload idmapping_selected.tab to SQLShare"
     ]
    },
    {
     "cell_type": "code",
     "collapsed": false,
     "input": [
      "!python /Users/sr320/sqlshare-pythonclient/tools/singleupload.py -d idmapping_selected_121113 /Volumes/Bay3\\ scratch/idmapping_selected.tab"
     ],
     "language": "python",
     "metadata": {},
     "outputs": [
      {
       "output_type": "stream",
       "stream": "stdout",
       "text": [
        "processing chunk line 0 to 404920 (0.797477006912 s elapsed)\r\n"
       ]
      },
      {
       "output_type": "stream",
       "stream": "stdout",
       "text": [
        "pushing /Volumes/Bay3 scratch/idmapping_selected.tab.gz...\r\n"
       ]
      },
      {
       "output_type": "stream",
       "stream": "stdout",
       "text": [
        "parsing 2D18304A...\r\n"
       ]
      },
      {
       "output_type": "stream",
       "stream": "stdout",
       "text": [
        "processing chunk line 404920 to 804663 (196.717787981 s elapsed)\r\n"
       ]
      },
      {
       "output_type": "stream",
       "stream": "stdout",
       "text": [
        "pushing /Volumes/Bay3 scratch/idmapping_selected.tab.gz...\r\n"
       ]
      },
      {
       "output_type": "stream",
       "stream": "stdout",
       "text": [
        "parsing 60F1975C...\r\n"
       ]
      },
      {
       "output_type": "stream",
       "stream": "stdout",
       "text": [
        "processing chunk line 804663 to 1200294 (387.686601877 s elapsed)\r\n"
       ]
      },
      {
       "output_type": "stream",
       "stream": "stdout",
       "text": [
        "pushing /Volumes/Bay3 scratch/idmapping_selected.tab.gz...\r\n"
       ]
      },
      {
       "output_type": "stream",
       "stream": "stdout",
       "text": [
        "parsing EFD5EA75...\r\n"
       ]
      },
      {
       "output_type": "stream",
       "stream": "stdout",
       "text": [
        "processing chunk line 1200294 to 1603297 (590.672935009 s elapsed)\r\n"
       ]
      },
      {
       "output_type": "stream",
       "stream": "stdout",
       "text": [
        "pushing /Volumes/Bay3 scratch/idmapping_selected.tab.gz...\r\n"
       ]
      },
      {
       "output_type": "stream",
       "stream": "stdout",
       "text": [
        "parsing 1E7AF5BB...\r\n"
       ]
      },
      {
       "output_type": "stream",
       "stream": "stdout",
       "text": [
        "processing chunk line 1603297 to 1999817 (781.915182829 s elapsed)\r\n"
       ]
      },
      {
       "output_type": "stream",
       "stream": "stdout",
       "text": [
        "pushing /Volumes/Bay3 scratch/idmapping_selected.tab.gz...\r\n"
       ]
      },
      {
       "output_type": "stream",
       "stream": "stdout",
       "text": [
        "parsing 8838C797...\r\n"
       ]
      },
      {
       "output_type": "stream",
       "stream": "stdout",
       "text": [
        "processing chunk line 1999817 to 2381650 (973.880259991 s elapsed)\r\n"
       ]
      },
      {
       "output_type": "stream",
       "stream": "stdout",
       "text": [
        "pushing /Volumes/Bay3 scratch/idmapping_selected.tab.gz...\r\n"
       ]
      },
      {
       "output_type": "stream",
       "stream": "stdout",
       "text": [
        "parsing 862C053D...\r\n"
       ]
      },
      {
       "output_type": "stream",
       "stream": "stdout",
       "text": [
        "processing chunk line 2381650 to 2751257 (1164.87379289 s elapsed)\r\n"
       ]
      },
      {
       "output_type": "stream",
       "stream": "stdout",
       "text": [
        "pushing /Volumes/Bay3 scratch/idmapping_selected.tab.gz...\r\n"
       ]
      },
      {
       "output_type": "stream",
       "stream": "stdout",
       "text": [
        "parsing 5A92F27E...\r\n"
       ]
      },
      {
       "output_type": "stream",
       "stream": "stdout",
       "text": [
        "processing chunk line 2751257 to 3114718 (1358.75076485 s elapsed)\r\n"
       ]
      },
      {
       "output_type": "stream",
       "stream": "stdout",
       "text": [
        "pushing /Volumes/Bay3 scratch/idmapping_selected.tab.gz...\r\n"
       ]
      },
      {
       "output_type": "stream",
       "stream": "stdout",
       "text": [
        "parsing 11E83A1F...\r\n"
       ]
      },
      {
       "output_type": "stream",
       "stream": "stdout",
       "text": [
        "processing chunk line 3114718 to 3455882 (1548.53822899 s elapsed)\r\n"
       ]
      },
      {
       "output_type": "stream",
       "stream": "stdout",
       "text": [
        "pushing /Volumes/Bay3 scratch/idmapping_selected.tab.gz...\r\n"
       ]
      },
      {
       "output_type": "stream",
       "stream": "stdout",
       "text": [
        "parsing 93D54A5A...\r\n"
       ]
      },
      {
       "output_type": "stream",
       "stream": "stdout",
       "text": [
        "processing chunk line 3455882 to 3800974 (1739.83408785 s elapsed)\r\n"
       ]
      },
      {
       "output_type": "stream",
       "stream": "stdout",
       "text": [
        "pushing /Volumes/Bay3 scratch/idmapping_selected.tab.gz...\r\n"
       ]
      },
      {
       "output_type": "stream",
       "stream": "stdout",
       "text": [
        "parsing 0A06501A...\r\n"
       ]
      },
      {
       "output_type": "stream",
       "stream": "stdout",
       "text": [
        "processing chunk line 3800974 to 4135114 (1932.12593889 s elapsed)\r\n"
       ]
      },
      {
       "output_type": "stream",
       "stream": "stdout",
       "text": [
        "pushing /Volumes/Bay3 scratch/idmapping_selected.tab.gz...\r\n"
       ]
      },
      {
       "output_type": "stream",
       "stream": "stdout",
       "text": [
        "Traceback (most recent call last):\r\n",
        "  File \"/Users/sr320/sqlshare-pythonclient/tools/singleupload.py\", line 42, in <module>\r\n",
        "    main()\r\n",
        "  File \"/Users/sr320/sqlshare-pythonclient/tools/singleupload.py\", line 39, in main\r\n",
        "    conn.uploadone(args[0], datasetname)\r\n",
        "  File \"/Library/Python/2.7/site-packages/SQLShare-0.1a-py2.7.egg/sqlshare/__init__.py\", line 183, in uploadone\r\n",
        "    self.upload_chunk(fn, dataset_name, chunk, True, False)\r\n",
        "  File \"/Library/Python/2.7/site-packages/SQLShare-0.1a-py2.7.egg/sqlshare/__init__.py\", line 197, in upload_chunk\r\n",
        "    jsonuploadid = self.post_file_chunk(fn, dataset_name, chunk, force_append, force_column_headers) \r\n",
        "  File \"/Library/Python/2.7/site-packages/SQLShare-0.1a-py2.7.egg/sqlshare/__init__.py\", line 136, in post_file_chunk\r\n",
        "    h.request('POST', selector, body, headers)\r\n",
        "  File \"/System/Library/Frameworks/Python.framework/Versions/2.7/lib/python2.7/httplib.py\", line 941, in request\r\n",
        "    self._send_request(method, url, body, headers)\r\n",
        "  File \"/System/Library/Frameworks/Python.framework/Versions/2.7/lib/python2.7/httplib.py\", line 975, in _send_request\r\n",
        "    self.endheaders(body)\r\n",
        "  File \"/System/Library/Frameworks/Python.framework/Versions/2.7/lib/python2.7/httplib.py\", line 937, in endheaders\r\n",
        "    self._send_output(message_body)\r\n",
        "  File \"/System/Library/Frameworks/Python.framework/Versions/2.7/lib/python2.7/httplib.py\", line 797, in _send_output\r\n",
        "    self.send(msg)\r\n",
        "  File \"/System/Library/Frameworks/Python.framework/Versions/2.7/lib/python2.7/httplib.py\", line 773, in send\r\n",
        "    self.sock.sendall(data)\r\n",
        "  File \"/System/Library/Frameworks/Python.framework/Versions/2.7/lib/python2.7/ssl.py\", line 207, in sendall\r\n",
        "    v = self.send(data[count:])\r\n",
        "  File \"/System/Library/Frameworks/Python.framework/Versions/2.7/lib/python2.7/ssl.py\", line 176, in send\r\n",
        "    v = self._sslobj.write(data)\r\n",
        "socket.error: [Errno 32] Broken pipe\r\n"
       ]
      }
     ],
     "prompt_number": 1
    },
    {
     "cell_type": "heading",
     "level": 1,
     "metadata": {},
     "source": [
      "GOA Data tables "
     ]
    },
    {
     "cell_type": "markdown",
     "metadata": {},
     "source": [
      "<img src=\"http://eagle.fish.washington.edu/cnidarian/skitch/Index_of__pub_databases_GO_goa_UNIPROT_1875E863.png\" alt=\"Index_of__pub_databases_GO_goa_UNIPROT_1875E863.png\"/>"
     ]
    },
    {
     "cell_type": "code",
     "collapsed": false,
     "input": [
      "!head -25 /Volumes/Bay3\\ scratch/gp_association_goa_uniprot\n"
     ],
     "language": "python",
     "metadata": {},
     "outputs": [
      {
       "output_type": "stream",
       "stream": "stdout",
       "text": [
        "!gpa-version: 1.1\r\n",
        "!\r\n",
        "!This file contains all GO annotations for proteins in the UniProt KnowledgeBase (UniProtKB).\r\n",
        "!If a particular protein accession is not annotated with GO, then it will not appear in this file.\r\n",
        "!\r\n",
        "!Columns:\r\n",
        "!\r\n",
        "!   name                  required? cardinality   GAF column #\r\n",
        "!   DB                    required  1             1\r\n",
        "!   DB_Object_ID          required  1             2 / 17\r\n",
        "!   Qualifier             required  1 or greater  4\r\n",
        "!   GO ID                 required  1             5\r\n",
        "!   DB:Reference(s)       required  1 or greater  6\r\n",
        "!   ECO evidence code     required  1             7 (GO evidence code)\r\n",
        "!   With                  optional  0 or greater  8\r\n",
        "!   Interacting taxon ID  optional  0 or 1        13\r\n",
        "!   Date                  required  1             14\r\n",
        "!   Assigned_by           required  1             15\r\n",
        "!   Annotation Extension  optional  0 or greater  16\r\n",
        "!   Annotation Properties optional  0 or 1        n/a\r\n",
        "!\r\n",
        "!Generated: 2013-12-10 06:22\r\n",
        "!\r\n",
        "UniProtKB\tA0A000\tenables\tGO:0003824\tGO_REF:0000002\tECO:0000256\tInterPro:IPR015421|InterPro:IPR015422\t\t20131207\tInterPro\t\t\r\n",
        "UniProtKB\tA0A000\tenables\tGO:0003870\tGO_REF:0000002\tECO:0000256\tInterPro:IPR010961\t\t20131207\tInterPro\t\t\r\n"
       ]
      }
     ],
     "prompt_number": 5
    },
    {
     "cell_type": "code",
     "collapsed": false,
     "input": [
      "#remove 23 lines"
     ],
     "language": "python",
     "metadata": {},
     "outputs": [],
     "prompt_number": 6
    },
    {
     "cell_type": "code",
     "collapsed": false,
     "input": [
      "!grep -Ev '!' /Volumes/Bay3\\ scratch/gp_association_goa_uniprot > /Volumes/Bay3\\ scratch/gp_association_goa_uniprot_2"
     ],
     "language": "python",
     "metadata": {},
     "outputs": [],
     "prompt_number": 10
    },
    {
     "cell_type": "code",
     "collapsed": false,
     "input": [
      "!head /Volumes/Bay3\\ scratch/gp_association_goa_uniprot_2\n"
     ],
     "language": "python",
     "metadata": {},
     "outputs": [
      {
       "output_type": "stream",
       "stream": "stdout",
       "text": [
        "UniProtKB\tA0A000\tenables\tGO:0003824\tGO_REF:0000002\tECO:0000256\tInterPro:IPR015421|InterPro:IPR015422\t\t20131207\tInterPro\t\t\r\n",
        "UniProtKB\tA0A000\tenables\tGO:0003870\tGO_REF:0000002\tECO:0000256\tInterPro:IPR010961\t\t20131207\tInterPro\t\t\r\n",
        "UniProtKB\tA0A000\tenables\tGO:0030170\tGO_REF:0000002\tECO:0000256\tInterPro:IPR004839|InterPro:IPR010961|InterPro:IPR015421|InterPro:IPR015422\t\t20131207\tInterPro\t\t\r\n",
        "UniProtKB\tA0A000\tinvolved_in\tGO:0009058\tGO_REF:0000002\tECO:0000256\tInterPro:IPR004839\t\t20131207\tInterPro\t\t\r\n",
        "UniProtKB\tA0A000\tinvolved_in\tGO:0033014\tGO_REF:0000002\tECO:0000256\tInterPro:IPR010961\t\t20131207\tInterPro\t\t\r\n",
        "UniProtKB\tA0A001\tenables\tGO:0000166\tGO_REF:0000002\tECO:0000256\tInterPro:IPR003593\t\t20131207\tInterPro\t\t\r\n",
        "UniProtKB\tA0A001\tenables\tGO:0000166\tGO_REF:0000038\tECO:0000323\tUniProtKB-KW:KW-0547\t\t20131207\tUniProt\t\t\r\n",
        "UniProtKB\tA0A001\tenables\tGO:0005524\tGO_REF:0000002\tECO:0000256\tInterPro:IPR001140|InterPro:IPR003439|InterPro:IPR011527|InterPro:IPR017871\t\t20131207\tInterPro\t\t\r\n",
        "UniProtKB\tA0A001\tenables\tGO:0005524\tGO_REF:0000038\tECO:0000323\tUniProtKB-KW:KW-0067\t\t20131207\tUniProt\t\t\r\n",
        "UniProtKB\tA0A001\tenables\tGO:0016887\tGO_REF:0000002\tECO:0000256\tInterPro:IPR003439|InterPro:IPR017871\t\t20131207\tInterPro\t\t\r\n"
       ]
      }
     ],
     "prompt_number": 11
    },
    {
     "cell_type": "code",
     "collapsed": false,
     "input": [
      "!python /Users/sr320/sqlshare-pythonclient/tools/singleupload.py -d gp_association_goa_uniprot_121113 /Volumes/Bay3\\ scratch/gp_association_goa_uniprot_2"
     ],
     "language": "python",
     "metadata": {},
     "outputs": [
      {
       "output_type": "stream",
       "stream": "stdout",
       "text": [
        "processing chunk line 0 to 956228 (2.73824191093 s elapsed)\r\n"
       ]
      },
      {
       "output_type": "stream",
       "stream": "stdout",
       "text": [
        "pushing /Volumes/Bay3 scratch/gp_association_goa_uniprot_2...\r\n"
       ]
      },
      {
       "output_type": "stream",
       "stream": "stdout",
       "text": [
        "parsing 87565A3F...\r\n"
       ]
      },
      {
       "output_type": "stream",
       "stream": "stdout",
       "text": [
        "processing chunk line 956228 to 1924002 (173.639793873 s elapsed)\r\n"
       ]
      },
      {
       "output_type": "stream",
       "stream": "stdout",
       "text": [
        "pushing /Volumes/Bay3 scratch/gp_association_goa_uniprot_2...\r\n"
       ]
      },
      {
       "output_type": "stream",
       "stream": "stdout",
       "text": [
        "parsing 3FC9F764...\r\n"
       ]
      },
      {
       "output_type": "stream",
       "stream": "stdout",
       "text": [
        "processing chunk line 1924002 to 2879903 (341.336001873 s elapsed)\r\n"
       ]
      },
      {
       "output_type": "stream",
       "stream": "stdout",
       "text": [
        "pushing /Volumes/Bay3 scratch/gp_association_goa_uniprot_2...\r\n"
       ]
      },
      {
       "output_type": "stream",
       "stream": "stdout",
       "text": [
        "parsing 076440F7...\r\n"
       ]
      },
      {
       "output_type": "stream",
       "stream": "stdout",
       "text": [
        "processing chunk line 2879903 to 3838360 (502.78599596 s elapsed)\r\n"
       ]
      },
      {
       "output_type": "stream",
       "stream": "stdout",
       "text": [
        "pushing /Volumes/Bay3 scratch/gp_association_goa_uniprot_2...\r\n"
       ]
      },
      {
       "output_type": "stream",
       "stream": "stdout",
       "text": [
        "parsing 97AB7D85...\r\n"
       ]
      },
      {
       "output_type": "stream",
       "stream": "stdout",
       "text": [
        "processing chunk line 3838360 to 4794311 (661.199301958 s elapsed)\r\n"
       ]
      },
      {
       "output_type": "stream",
       "stream": "stdout",
       "text": [
        "pushing /Volumes/Bay3 scratch/gp_association_goa_uniprot_2...\r\n"
       ]
      },
      {
       "output_type": "stream",
       "stream": "stdout",
       "text": [
        "parsing E5312D06...\r\n"
       ]
      },
      {
       "output_type": "stream",
       "stream": "stdout",
       "text": [
        "processing chunk line 4794311 to 5750717 (819.598520994 s elapsed)\r\n"
       ]
      },
      {
       "output_type": "stream",
       "stream": "stdout",
       "text": [
        "pushing /Volumes/Bay3 scratch/gp_association_goa_uniprot_2...\r\n"
       ]
      },
      {
       "output_type": "stream",
       "stream": "stdout",
       "text": [
        "parsing B02386BA...\r\n"
       ]
      },
      {
       "output_type": "stream",
       "stream": "stdout",
       "text": [
        "processing chunk line 5750717 to 6707456 (984.725129843 s elapsed)\r\n"
       ]
      },
      {
       "output_type": "stream",
       "stream": "stdout",
       "text": [
        "pushing /Volumes/Bay3 scratch/gp_association_goa_uniprot_2...\r\n"
       ]
      },
      {
       "output_type": "stream",
       "stream": "stdout",
       "text": [
        "parsing BADFF499...\r\n"
       ]
      },
      {
       "output_type": "stream",
       "stream": "stdout",
       "text": [
        "processing chunk line 6707456 to 7662648 (1147.03977489 s elapsed)\r\n"
       ]
      },
      {
       "output_type": "stream",
       "stream": "stdout",
       "text": [
        "pushing /Volumes/Bay3 scratch/gp_association_goa_uniprot_2...\r\n"
       ]
      },
      {
       "output_type": "stream",
       "stream": "stdout",
       "text": [
        "parsing 73D161C7...\r\n"
       ]
      },
      {
       "output_type": "stream",
       "stream": "stdout",
       "text": [
        "processing chunk line 7662648 to 8619606 (1307.64190698 s elapsed)\r\n"
       ]
      },
      {
       "output_type": "stream",
       "stream": "stdout",
       "text": [
        "pushing /Volumes/Bay3 scratch/gp_association_goa_uniprot_2...\r\n"
       ]
      },
      {
       "output_type": "stream",
       "stream": "stdout",
       "text": [
        "parsing B635F303...\r\n"
       ]
      },
      {
       "output_type": "stream",
       "stream": "stdout",
       "text": [
        "processing chunk line 8619606 to 9575278 (1470.3125689 s elapsed)\r\n"
       ]
      },
      {
       "output_type": "stream",
       "stream": "stdout",
       "text": [
        "pushing /Volumes/Bay3 scratch/gp_association_goa_uniprot_2...\r\n"
       ]
      },
      {
       "output_type": "stream",
       "stream": "stdout",
       "text": [
        "parsing 93311D3B...\r\n"
       ]
      },
      {
       "output_type": "stream",
       "stream": "stdout",
       "text": [
        "processing chunk line 9575278 to 10533990 (1634.06120706 s elapsed)\r\n"
       ]
      },
      {
       "output_type": "stream",
       "stream": "stdout",
       "text": [
        "pushing /Volumes/Bay3 scratch/gp_association_goa_uniprot_2...\r\n"
       ]
      },
      {
       "output_type": "stream",
       "stream": "stdout",
       "text": [
        "parsing DCD1BF05...\r\n"
       ]
      },
      {
       "output_type": "stream",
       "stream": "stdout",
       "text": [
        "processing chunk line 10533990 to 11490212 (1801.01511598 s elapsed)\r\n"
       ]
      },
      {
       "output_type": "stream",
       "stream": "stdout",
       "text": [
        "pushing /Volumes/Bay3 scratch/gp_association_goa_uniprot_2...\r\n"
       ]
      },
      {
       "output_type": "stream",
       "stream": "stdout",
       "text": [
        "parsing EBDA25CA...\r\n"
       ]
      },
      {
       "output_type": "stream",
       "stream": "stdout",
       "text": [
        "processing chunk line 11490212 to 12446581 (1967.48871303 s elapsed)\r\n"
       ]
      },
      {
       "output_type": "stream",
       "stream": "stdout",
       "text": [
        "pushing /Volumes/Bay3 scratch/gp_association_goa_uniprot_2...\r\n"
       ]
      },
      {
       "output_type": "stream",
       "stream": "stdout",
       "text": [
        "parsing 6E87429C...\r\n"
       ]
      },
      {
       "output_type": "stream",
       "stream": "stdout",
       "text": [
        "processing chunk line 12446581 to 13403859 (2138.50905895 s elapsed)\r\n"
       ]
      },
      {
       "output_type": "stream",
       "stream": "stdout",
       "text": [
        "pushing /Volumes/Bay3 scratch/gp_association_goa_uniprot_2...\r\n"
       ]
      },
      {
       "output_type": "stream",
       "stream": "stdout",
       "text": [
        "parsing 98A40415...\r\n"
       ]
      },
      {
       "output_type": "stream",
       "stream": "stdout",
       "text": [
        "processing chunk line 13403859 to 14359339 (2309.88975692 s elapsed)\r\n"
       ]
      },
      {
       "output_type": "stream",
       "stream": "stdout",
       "text": [
        "pushing /Volumes/Bay3 scratch/gp_association_goa_uniprot_2...\r\n"
       ]
      },
      {
       "output_type": "stream",
       "stream": "stdout",
       "text": [
        "parsing B26606AF...\r\n"
       ]
      },
      {
       "output_type": "stream",
       "stream": "stdout",
       "text": [
        "processing chunk line 14359339 to 15318192 (2483.81509185 s elapsed)\r\n"
       ]
      },
      {
       "output_type": "stream",
       "stream": "stdout",
       "text": [
        "pushing /Volumes/Bay3 scratch/gp_association_goa_uniprot_2...\r\n"
       ]
      },
      {
       "output_type": "stream",
       "stream": "stdout",
       "text": [
        "parsing 194C91D9...\r\n"
       ]
      },
      {
       "output_type": "stream",
       "stream": "stdout",
       "text": [
        "processing chunk line 15318192 to 16273791 (2656.77055287 s elapsed)\r\n"
       ]
      },
      {
       "output_type": "stream",
       "stream": "stdout",
       "text": [
        "pushing /Volumes/Bay3 scratch/gp_association_goa_uniprot_2...\r\n"
       ]
      },
      {
       "output_type": "stream",
       "stream": "stdout",
       "text": [
        "parsing 2A9B51C5...\r\n"
       ]
      },
      {
       "output_type": "stream",
       "stream": "stdout",
       "text": [
        "processing chunk line 16273791 to 17231595 (2829.95086384 s elapsed)\r\n"
       ]
      },
      {
       "output_type": "stream",
       "stream": "stdout",
       "text": [
        "pushing /Volumes/Bay3 scratch/gp_association_goa_uniprot_2...\r\n"
       ]
      },
      {
       "output_type": "stream",
       "stream": "stdout",
       "text": [
        "parsing 0EFDBA48...\r\n"
       ]
      },
      {
       "output_type": "stream",
       "stream": "stdout",
       "text": [
        "processing chunk line 17231595 to 18185520 (3007.33727789 s elapsed)\r\n"
       ]
      },
      {
       "output_type": "stream",
       "stream": "stdout",
       "text": [
        "pushing /Volumes/Bay3 scratch/gp_association_goa_uniprot_2...\r\n"
       ]
      },
      {
       "output_type": "stream",
       "stream": "stdout",
       "text": [
        "parsing 3760A599...\r\n"
       ]
      },
      {
       "output_type": "stream",
       "stream": "stdout",
       "text": [
        "processing chunk line 18185520 to 19140792 (3187.60337687 s elapsed)\r\n"
       ]
      },
      {
       "output_type": "stream",
       "stream": "stdout",
       "text": [
        "pushing /Volumes/Bay3 scratch/gp_association_goa_uniprot_2...\r\n"
       ]
      },
      {
       "output_type": "stream",
       "stream": "stdout",
       "text": [
        "parsing 555204AC...\r\n"
       ]
      },
      {
       "output_type": "stream",
       "stream": "stdout",
       "text": [
        "processing chunk line 19140792 to 20099456 (3377.98743105 s elapsed)\r\n"
       ]
      },
      {
       "output_type": "stream",
       "stream": "stdout",
       "text": [
        "pushing /Volumes/Bay3 scratch/gp_association_goa_uniprot_2...\r\n"
       ]
      },
      {
       "output_type": "stream",
       "stream": "stdout",
       "text": [
        "parsing E2FAD2AB...\r\n"
       ]
      },
      {
       "output_type": "stream",
       "stream": "stdout",
       "text": [
        "processing chunk line 20099456 to 21057723 (3557.47199202 s elapsed)\r\n"
       ]
      },
      {
       "output_type": "stream",
       "stream": "stdout",
       "text": [
        "pushing /Volumes/Bay3 scratch/gp_association_goa_uniprot_2...\r\n"
       ]
      },
      {
       "output_type": "stream",
       "stream": "stdout",
       "text": [
        "parsing D3FC6C86...\r\n"
       ]
      },
      {
       "output_type": "stream",
       "stream": "stdout",
       "text": [
        "processing chunk line 21057723 to 22013279 (3731.76292396 s elapsed)\r\n"
       ]
      },
      {
       "output_type": "stream",
       "stream": "stdout",
       "text": [
        "pushing /Volumes/Bay3 scratch/gp_association_goa_uniprot_2...\r\n"
       ]
      },
      {
       "output_type": "stream",
       "stream": "stdout",
       "text": [
        "parsing 34ABB48B...\r\n"
       ]
      },
      {
       "output_type": "stream",
       "stream": "stdout",
       "text": [
        "processing chunk line 22013279 to 22972507 (3908.43440485 s elapsed)\r\n"
       ]
      },
      {
       "output_type": "stream",
       "stream": "stdout",
       "text": [
        "pushing /Volumes/Bay3 scratch/gp_association_goa_uniprot_2...\r\n"
       ]
      },
      {
       "output_type": "stream",
       "stream": "stdout",
       "text": [
        "parsing F341C916...\r\n"
       ]
      },
      {
       "output_type": "stream",
       "stream": "stdout",
       "text": [
        "processing chunk line 22972507 to 23928479 (4083.62470984 s elapsed)\r\n"
       ]
      },
      {
       "output_type": "stream",
       "stream": "stdout",
       "text": [
        "pushing /Volumes/Bay3 scratch/gp_association_goa_uniprot_2...\r\n"
       ]
      },
      {
       "output_type": "stream",
       "stream": "stdout",
       "text": [
        "parsing BACAFBAB...\r\n"
       ]
      },
      {
       "output_type": "stream",
       "stream": "stdout",
       "text": [
        "processing chunk line 23928479 to 24883137 (4258.55338597 s elapsed)\r\n"
       ]
      },
      {
       "output_type": "stream",
       "stream": "stdout",
       "text": [
        "pushing /Volumes/Bay3 scratch/gp_association_goa_uniprot_2...\r\n"
       ]
      },
      {
       "output_type": "stream",
       "stream": "stdout",
       "text": [
        "parsing 215D592F...\r\n"
       ]
      },
      {
       "output_type": "stream",
       "stream": "stdout",
       "text": [
        "processing chunk line 24883137 to 25841501 (4435.267308 s elapsed)\r\n"
       ]
      },
      {
       "output_type": "stream",
       "stream": "stdout",
       "text": [
        "pushing /Volumes/Bay3 scratch/gp_association_goa_uniprot_2...\r\n"
       ]
      },
      {
       "output_type": "stream",
       "stream": "stdout",
       "text": [
        "parsing 23838E9C...\r\n"
       ]
      },
      {
       "output_type": "stream",
       "stream": "stdout",
       "text": [
        "processing chunk line 25841501 to 26796791 (4612.51490498 s elapsed)\r\n"
       ]
      },
      {
       "output_type": "stream",
       "stream": "stdout",
       "text": [
        "pushing /Volumes/Bay3 scratch/gp_association_goa_uniprot_2...\r\n"
       ]
      },
      {
       "output_type": "stream",
       "stream": "stdout",
       "text": [
        "parsing 3BFBE423...\r\n"
       ]
      },
      {
       "output_type": "stream",
       "stream": "stdout",
       "text": [
        "processing chunk line 26796791 to 27756197 (4789.32880592 s elapsed)\r\n"
       ]
      },
      {
       "output_type": "stream",
       "stream": "stdout",
       "text": [
        "pushing /Volumes/Bay3 scratch/gp_association_goa_uniprot_2...\r\n"
       ]
      },
      {
       "output_type": "stream",
       "stream": "stdout",
       "text": [
        "parsing D579B5F4...\r\n"
       ]
      },
      {
       "output_type": "stream",
       "stream": "stdout",
       "text": [
        "processing chunk line 27756197 to 28715774 (4969.99529386 s elapsed)\r\n"
       ]
      },
      {
       "output_type": "stream",
       "stream": "stdout",
       "text": [
        "pushing /Volumes/Bay3 scratch/gp_association_goa_uniprot_2...\r\n"
       ]
      },
      {
       "output_type": "stream",
       "stream": "stdout",
       "text": [
        "parsing F647CFC9...\r\n"
       ]
      },
      {
       "output_type": "stream",
       "stream": "stdout",
       "text": [
        "processing chunk line 28715774 to 29675703 (5159.7609849 s elapsed)\r\n"
       ]
      },
      {
       "output_type": "stream",
       "stream": "stdout",
       "text": [
        "pushing /Volumes/Bay3 scratch/gp_association_goa_uniprot_2...\r\n"
       ]
      },
      {
       "output_type": "stream",
       "stream": "stdout",
       "text": [
        "parsing 258F7942...\r\n"
       ]
      },
      {
       "output_type": "stream",
       "stream": "stdout",
       "text": [
        "processing chunk line 29675703 to 30633888 (5341.5435369 s elapsed)\r\n"
       ]
      },
      {
       "output_type": "stream",
       "stream": "stdout",
       "text": [
        "pushing /Volumes/Bay3 scratch/gp_association_goa_uniprot_2...\r\n"
       ]
      },
      {
       "output_type": "stream",
       "stream": "stdout",
       "text": [
        "parsing 873EDC04...\r\n"
       ]
      },
      {
       "output_type": "stream",
       "stream": "stdout",
       "text": [
        "processing chunk line 30633888 to 31589226 (5518.94213796 s elapsed)\r\n"
       ]
      },
      {
       "output_type": "stream",
       "stream": "stdout",
       "text": [
        "pushing /Volumes/Bay3 scratch/gp_association_goa_uniprot_2...\r\n"
       ]
      },
      {
       "output_type": "stream",
       "stream": "stdout",
       "text": [
        "parsing A999ABBA...\r\n"
       ]
      },
      {
       "output_type": "stream",
       "stream": "stdout",
       "text": [
        "processing chunk line 31589226 to 32547800 (5697.17959499 s elapsed)\r\n"
       ]
      },
      {
       "output_type": "stream",
       "stream": "stdout",
       "text": [
        "pushing /Volumes/Bay3 scratch/gp_association_goa_uniprot_2...\r\n"
       ]
      },
      {
       "output_type": "stream",
       "stream": "stdout",
       "text": [
        "parsing 2E4F1ADA...\r\n"
       ]
      },
      {
       "output_type": "stream",
       "stream": "stdout",
       "text": [
        "processing chunk line 32547800 to 33511369 (5877.84367585 s elapsed)\r\n"
       ]
      },
      {
       "output_type": "stream",
       "stream": "stdout",
       "text": [
        "pushing /Volumes/Bay3 scratch/gp_association_goa_uniprot_2...\r\n"
       ]
      },
      {
       "output_type": "stream",
       "stream": "stdout",
       "text": [
        "parsing 1DB24AA9...\r\n"
       ]
      },
      {
       "output_type": "stream",
       "stream": "stdout",
       "text": [
        "processing chunk line 33511369 to 34470674 (6058.51373506 s elapsed)\r\n"
       ]
      },
      {
       "output_type": "stream",
       "stream": "stdout",
       "text": [
        "pushing /Volumes/Bay3 scratch/gp_association_goa_uniprot_2...\r\n"
       ]
      },
      {
       "output_type": "stream",
       "stream": "stdout",
       "text": [
        "parsing 68A134C6...\r\n"
       ]
      },
      {
       "output_type": "stream",
       "stream": "stdout",
       "text": [
        "processing chunk line 34470674 to 35430044 (6237.85978293 s elapsed)\r\n"
       ]
      },
      {
       "output_type": "stream",
       "stream": "stdout",
       "text": [
        "pushing /Volumes/Bay3 scratch/gp_association_goa_uniprot_2...\r\n"
       ]
      },
      {
       "output_type": "stream",
       "stream": "stdout",
       "text": [
        "parsing FA5DB1A8...\r\n"
       ]
      },
      {
       "output_type": "stream",
       "stream": "stdout",
       "text": [
        "processing chunk line 35430044 to 36387223 (6420.40553904 s elapsed)\r\n"
       ]
      },
      {
       "output_type": "stream",
       "stream": "stdout",
       "text": [
        "pushing /Volumes/Bay3 scratch/gp_association_goa_uniprot_2...\r\n"
       ]
      },
      {
       "output_type": "stream",
       "stream": "stdout",
       "text": [
        "parsing A85B2FDF...\r\n"
       ]
      },
      {
       "output_type": "stream",
       "stream": "stdout",
       "text": [
        "processing chunk line 36387223 to 37329981 (6596.01553607 s elapsed)\r\n"
       ]
      },
      {
       "output_type": "stream",
       "stream": "stdout",
       "text": [
        "pushing /Volumes/Bay3 scratch/gp_association_goa_uniprot_2...\r\n"
       ]
      },
      {
       "output_type": "stream",
       "stream": "stdout",
       "text": [
        "parsing 8960858C...\r\n"
       ]
      },
      {
       "output_type": "stream",
       "stream": "stdout",
       "text": [
        "processing chunk line 37329981 to 38285893 (6767.60760784 s elapsed)\r\n"
       ]
      },
      {
       "output_type": "stream",
       "stream": "stdout",
       "text": [
        "pushing /Volumes/Bay3 scratch/gp_association_goa_uniprot_2...\r\n"
       ]
      },
      {
       "output_type": "stream",
       "stream": "stdout",
       "text": [
        "parsing 614150D4...\r\n"
       ]
      },
      {
       "output_type": "stream",
       "stream": "stdout",
       "text": [
        "processing chunk line 38285893 to 39251996 (6944.95141196 s elapsed)\r\n"
       ]
      },
      {
       "output_type": "stream",
       "stream": "stdout",
       "text": [
        "pushing /Volumes/Bay3 scratch/gp_association_goa_uniprot_2...\r\n"
       ]
      },
      {
       "output_type": "stream",
       "stream": "stdout",
       "text": [
        "parsing 9368C7A6...\r\n"
       ]
      },
      {
       "output_type": "stream",
       "stream": "stdout",
       "text": [
        "processing chunk line 39251996 to 40209779 (7120.62853694 s elapsed)\r\n"
       ]
      },
      {
       "output_type": "stream",
       "stream": "stdout",
       "text": [
        "pushing /Volumes/Bay3 scratch/gp_association_goa_uniprot_2...\r\n"
       ]
      },
      {
       "output_type": "stream",
       "stream": "stdout",
       "text": [
        "parsing 3DE3C6B9...\r\n"
       ]
      },
      {
       "output_type": "stream",
       "stream": "stdout",
       "text": [
        "processing chunk line 40209779 to 41167275 (7296.19116187 s elapsed)\r\n"
       ]
      },
      {
       "output_type": "stream",
       "stream": "stdout",
       "text": [
        "pushing /Volumes/Bay3 scratch/gp_association_goa_uniprot_2...\r\n"
       ]
      },
      {
       "output_type": "stream",
       "stream": "stdout",
       "text": [
        "parsing 1DD00C8D...\r\n"
       ]
      },
      {
       "output_type": "stream",
       "stream": "stdout",
       "text": [
        "processing chunk line 41167275 to 42126670 (7472.41437292 s elapsed)\r\n"
       ]
      },
      {
       "output_type": "stream",
       "stream": "stdout",
       "text": [
        "pushing /Volumes/Bay3 scratch/gp_association_goa_uniprot_2...\r\n"
       ]
      },
      {
       "output_type": "stream",
       "stream": "stdout",
       "text": [
        "parsing F6AC296D...\r\n"
       ]
      },
      {
       "output_type": "stream",
       "stream": "stdout",
       "text": [
        "processing chunk line 42126670 to 43083562 (7649.54888892 s elapsed)\r\n"
       ]
      },
      {
       "output_type": "stream",
       "stream": "stdout",
       "text": [
        "pushing /Volumes/Bay3 scratch/gp_association_goa_uniprot_2...\r\n"
       ]
      },
      {
       "output_type": "stream",
       "stream": "stdout",
       "text": [
        "parsing 1AC59706...\r\n"
       ]
      },
      {
       "output_type": "stream",
       "stream": "stdout",
       "text": [
        "processing chunk line 43083562 to 44041794 (7833.77571702 s elapsed)\r\n"
       ]
      },
      {
       "output_type": "stream",
       "stream": "stdout",
       "text": [
        "pushing /Volumes/Bay3 scratch/gp_association_goa_uniprot_2...\r\n"
       ]
      },
      {
       "output_type": "stream",
       "stream": "stdout",
       "text": [
        "parsing E7DC3991...\r\n"
       ]
      },
      {
       "output_type": "stream",
       "stream": "stdout",
       "text": [
        "processing chunk line 44041794 to 45000237 (8018.61874795 s elapsed)\r\n"
       ]
      },
      {
       "output_type": "stream",
       "stream": "stdout",
       "text": [
        "pushing /Volumes/Bay3 scratch/gp_association_goa_uniprot_2...\r\n"
       ]
      },
      {
       "output_type": "stream",
       "stream": "stdout",
       "text": [
        "parsing 0117C671...\r\n"
       ]
      },
      {
       "output_type": "stream",
       "stream": "stdout",
       "text": [
        "processing chunk line 45000237 to 45959683 (8203.36512899 s elapsed)\r\n"
       ]
      },
      {
       "output_type": "stream",
       "stream": "stdout",
       "text": [
        "pushing /Volumes/Bay3 scratch/gp_association_goa_uniprot_2...\r\n"
       ]
      },
      {
       "output_type": "stream",
       "stream": "stdout",
       "text": [
        "parsing 00F9E535...\r\n"
       ]
      },
      {
       "output_type": "stream",
       "stream": "stdout",
       "text": [
        "processing chunk line 45959683 to 46917413 (8389.14602804 s elapsed)\r\n"
       ]
      },
      {
       "output_type": "stream",
       "stream": "stdout",
       "text": [
        "pushing /Volumes/Bay3 scratch/gp_association_goa_uniprot_2...\r\n"
       ]
      },
      {
       "output_type": "stream",
       "stream": "stdout",
       "text": [
        "parsing EB7491D8...\r\n"
       ]
      },
      {
       "output_type": "stream",
       "stream": "stdout",
       "text": [
        "processing chunk line 46917413 to 47876542 (8574.10217094 s elapsed)\r\n"
       ]
      },
      {
       "output_type": "stream",
       "stream": "stdout",
       "text": [
        "pushing /Volumes/Bay3 scratch/gp_association_goa_uniprot_2...\r\n"
       ]
      },
      {
       "output_type": "stream",
       "stream": "stdout",
       "text": [
        "parsing C45EC557...\r\n"
       ]
      },
      {
       "output_type": "stream",
       "stream": "stdout",
       "text": [
        "processing chunk line 47876542 to 48838259 (8763.38658285 s elapsed)\r\n"
       ]
      },
      {
       "output_type": "stream",
       "stream": "stdout",
       "text": [
        "pushing /Volumes/Bay3 scratch/gp_association_goa_uniprot_2...\r\n"
       ]
      },
      {
       "output_type": "stream",
       "stream": "stdout",
       "text": [
        "parsing C422B1DE...\r\n"
       ]
      },
      {
       "output_type": "stream",
       "stream": "stdout",
       "text": [
        "processing chunk line 48838259 to 49797902 (8947.95453596 s elapsed)\r\n"
       ]
      },
      {
       "output_type": "stream",
       "stream": "stdout",
       "text": [
        "pushing /Volumes/Bay3 scratch/gp_association_goa_uniprot_2...\r\n"
       ]
      },
      {
       "output_type": "stream",
       "stream": "stdout",
       "text": [
        "parsing 8A56E309...\r\n"
       ]
      },
      {
       "output_type": "stream",
       "stream": "stdout",
       "text": [
        "processing chunk line 49797902 to 50756351 (9139.11341095 s elapsed)\r\n"
       ]
      },
      {
       "output_type": "stream",
       "stream": "stdout",
       "text": [
        "pushing /Volumes/Bay3 scratch/gp_association_goa_uniprot_2...\r\n"
       ]
      },
      {
       "output_type": "stream",
       "stream": "stdout",
       "text": [
        "parsing 1D2057D4...\r\n"
       ]
      },
      {
       "output_type": "stream",
       "stream": "stdout",
       "text": [
        "processing chunk line 50756351 to 51715822 (9324.67496204 s elapsed)\r\n"
       ]
      },
      {
       "output_type": "stream",
       "stream": "stdout",
       "text": [
        "pushing /Volumes/Bay3 scratch/gp_association_goa_uniprot_2...\r\n"
       ]
      },
      {
       "output_type": "stream",
       "stream": "stdout",
       "text": [
        "parsing 5912F6AF...\r\n"
       ]
      },
      {
       "output_type": "stream",
       "stream": "stdout",
       "text": [
        "processing chunk line 51715822 to 52672743 (9512.73249602 s elapsed)\r\n"
       ]
      },
      {
       "output_type": "stream",
       "stream": "stdout",
       "text": [
        "pushing /Volumes/Bay3 scratch/gp_association_goa_uniprot_2...\r\n"
       ]
      },
      {
       "output_type": "stream",
       "stream": "stdout",
       "text": [
        "parsing 236F33EB...\r\n"
       ]
      },
      {
       "output_type": "stream",
       "stream": "stdout",
       "text": [
        "processing chunk line 52672743 to 53626764 (9700.78936601 s elapsed)\r\n"
       ]
      },
      {
       "output_type": "stream",
       "stream": "stdout",
       "text": [
        "pushing /Volumes/Bay3 scratch/gp_association_goa_uniprot_2...\r\n"
       ]
      },
      {
       "output_type": "stream",
       "stream": "stdout",
       "text": [
        "parsing 7C101830...\r\n"
       ]
      },
      {
       "output_type": "stream",
       "stream": "stdout",
       "text": [
        "processing chunk line 53626764 to 54584610 (9888.76759791 s elapsed)\r\n"
       ]
      },
      {
       "output_type": "stream",
       "stream": "stdout",
       "text": [
        "pushing /Volumes/Bay3 scratch/gp_association_goa_uniprot_2...\r\n"
       ]
      },
      {
       "output_type": "stream",
       "stream": "stdout",
       "text": [
        "parsing B968FF3D...\r\n"
       ]
      },
      {
       "output_type": "stream",
       "stream": "stdout",
       "text": [
        "processing chunk line 54584610 to 55544501 (10077.8908761 s elapsed)\r\n"
       ]
      },
      {
       "output_type": "stream",
       "stream": "stdout",
       "text": [
        "pushing /Volumes/Bay3 scratch/gp_association_goa_uniprot_2...\r\n"
       ]
      },
      {
       "output_type": "stream",
       "stream": "stdout",
       "text": [
        "parsing C8D2CC97...\r\n"
       ]
      },
      {
       "output_type": "stream",
       "stream": "stdout",
       "text": [
        "processing chunk line 55544501 to 56503111 (10263.90574 s elapsed)\r\n"
       ]
      },
      {
       "output_type": "stream",
       "stream": "stdout",
       "text": [
        "pushing /Volumes/Bay3 scratch/gp_association_goa_uniprot_2...\r\n"
       ]
      },
      {
       "output_type": "stream",
       "stream": "stdout",
       "text": [
        "parsing 2678325E...\r\n"
       ]
      },
      {
       "output_type": "stream",
       "stream": "stdout",
       "text": [
        "processing chunk line 56503111 to 57465512 (10456.9320788 s elapsed)\r\n"
       ]
      },
      {
       "output_type": "stream",
       "stream": "stdout",
       "text": [
        "pushing /Volumes/Bay3 scratch/gp_association_goa_uniprot_2...\r\n"
       ]
      },
      {
       "output_type": "stream",
       "stream": "stdout",
       "text": [
        "parsing FDE6FA0D...\r\n"
       ]
      },
      {
       "output_type": "stream",
       "stream": "stdout",
       "text": [
        "processing chunk line 57465512 to 58419885 (10647.165823 s elapsed)\r\n"
       ]
      },
      {
       "output_type": "stream",
       "stream": "stdout",
       "text": [
        "pushing /Volumes/Bay3 scratch/gp_association_goa_uniprot_2...\r\n"
       ]
      },
      {
       "output_type": "stream",
       "stream": "stdout",
       "text": [
        "parsing 0D46FD28...\r\n"
       ]
      },
      {
       "output_type": "stream",
       "stream": "stdout",
       "text": [
        "processing chunk line 58419885 to 59369967 (10837.4221621 s elapsed)\r\n"
       ]
      },
      {
       "output_type": "stream",
       "stream": "stdout",
       "text": [
        "pushing /Volumes/Bay3 scratch/gp_association_goa_uniprot_2...\r\n"
       ]
      },
      {
       "output_type": "stream",
       "stream": "stdout",
       "text": [
        "parsing B55F8E00...\r\n"
       ]
      },
      {
       "output_type": "stream",
       "stream": "stdout",
       "text": [
        "processing chunk line 59369967 to 60327854 (11028.073231 s elapsed)\r\n"
       ]
      },
      {
       "output_type": "stream",
       "stream": "stdout",
       "text": [
        "pushing /Volumes/Bay3 scratch/gp_association_goa_uniprot_2...\r\n"
       ]
      },
      {
       "output_type": "stream",
       "stream": "stdout",
       "text": [
        "parsing 7E9B0F15...\r\n"
       ]
      },
      {
       "output_type": "stream",
       "stream": "stdout",
       "text": [
        "processing chunk line 60327854 to 61285544 (11217.5456269 s elapsed)\r\n"
       ]
      },
      {
       "output_type": "stream",
       "stream": "stdout",
       "text": [
        "pushing /Volumes/Bay3 scratch/gp_association_goa_uniprot_2...\r\n"
       ]
      },
      {
       "output_type": "stream",
       "stream": "stdout",
       "text": [
        "parsing 3DF73C3F...\r\n"
       ]
      },
      {
       "output_type": "stream",
       "stream": "stdout",
       "text": [
        "processing chunk line 61285544 to 62244550 (11408.183465 s elapsed)\r\n"
       ]
      },
      {
       "output_type": "stream",
       "stream": "stdout",
       "text": [
        "pushing /Volumes/Bay3 scratch/gp_association_goa_uniprot_2...\r\n"
       ]
      },
      {
       "output_type": "stream",
       "stream": "stdout",
       "text": [
        "parsing 04784E48...\r\n"
       ]
      },
      {
       "output_type": "stream",
       "stream": "stdout",
       "text": [
        "processing chunk line 62244550 to 63202300 (11597.933496 s elapsed)\r\n"
       ]
      },
      {
       "output_type": "stream",
       "stream": "stdout",
       "text": [
        "pushing /Volumes/Bay3 scratch/gp_association_goa_uniprot_2...\r\n"
       ]
      },
      {
       "output_type": "stream",
       "stream": "stdout",
       "text": [
        "parsing 85CE65BC...\r\n"
       ]
      },
      {
       "output_type": "stream",
       "stream": "stdout",
       "text": [
        "processing chunk line 63202300 to 64157978 (11787.2322481 s elapsed)\r\n"
       ]
      },
      {
       "output_type": "stream",
       "stream": "stdout",
       "text": [
        "pushing /Volumes/Bay3 scratch/gp_association_goa_uniprot_2...\r\n"
       ]
      },
      {
       "output_type": "stream",
       "stream": "stdout",
       "text": [
        "parsing D184A677...\r\n"
       ]
      },
      {
       "output_type": "stream",
       "stream": "stdout",
       "text": [
        "processing chunk line 64157978 to 65114581 (11978.605458 s elapsed)\r\n"
       ]
      },
      {
       "output_type": "stream",
       "stream": "stdout",
       "text": [
        "pushing /Volumes/Bay3 scratch/gp_association_goa_uniprot_2...\r\n"
       ]
      },
      {
       "output_type": "stream",
       "stream": "stdout",
       "text": [
        "parsing C72B208E...\r\n"
       ]
      },
      {
       "output_type": "stream",
       "stream": "stdout",
       "text": [
        "processing chunk line 65114581 to 66072138 (12170.8006189 s elapsed)\r\n"
       ]
      },
      {
       "output_type": "stream",
       "stream": "stdout",
       "text": [
        "pushing /Volumes/Bay3 scratch/gp_association_goa_uniprot_2...\r\n"
       ]
      },
      {
       "output_type": "stream",
       "stream": "stdout",
       "text": [
        "parsing 89DD9F60...\r\n"
       ]
      },
      {
       "output_type": "stream",
       "stream": "stdout",
       "text": [
        "processing chunk line 66072138 to 67024695 (12363.7042499 s elapsed)\r\n"
       ]
      },
      {
       "output_type": "stream",
       "stream": "stdout",
       "text": [
        "pushing /Volumes/Bay3 scratch/gp_association_goa_uniprot_2...\r\n"
       ]
      },
      {
       "output_type": "stream",
       "stream": "stdout",
       "text": [
        "parsing A8921885...\r\n"
       ]
      },
      {
       "output_type": "stream",
       "stream": "stdout",
       "text": [
        "processing chunk line 67024695 to 67983640 (12607.396183 s elapsed)\r\n"
       ]
      },
      {
       "output_type": "stream",
       "stream": "stdout",
       "text": [
        "pushing /Volumes/Bay3 scratch/gp_association_goa_uniprot_2...\r\n"
       ]
      },
      {
       "output_type": "stream",
       "stream": "stdout",
       "text": [
        "parsing 7A09A411...\r\n"
       ]
      },
      {
       "output_type": "stream",
       "stream": "stdout",
       "text": [
        "processing chunk line 67983640 to 68942903 (12801.163316 s elapsed)\r\n"
       ]
      },
      {
       "output_type": "stream",
       "stream": "stdout",
       "text": [
        "pushing /Volumes/Bay3 scratch/gp_association_goa_uniprot_2...\r\n"
       ]
      },
      {
       "output_type": "stream",
       "stream": "stdout",
       "text": [
        "parsing 2670C559...\r\n"
       ]
      },
      {
       "output_type": "stream",
       "stream": "stdout",
       "text": [
        "processing chunk line 68942903 to 69903875 (12994.3050361 s elapsed)\r\n"
       ]
      },
      {
       "output_type": "stream",
       "stream": "stdout",
       "text": [
        "pushing /Volumes/Bay3 scratch/gp_association_goa_uniprot_2...\r\n"
       ]
      },
      {
       "output_type": "stream",
       "stream": "stdout",
       "text": [
        "parsing 2BA39E1D...\r\n"
       ]
      },
      {
       "output_type": "stream",
       "stream": "stdout",
       "text": [
        "processing chunk line 69903875 to 70859591 (13190.092494 s elapsed)\r\n"
       ]
      },
      {
       "output_type": "stream",
       "stream": "stdout",
       "text": [
        "pushing /Volumes/Bay3 scratch/gp_association_goa_uniprot_2...\r\n"
       ]
      },
      {
       "output_type": "stream",
       "stream": "stdout",
       "text": [
        "parsing 34751DEE...\r\n"
       ]
      },
      {
       "output_type": "stream",
       "stream": "stdout",
       "text": [
        "processing chunk line 70859591 to 71818368 (13380.757473 s elapsed)\r\n"
       ]
      },
      {
       "output_type": "stream",
       "stream": "stdout",
       "text": [
        "pushing /Volumes/Bay3 scratch/gp_association_goa_uniprot_2...\r\n"
       ]
      },
      {
       "output_type": "stream",
       "stream": "stdout",
       "text": [
        "parsing BFBB3127...\r\n"
       ]
      },
      {
       "output_type": "stream",
       "stream": "stdout",
       "text": [
        "processing chunk line 71818368 to 72776278 (13572.467186 s elapsed)\r\n"
       ]
      },
      {
       "output_type": "stream",
       "stream": "stdout",
       "text": [
        "pushing /Volumes/Bay3 scratch/gp_association_goa_uniprot_2...\r\n"
       ]
      },
      {
       "output_type": "stream",
       "stream": "stdout",
       "text": [
        "parsing 9A8CD778...\r\n"
       ]
      },
      {
       "output_type": "stream",
       "stream": "stdout",
       "text": [
        "processing chunk line 72776278 to 73734213 (13766.0906959 s elapsed)\r\n"
       ]
      },
      {
       "output_type": "stream",
       "stream": "stdout",
       "text": [
        "pushing /Volumes/Bay3 scratch/gp_association_goa_uniprot_2...\r\n"
       ]
      },
      {
       "output_type": "stream",
       "stream": "stdout",
       "text": [
        "parsing 4714795E...\r\n"
       ]
      },
      {
       "output_type": "stream",
       "stream": "stdout",
       "text": [
        "processing chunk line 73734213 to 74691605 (13956.7872429 s elapsed)\r\n"
       ]
      },
      {
       "output_type": "stream",
       "stream": "stdout",
       "text": [
        "pushing /Volumes/Bay3 scratch/gp_association_goa_uniprot_2...\r\n"
       ]
      },
      {
       "output_type": "stream",
       "stream": "stdout",
       "text": [
        "parsing BB5897E1...\r\n"
       ]
      },
      {
       "output_type": "stream",
       "stream": "stdout",
       "text": [
        "processing chunk line 74691605 to 75644704 (14151.7169108 s elapsed)\r\n"
       ]
      },
      {
       "output_type": "stream",
       "stream": "stdout",
       "text": [
        "pushing /Volumes/Bay3 scratch/gp_association_goa_uniprot_2...\r\n"
       ]
      },
      {
       "output_type": "stream",
       "stream": "stdout",
       "text": [
        "parsing 68548620...\r\n"
       ]
      },
      {
       "output_type": "stream",
       "stream": "stdout",
       "text": [
        "processing chunk line 75644704 to 76604210 (14347.842494 s elapsed)\r\n"
       ]
      },
      {
       "output_type": "stream",
       "stream": "stdout",
       "text": [
        "pushing /Volumes/Bay3 scratch/gp_association_goa_uniprot_2...\r\n"
       ]
      },
      {
       "output_type": "stream",
       "stream": "stdout",
       "text": [
        "parsing 16B1E030...\r\n"
       ]
      },
      {
       "output_type": "stream",
       "stream": "stdout",
       "text": [
        "processing chunk line 76604210 to 77551517 (14541.4189498 s elapsed)\r\n"
       ]
      },
      {
       "output_type": "stream",
       "stream": "stdout",
       "text": [
        "pushing /Volumes/Bay3 scratch/gp_association_goa_uniprot_2...\r\n"
       ]
      },
      {
       "output_type": "stream",
       "stream": "stdout",
       "text": [
        "parsing E4F68222...\r\n"
       ]
      },
      {
       "output_type": "stream",
       "stream": "stdout",
       "text": [
        "processing chunk line 77551517 to 78509132 (14734.137058 s elapsed)\r\n"
       ]
      },
      {
       "output_type": "stream",
       "stream": "stdout",
       "text": [
        "pushing /Volumes/Bay3 scratch/gp_association_goa_uniprot_2...\r\n"
       ]
      },
      {
       "output_type": "stream",
       "stream": "stdout",
       "text": [
        "parsing 64F27C7F...\r\n"
       ]
      },
      {
       "output_type": "stream",
       "stream": "stdout",
       "text": [
        "processing chunk line 78509132 to 79469901 (14928.8727129 s elapsed)\r\n"
       ]
      },
      {
       "output_type": "stream",
       "stream": "stdout",
       "text": [
        "pushing /Volumes/Bay3 scratch/gp_association_goa_uniprot_2...\r\n"
       ]
      },
      {
       "output_type": "stream",
       "stream": "stdout",
       "text": [
        "parsing 13ADF1F4...\r\n"
       ]
      },
      {
       "output_type": "stream",
       "stream": "stdout",
       "text": [
        "processing chunk line 79469901 to 80431567 (15123.662046 s elapsed)\r\n"
       ]
      },
      {
       "output_type": "stream",
       "stream": "stdout",
       "text": [
        "pushing /Volumes/Bay3 scratch/gp_association_goa_uniprot_2...\r\n"
       ]
      },
      {
       "output_type": "stream",
       "stream": "stdout",
       "text": [
        "parsing 2C9EA5AA...\r\n"
       ]
      },
      {
       "output_type": "stream",
       "stream": "stdout",
       "text": [
        "processing chunk line 80431567 to 81391654 (15317.38098 s elapsed)\r\n"
       ]
      },
      {
       "output_type": "stream",
       "stream": "stdout",
       "text": [
        "pushing /Volumes/Bay3 scratch/gp_association_goa_uniprot_2...\r\n"
       ]
      },
      {
       "output_type": "stream",
       "stream": "stdout",
       "text": [
        "parsing B1A79E4B...\r\n"
       ]
      },
      {
       "output_type": "stream",
       "stream": "stdout",
       "text": [
        "processing chunk line 81391654 to 82356091 (15514.566788 s elapsed)\r\n"
       ]
      },
      {
       "output_type": "stream",
       "stream": "stdout",
       "text": [
        "pushing /Volumes/Bay3 scratch/gp_association_goa_uniprot_2...\r\n"
       ]
      },
      {
       "output_type": "stream",
       "stream": "stdout",
       "text": [
        "parsing 1DE9C924...\r\n"
       ]
      },
      {
       "output_type": "stream",
       "stream": "stdout",
       "text": [
        "processing chunk line 82356091 to 83318484 (15711.322809 s elapsed)\r\n"
       ]
      },
      {
       "output_type": "stream",
       "stream": "stdout",
       "text": [
        "pushing /Volumes/Bay3 scratch/gp_association_goa_uniprot_2...\r\n"
       ]
      },
      {
       "output_type": "stream",
       "stream": "stdout",
       "text": [
        "parsing CA8FEC41...\r\n"
       ]
      },
      {
       "output_type": "stream",
       "stream": "stdout",
       "text": [
        "processing chunk line 83318484 to 84278786 (15905.5614591 s elapsed)\r\n"
       ]
      },
      {
       "output_type": "stream",
       "stream": "stdout",
       "text": [
        "pushing /Volumes/Bay3 scratch/gp_association_goa_uniprot_2...\r\n"
       ]
      },
      {
       "output_type": "stream",
       "stream": "stdout",
       "text": [
        "parsing 1F2AB9F6...\r\n"
       ]
      },
      {
       "output_type": "stream",
       "stream": "stdout",
       "text": [
        "processing chunk line 84278786 to 85233968 (16098.6058869 s elapsed)\r\n"
       ]
      },
      {
       "output_type": "stream",
       "stream": "stdout",
       "text": [
        "pushing /Volumes/Bay3 scratch/gp_association_goa_uniprot_2...\r\n"
       ]
      },
      {
       "output_type": "stream",
       "stream": "stdout",
       "text": [
        "parsing D4164B24...\r\n"
       ]
      },
      {
       "output_type": "stream",
       "stream": "stdout",
       "text": [
        "processing chunk line 85233968 to 86193340 (16302.1851161 s elapsed)\r\n"
       ]
      },
      {
       "output_type": "stream",
       "stream": "stdout",
       "text": [
        "pushing /Volumes/Bay3 scratch/gp_association_goa_uniprot_2...\r\n"
       ]
      },
      {
       "output_type": "stream",
       "stream": "stdout",
       "text": [
        "parsing 6D431B27...\r\n"
       ]
      },
      {
       "output_type": "stream",
       "stream": "stdout",
       "text": [
        "processing chunk line 86193340 to 87143206 (16496.748553 s elapsed)\r\n"
       ]
      },
      {
       "output_type": "stream",
       "stream": "stdout",
       "text": [
        "pushing /Volumes/Bay3 scratch/gp_association_goa_uniprot_2...\r\n"
       ]
      },
      {
       "output_type": "stream",
       "stream": "stdout",
       "text": [
        "parsing D6632B77...\r\n"
       ]
      },
      {
       "output_type": "stream",
       "stream": "stdout",
       "text": [
        "processing chunk line 87143206 to 88099482 (16696.7649059 s elapsed)\r\n"
       ]
      },
      {
       "output_type": "stream",
       "stream": "stdout",
       "text": [
        "pushing /Volumes/Bay3 scratch/gp_association_goa_uniprot_2...\r\n"
       ]
      },
      {
       "output_type": "stream",
       "stream": "stdout",
       "text": [
        "parsing 275D7B90...\r\n"
       ]
      },
      {
       "output_type": "stream",
       "stream": "stdout",
       "text": [
        "processing chunk line 88099482 to 89059374 (16898.797055 s elapsed)\r\n"
       ]
      },
      {
       "output_type": "stream",
       "stream": "stdout",
       "text": [
        "pushing /Volumes/Bay3 scratch/gp_association_goa_uniprot_2...\r\n"
       ]
      },
      {
       "output_type": "stream",
       "stream": "stdout",
       "text": [
        "parsing F1CB7524...\r\n"
       ]
      },
      {
       "output_type": "stream",
       "stream": "stdout",
       "text": [
        "processing chunk line 89059374 to 90012958 (17098.9936109 s elapsed)\r\n"
       ]
      },
      {
       "output_type": "stream",
       "stream": "stdout",
       "text": [
        "pushing /Volumes/Bay3 scratch/gp_association_goa_uniprot_2...\r\n"
       ]
      },
      {
       "output_type": "stream",
       "stream": "stdout",
       "text": [
        "parsing B1B2C8F6...\r\n"
       ]
      },
      {
       "output_type": "stream",
       "stream": "stdout",
       "text": [
        "processing chunk line 90012958 to 90971804 (17298.6598949 s elapsed)\r\n"
       ]
      },
      {
       "output_type": "stream",
       "stream": "stdout",
       "text": [
        "pushing /Volumes/Bay3 scratch/gp_association_goa_uniprot_2...\r\n"
       ]
      },
      {
       "output_type": "stream",
       "stream": "stdout",
       "text": [
        "parsing 1301597B...\r\n"
       ]
      },
      {
       "output_type": "stream",
       "stream": "stdout",
       "text": [
        "processing chunk line 90971804 to 91932850 (17498.734457 s elapsed)\r\n"
       ]
      },
      {
       "output_type": "stream",
       "stream": "stdout",
       "text": [
        "pushing /Volumes/Bay3 scratch/gp_association_goa_uniprot_2...\r\n"
       ]
      },
      {
       "output_type": "stream",
       "stream": "stdout",
       "text": [
        "parsing DFF2C4B4...\r\n"
       ]
      },
      {
       "output_type": "stream",
       "stream": "stdout",
       "text": [
        "processing chunk line 91932850 to 92897426 (17699.839165 s elapsed)\r\n"
       ]
      },
      {
       "output_type": "stream",
       "stream": "stdout",
       "text": [
        "pushing /Volumes/Bay3 scratch/gp_association_goa_uniprot_2...\r\n"
       ]
      },
      {
       "output_type": "stream",
       "stream": "stdout",
       "text": [
        "parsing E39D264D...\r\n"
       ]
      },
      {
       "output_type": "stream",
       "stream": "stdout",
       "text": [
        "processing chunk line 92897426 to 93854895 (17901.2572439 s elapsed)\r\n"
       ]
      },
      {
       "output_type": "stream",
       "stream": "stdout",
       "text": [
        "pushing /Volumes/Bay3 scratch/gp_association_goa_uniprot_2...\r\n"
       ]
      },
      {
       "output_type": "stream",
       "stream": "stdout",
       "text": [
        "parsing C96E68E2...\r\n"
       ]
      },
      {
       "output_type": "stream",
       "stream": "stdout",
       "text": [
        "processing chunk line 93854895 to 94812060 (18102.941988 s elapsed)\r\n"
       ]
      },
      {
       "output_type": "stream",
       "stream": "stdout",
       "text": [
        "pushing /Volumes/Bay3 scratch/gp_association_goa_uniprot_2...\r\n"
       ]
      },
      {
       "output_type": "stream",
       "stream": "stdout",
       "text": [
        "parsing 14830E17...\r\n"
       ]
      },
      {
       "output_type": "stream",
       "stream": "stdout",
       "text": [
        "processing chunk line 94812060 to 95773681 (18315.278785 s elapsed)\r\n"
       ]
      },
      {
       "output_type": "stream",
       "stream": "stdout",
       "text": [
        "pushing /Volumes/Bay3 scratch/gp_association_goa_uniprot_2...\r\n"
       ]
      },
      {
       "output_type": "stream",
       "stream": "stdout",
       "text": [
        "parsing 84E49376...\r\n"
       ]
      },
      {
       "output_type": "stream",
       "stream": "stdout",
       "text": [
        "processing chunk line 95773681 to 96730697 (18516.835901 s elapsed)\r\n"
       ]
      },
      {
       "output_type": "stream",
       "stream": "stdout",
       "text": [
        "pushing /Volumes/Bay3 scratch/gp_association_goa_uniprot_2...\r\n"
       ]
      },
      {
       "output_type": "stream",
       "stream": "stdout",
       "text": [
        "parsing 7B42DC52...\r\n"
       ]
      },
      {
       "output_type": "stream",
       "stream": "stdout",
       "text": [
        "processing chunk line 96730697 to 97689833 (18718.6999989 s elapsed)\r\n"
       ]
      },
      {
       "output_type": "stream",
       "stream": "stdout",
       "text": [
        "pushing /Volumes/Bay3 scratch/gp_association_goa_uniprot_2...\r\n"
       ]
      },
      {
       "output_type": "stream",
       "stream": "stdout",
       "text": [
        "parsing 98F3CB1B...\r\n"
       ]
      },
      {
       "output_type": "stream",
       "stream": "stdout",
       "text": [
        "processing chunk line 97689833 to 98652323 (18917.238606 s elapsed)\r\n"
       ]
      },
      {
       "output_type": "stream",
       "stream": "stdout",
       "text": [
        "pushing /Volumes/Bay3 scratch/gp_association_goa_uniprot_2...\r\n"
       ]
      },
      {
       "output_type": "stream",
       "stream": "stdout",
       "text": [
        "parsing 8781BAD8...\r\n"
       ]
      },
      {
       "output_type": "stream",
       "stream": "stdout",
       "text": [
        "processing chunk line 98652323 to 99614206 (19120.210952 s elapsed)\r\n"
       ]
      },
      {
       "output_type": "stream",
       "stream": "stdout",
       "text": [
        "pushing /Volumes/Bay3 scratch/gp_association_goa_uniprot_2...\r\n"
       ]
      },
      {
       "output_type": "stream",
       "stream": "stdout",
       "text": [
        "parsing 1466AEC6...\r\n"
       ]
      },
      {
       "output_type": "stream",
       "stream": "stdout",
       "text": [
        "processing chunk line 99614206 to 100575946 (19324.161504 s elapsed)\r\n"
       ]
      },
      {
       "output_type": "stream",
       "stream": "stdout",
       "text": [
        "pushing /Volumes/Bay3 scratch/gp_association_goa_uniprot_2...\r\n"
       ]
      },
      {
       "output_type": "stream",
       "stream": "stdout",
       "text": [
        "parsing 340C7590...\r\n"
       ]
      },
      {
       "output_type": "stream",
       "stream": "stdout",
       "text": [
        "processing chunk line 100575946 to 101534966 (19547.540206 s elapsed)\r\n"
       ]
      },
      {
       "output_type": "stream",
       "stream": "stdout",
       "text": [
        "pushing /Volumes/Bay3 scratch/gp_association_goa_uniprot_2...\r\n"
       ]
      },
      {
       "output_type": "stream",
       "stream": "stdout",
       "text": [
        "parsing E7CBB8DA...\r\n"
       ]
      },
      {
       "output_type": "stream",
       "stream": "stdout",
       "text": [
        "processing chunk line 101534966 to 102491816 (19750.332233 s elapsed)\r\n"
       ]
      },
      {
       "output_type": "stream",
       "stream": "stdout",
       "text": [
        "pushing /Volumes/Bay3 scratch/gp_association_goa_uniprot_2...\r\n"
       ]
      },
      {
       "output_type": "stream",
       "stream": "stdout",
       "text": [
        "parsing 9598D0FD...\r\n"
       ]
      },
      {
       "output_type": "stream",
       "stream": "stdout",
       "text": [
        "processing chunk line 102491816 to 103445358 (19956.4224598 s elapsed)\r\n"
       ]
      },
      {
       "output_type": "stream",
       "stream": "stdout",
       "text": [
        "pushing /Volumes/Bay3 scratch/gp_association_goa_uniprot_2...\r\n"
       ]
      },
      {
       "output_type": "stream",
       "stream": "stdout",
       "text": [
        "parsing B8D2C3C9...\r\n"
       ]
      },
      {
       "output_type": "stream",
       "stream": "stdout",
       "text": [
        "processing chunk line 103445358 to 104402150 (20162.6068509 s elapsed)\r\n"
       ]
      },
      {
       "output_type": "stream",
       "stream": "stdout",
       "text": [
        "pushing /Volumes/Bay3 scratch/gp_association_goa_uniprot_2...\r\n"
       ]
      },
      {
       "output_type": "stream",
       "stream": "stdout",
       "text": [
        "parsing CC63509F...\r\n"
       ]
      },
      {
       "output_type": "stream",
       "stream": "stdout",
       "text": [
        "processing chunk line 104402150 to 105360451 (20368.526423 s elapsed)\r\n"
       ]
      },
      {
       "output_type": "stream",
       "stream": "stdout",
       "text": [
        "pushing /Volumes/Bay3 scratch/gp_association_goa_uniprot_2...\r\n"
       ]
      },
      {
       "output_type": "stream",
       "stream": "stdout",
       "text": [
        "parsing 49A31664...\r\n"
       ]
      },
      {
       "output_type": "stream",
       "stream": "stdout",
       "text": [
        "processing chunk line 105360451 to 106315900 (20574.51597 s elapsed)\r\n"
       ]
      },
      {
       "output_type": "stream",
       "stream": "stdout",
       "text": [
        "pushing /Volumes/Bay3 scratch/gp_association_goa_uniprot_2...\r\n"
       ]
      },
      {
       "output_type": "stream",
       "stream": "stdout",
       "text": [
        "parsing 4C12069E...\r\n"
       ]
      },
      {
       "output_type": "stream",
       "stream": "stdout",
       "text": [
        "processing chunk line 106315900 to 107271675 (20775.0971119 s elapsed)\r\n"
       ]
      },
      {
       "output_type": "stream",
       "stream": "stdout",
       "text": [
        "pushing /Volumes/Bay3 scratch/gp_association_goa_uniprot_2...\r\n"
       ]
      },
      {
       "output_type": "stream",
       "stream": "stdout",
       "text": [
        "parsing EC5E6A89...\r\n"
       ]
      },
      {
       "output_type": "stream",
       "stream": "stdout",
       "text": [
        "processing chunk line 107271675 to 108229654 (20982.211601 s elapsed)\r\n"
       ]
      },
      {
       "output_type": "stream",
       "stream": "stdout",
       "text": [
        "pushing /Volumes/Bay3 scratch/gp_association_goa_uniprot_2...\r\n"
       ]
      },
      {
       "output_type": "stream",
       "stream": "stdout",
       "text": [
        "parsing 846F2CBF...\r\n"
       ]
      },
      {
       "output_type": "stream",
       "stream": "stdout",
       "text": [
        "processing chunk line 108229654 to 109186166 (21189.2655699 s elapsed)\r\n"
       ]
      },
      {
       "output_type": "stream",
       "stream": "stdout",
       "text": [
        "pushing /Volumes/Bay3 scratch/gp_association_goa_uniprot_2...\r\n"
       ]
      },
      {
       "output_type": "stream",
       "stream": "stdout",
       "text": [
        "parsing 4094C08C...\r\n"
       ]
      },
      {
       "output_type": "stream",
       "stream": "stdout",
       "text": [
        "processing chunk line 109186166 to 110142784 (21396.9321249 s elapsed)\r\n"
       ]
      },
      {
       "output_type": "stream",
       "stream": "stdout",
       "text": [
        "pushing /Volumes/Bay3 scratch/gp_association_goa_uniprot_2...\r\n"
       ]
      },
      {
       "output_type": "stream",
       "stream": "stdout",
       "text": [
        "parsing 41BE3568...\r\n"
       ]
      },
      {
       "output_type": "stream",
       "stream": "stdout",
       "text": [
        "processing chunk line 110142784 to 111105596 (21604.788265 s elapsed)\r\n"
       ]
      },
      {
       "output_type": "stream",
       "stream": "stdout",
       "text": [
        "pushing /Volumes/Bay3 scratch/gp_association_goa_uniprot_2...\r\n"
       ]
      },
      {
       "output_type": "stream",
       "stream": "stdout",
       "text": [
        "parsing 530A338D...\r\n"
       ]
      },
      {
       "output_type": "stream",
       "stream": "stdout",
       "text": [
        "processing chunk line 111105596 to 112062690 (21812.0274301 s elapsed)\r\n"
       ]
      },
      {
       "output_type": "stream",
       "stream": "stdout",
       "text": [
        "pushing /Volumes/Bay3 scratch/gp_association_goa_uniprot_2...\r\n"
       ]
      },
      {
       "output_type": "stream",
       "stream": "stdout",
       "text": [
        "parsing 57A81BFD...\r\n"
       ]
      },
      {
       "output_type": "stream",
       "stream": "stdout",
       "text": [
        "processing chunk line 112062690 to 113021900 (22022.4855919 s elapsed)\r\n"
       ]
      },
      {
       "output_type": "stream",
       "stream": "stdout",
       "text": [
        "pushing /Volumes/Bay3 scratch/gp_association_goa_uniprot_2...\r\n"
       ]
      },
      {
       "output_type": "stream",
       "stream": "stdout",
       "text": [
        "parsing D496499E...\r\n"
       ]
      },
      {
       "output_type": "stream",
       "stream": "stdout",
       "text": [
        "processing chunk line 113021900 to 113981987 (22230.42697 s elapsed)\r\n"
       ]
      },
      {
       "output_type": "stream",
       "stream": "stdout",
       "text": [
        "pushing /Volumes/Bay3 scratch/gp_association_goa_uniprot_2...\r\n"
       ]
      },
      {
       "output_type": "stream",
       "stream": "stdout",
       "text": [
        "parsing DC301610...\r\n"
       ]
      },
      {
       "output_type": "stream",
       "stream": "stdout",
       "text": [
        "processing chunk line 113981987 to 114939389 (22440.3677359 s elapsed)\r\n"
       ]
      },
      {
       "output_type": "stream",
       "stream": "stdout",
       "text": [
        "pushing /Volumes/Bay3 scratch/gp_association_goa_uniprot_2...\r\n"
       ]
      },
      {
       "output_type": "stream",
       "stream": "stdout",
       "text": [
        "parsing D316CD44...\r\n"
       ]
      },
      {
       "output_type": "stream",
       "stream": "stdout",
       "text": [
        "processing chunk line 114939389 to 115896325 (22648.9465899 s elapsed)\r\n"
       ]
      },
      {
       "output_type": "stream",
       "stream": "stdout",
       "text": [
        "pushing /Volumes/Bay3 scratch/gp_association_goa_uniprot_2...\r\n"
       ]
      },
      {
       "output_type": "stream",
       "stream": "stdout",
       "text": [
        "parsing 4D5BD1E7...\r\n"
       ]
      },
      {
       "output_type": "stream",
       "stream": "stdout",
       "text": [
        "processing chunk line 115896325 to 116858987 (22860.308917 s elapsed)\r\n"
       ]
      },
      {
       "output_type": "stream",
       "stream": "stdout",
       "text": [
        "pushing /Volumes/Bay3 scratch/gp_association_goa_uniprot_2...\r\n"
       ]
      },
      {
       "output_type": "stream",
       "stream": "stdout",
       "text": [
        "parsing A3234C17...\r\n"
       ]
      },
      {
       "output_type": "stream",
       "stream": "stdout",
       "text": [
        "processing chunk line 116858987 to 117817737 (23078.2483919 s elapsed)\r\n"
       ]
      },
      {
       "output_type": "stream",
       "stream": "stdout",
       "text": [
        "pushing /Volumes/Bay3 scratch/gp_association_goa_uniprot_2...\r\n"
       ]
      },
      {
       "output_type": "stream",
       "stream": "stdout",
       "text": [
        "parsing F66BD9C8...\r\n"
       ]
      },
      {
       "output_type": "stream",
       "stream": "stdout",
       "text": [
        "processing chunk line 117817737 to 118778085 (23302.4584498 s elapsed)\r\n"
       ]
      },
      {
       "output_type": "stream",
       "stream": "stdout",
       "text": [
        "pushing /Volumes/Bay3 scratch/gp_association_goa_uniprot_2...\r\n"
       ]
      },
      {
       "output_type": "stream",
       "stream": "stdout",
       "text": [
        "parsing 23018A8D...\r\n"
       ]
      },
      {
       "output_type": "stream",
       "stream": "stdout",
       "text": [
        "processing chunk line 118778085 to 119733908 (23522.7221808 s elapsed)\r\n"
       ]
      },
      {
       "output_type": "stream",
       "stream": "stdout",
       "text": [
        "pushing /Volumes/Bay3 scratch/gp_association_goa_uniprot_2...\r\n"
       ]
      },
      {
       "output_type": "stream",
       "stream": "stdout",
       "text": [
        "parsing 74CB4141...\r\n"
       ]
      },
      {
       "output_type": "stream",
       "stream": "stdout",
       "text": [
        "processing chunk line 119733908 to 120694137 (23754.5564179 s elapsed)\r\n"
       ]
      },
      {
       "output_type": "stream",
       "stream": "stdout",
       "text": [
        "pushing /Volumes/Bay3 scratch/gp_association_goa_uniprot_2...\r\n"
       ]
      },
      {
       "output_type": "stream",
       "stream": "stdout",
       "text": [
        "parsing 0798893E...\r\n"
       ]
      },
      {
       "output_type": "stream",
       "stream": "stdout",
       "text": [
        "processing chunk line 120694137 to 121651371 (23989.5388789 s elapsed)\r\n"
       ]
      },
      {
       "output_type": "stream",
       "stream": "stdout",
       "text": [
        "pushing /Volumes/Bay3 scratch/gp_association_goa_uniprot_2...\r\n"
       ]
      },
      {
       "output_type": "stream",
       "stream": "stdout",
       "text": [
        "parsing F3BB44EF...\r\n"
       ]
      },
      {
       "output_type": "stream",
       "stream": "stdout",
       "text": [
        "processing chunk line 121651371 to 122608537 (24237.76931 s elapsed)\r\n"
       ]
      },
      {
       "output_type": "stream",
       "stream": "stdout",
       "text": [
        "pushing /Volumes/Bay3 scratch/gp_association_goa_uniprot_2...\r\n"
       ]
      },
      {
       "output_type": "stream",
       "stream": "stdout",
       "text": [
        "parsing C862E91E...\r\n"
       ]
      },
      {
       "output_type": "stream",
       "stream": "stdout",
       "text": [
        "processing chunk line 122608537 to 123567465 (24477.934226 s elapsed)\r\n"
       ]
      },
      {
       "output_type": "stream",
       "stream": "stdout",
       "text": [
        "pushing /Volumes/Bay3 scratch/gp_association_goa_uniprot_2...\r\n"
       ]
      },
      {
       "output_type": "stream",
       "stream": "stdout",
       "text": [
        "parsing F413872A...\r\n"
       ]
      },
      {
       "output_type": "stream",
       "stream": "stdout",
       "text": [
        "processing chunk line 123567465 to 124526471 (24733.271992 s elapsed)\r\n"
       ]
      },
      {
       "output_type": "stream",
       "stream": "stdout",
       "text": [
        "pushing /Volumes/Bay3 scratch/gp_association_goa_uniprot_2...\r\n"
       ]
      },
      {
       "output_type": "stream",
       "stream": "stdout",
       "text": [
        "parsing FE54D6EF...\r\n"
       ]
      },
      {
       "output_type": "stream",
       "stream": "stdout",
       "text": [
        "processing chunk line 124526471 to 125485428 (24975.1783431 s elapsed)\r\n"
       ]
      },
      {
       "output_type": "stream",
       "stream": "stdout",
       "text": [
        "pushing /Volumes/Bay3 scratch/gp_association_goa_uniprot_2...\r\n"
       ]
      },
      {
       "output_type": "stream",
       "stream": "stdout",
       "text": [
        "parsing 160A1E38...\r\n"
       ]
      },
      {
       "output_type": "stream",
       "stream": "stdout",
       "text": [
        "processing chunk line 125485428 to 126442999 (25238.933599 s elapsed)\r\n"
       ]
      },
      {
       "output_type": "stream",
       "stream": "stdout",
       "text": [
        "pushing /Volumes/Bay3 scratch/gp_association_goa_uniprot_2...\r\n"
       ]
      },
      {
       "output_type": "stream",
       "stream": "stdout",
       "text": [
        "parsing B8EA9079...\r\n"
       ]
      },
      {
       "output_type": "stream",
       "stream": "stdout",
       "text": [
        "processing chunk line 126442999 to 127404827 (25504.223604 s elapsed)\r\n"
       ]
      },
      {
       "output_type": "stream",
       "stream": "stdout",
       "text": [
        "pushing /Volumes/Bay3 scratch/gp_association_goa_uniprot_2...\r\n"
       ]
      },
      {
       "output_type": "stream",
       "stream": "stdout",
       "text": [
        "parsing 294CA8F9...\r\n"
       ]
      },
      {
       "output_type": "stream",
       "stream": "stdout",
       "text": [
        "processing chunk line 127404827 to 128367072 (25768.8711309 s elapsed)\r\n"
       ]
      },
      {
       "output_type": "stream",
       "stream": "stdout",
       "text": [
        "pushing /Volumes/Bay3 scratch/gp_association_goa_uniprot_2...\r\n"
       ]
      },
      {
       "output_type": "stream",
       "stream": "stdout",
       "text": [
        "parsing A3D7F5CB...\r\n"
       ]
      },
      {
       "output_type": "stream",
       "stream": "stdout",
       "text": [
        "processing chunk line 128367072 to 129327134 (26032.18047 s elapsed)\r\n"
       ]
      },
      {
       "output_type": "stream",
       "stream": "stdout",
       "text": [
        "pushing /Volumes/Bay3 scratch/gp_association_goa_uniprot_2...\r\n"
       ]
      },
      {
       "output_type": "stream",
       "stream": "stdout",
       "text": [
        "parsing DC0D94CC...\r\n"
       ]
      },
      {
       "output_type": "stream",
       "stream": "stdout",
       "text": [
        "processing chunk line 129327134 to 130285072 (26286.625715 s elapsed)\r\n"
       ]
      },
      {
       "output_type": "stream",
       "stream": "stdout",
       "text": [
        "pushing /Volumes/Bay3 scratch/gp_association_goa_uniprot_2...\r\n"
       ]
      },
      {
       "output_type": "stream",
       "stream": "stdout",
       "text": [
        "parsing 856E5D8E...\r\n"
       ]
      },
      {
       "output_type": "stream",
       "stream": "stdout",
       "text": [
        "processing chunk line 130285072 to 131245108 (26541.5895391 s elapsed)\r\n"
       ]
      },
      {
       "output_type": "stream",
       "stream": "stdout",
       "text": [
        "pushing /Volumes/Bay3 scratch/gp_association_goa_uniprot_2...\r\n"
       ]
      },
      {
       "output_type": "stream",
       "stream": "stdout",
       "text": [
        "parsing 19B4E8EB...\r\n"
       ]
      },
      {
       "output_type": "stream",
       "stream": "stdout",
       "text": [
        "processing chunk line 131245108 to 132204187 (26788.1117299 s elapsed)\r\n"
       ]
      },
      {
       "output_type": "stream",
       "stream": "stdout",
       "text": [
        "pushing /Volumes/Bay3 scratch/gp_association_goa_uniprot_2...\r\n"
       ]
      },
      {
       "output_type": "stream",
       "stream": "stdout",
       "text": [
        "parsing EBE34B9F...\r\n"
       ]
      },
      {
       "output_type": "stream",
       "stream": "stdout",
       "text": [
        "processing chunk line 132204187 to 133160113 (27026.9607561 s elapsed)\r\n"
       ]
      },
      {
       "output_type": "stream",
       "stream": "stdout",
       "text": [
        "pushing /Volumes/Bay3 scratch/gp_association_goa_uniprot_2...\r\n"
       ]
      },
      {
       "output_type": "stream",
       "stream": "stdout",
       "text": [
        "parsing AF2F47C4...\r\n"
       ]
      },
      {
       "output_type": "stream",
       "stream": "stdout",
       "text": [
        "processing chunk line 133160113 to 134117201 (27257.02531 s elapsed)\r\n"
       ]
      },
      {
       "output_type": "stream",
       "stream": "stdout",
       "text": [
        "pushing /Volumes/Bay3 scratch/gp_association_goa_uniprot_2...\r\n"
       ]
      },
      {
       "output_type": "stream",
       "stream": "stdout",
       "text": [
        "parsing 88D05EE3...\r\n"
       ]
      },
      {
       "output_type": "stream",
       "stream": "stdout",
       "text": [
        "processing chunk line 134117201 to 135072857 (27486.196887 s elapsed)\r\n"
       ]
      },
      {
       "output_type": "stream",
       "stream": "stdout",
       "text": [
        "pushing /Volumes/Bay3 scratch/gp_association_goa_uniprot_2...\r\n"
       ]
      },
      {
       "output_type": "stream",
       "stream": "stdout",
       "text": [
        "parsing 20FFAA60...\r\n"
       ]
      },
      {
       "output_type": "stream",
       "stream": "stdout",
       "text": [
        "processing chunk line 135072857 to 136030075 (27716.4102008 s elapsed)\r\n"
       ]
      },
      {
       "output_type": "stream",
       "stream": "stdout",
       "text": [
        "pushing /Volumes/Bay3 scratch/gp_association_goa_uniprot_2...\r\n"
       ]
      },
      {
       "output_type": "stream",
       "stream": "stdout",
       "text": [
        "parsing 13860FC0...\r\n"
       ]
      },
      {
       "output_type": "stream",
       "stream": "stdout",
       "text": [
        "processing chunk line 136030075 to 136984674 (27947.118201 s elapsed)\r\n"
       ]
      },
      {
       "output_type": "stream",
       "stream": "stdout",
       "text": [
        "pushing /Volumes/Bay3 scratch/gp_association_goa_uniprot_2...\r\n"
       ]
      },
      {
       "output_type": "stream",
       "stream": "stdout",
       "text": [
        "parsing 668D7DB5...\r\n"
       ]
      },
      {
       "output_type": "stream",
       "stream": "stdout",
       "text": [
        "processing chunk line 136984674 to 137944200 (28165.553807 s elapsed)\r\n"
       ]
      },
      {
       "output_type": "stream",
       "stream": "stdout",
       "text": [
        "pushing /Volumes/Bay3 scratch/gp_association_goa_uniprot_2...\r\n"
       ]
      },
      {
       "output_type": "stream",
       "stream": "stdout",
       "text": [
        "parsing F60EB611...\r\n"
       ]
      },
      {
       "output_type": "stream",
       "stream": "stdout",
       "text": [
        "processing chunk line 137944200 to 138902109 (28384.3152049 s elapsed)\r\n"
       ]
      },
      {
       "output_type": "stream",
       "stream": "stdout",
       "text": [
        "pushing /Volumes/Bay3 scratch/gp_association_goa_uniprot_2...\r\n"
       ]
      },
      {
       "output_type": "stream",
       "stream": "stdout",
       "text": [
        "parsing 13BD0FDF...\r\n"
       ]
      },
      {
       "output_type": "stream",
       "stream": "stdout",
       "text": [
        "processing chunk line 138902109 to 139861841 (28600.2612898 s elapsed)\r\n"
       ]
      },
      {
       "output_type": "stream",
       "stream": "stdout",
       "text": [
        "pushing /Volumes/Bay3 scratch/gp_association_goa_uniprot_2...\r\n"
       ]
      },
      {
       "output_type": "stream",
       "stream": "stdout",
       "text": [
        "parsing BA0004B4...\r\n"
       ]
      },
      {
       "output_type": "stream",
       "stream": "stdout",
       "text": [
        "processing chunk line 139861841 to 140819140 (28827.792954 s elapsed)\r\n"
       ]
      },
      {
       "output_type": "stream",
       "stream": "stdout",
       "text": [
        "pushing /Volumes/Bay3 scratch/gp_association_goa_uniprot_2...\r\n"
       ]
      },
      {
       "output_type": "stream",
       "stream": "stdout",
       "text": [
        "parsing 1CBA5B48...\r\n"
       ]
      },
      {
       "output_type": "stream",
       "stream": "stdout",
       "text": [
        "processing chunk line 140819140 to 141774768 (29046.675503 s elapsed)\r\n"
       ]
      },
      {
       "output_type": "stream",
       "stream": "stdout",
       "text": [
        "pushing /Volumes/Bay3 scratch/gp_association_goa_uniprot_2...\r\n"
       ]
      },
      {
       "output_type": "stream",
       "stream": "stdout",
       "text": [
        "parsing 64873000...\r\n"
       ]
      },
      {
       "output_type": "stream",
       "stream": "stdout",
       "text": [
        "processing chunk line 141774768 to 142736960 (29321.9663119 s elapsed)\r\n"
       ]
      },
      {
       "output_type": "stream",
       "stream": "stdout",
       "text": [
        "pushing /Volumes/Bay3 scratch/gp_association_goa_uniprot_2...\r\n"
       ]
      },
      {
       "output_type": "stream",
       "stream": "stdout",
       "text": [
        "parsing 5AE7BE0F...\r\n"
       ]
      },
      {
       "output_type": "stream",
       "stream": "stdout",
       "text": [
        "processing chunk line 142736960 to 143694466 (29540.1858768 s elapsed)\r\n"
       ]
      },
      {
       "output_type": "stream",
       "stream": "stdout",
       "text": [
        "pushing /Volumes/Bay3 scratch/gp_association_goa_uniprot_2...\r\n"
       ]
      },
      {
       "output_type": "stream",
       "stream": "stdout",
       "text": [
        "parsing 2E8F4F3E...\r\n"
       ]
      },
      {
       "output_type": "stream",
       "stream": "stdout",
       "text": [
        "processing chunk line 143694466 to 144654368 (29759.079216 s elapsed)\r\n"
       ]
      },
      {
       "output_type": "stream",
       "stream": "stdout",
       "text": [
        "pushing /Volumes/Bay3 scratch/gp_association_goa_uniprot_2...\r\n"
       ]
      },
      {
       "output_type": "stream",
       "stream": "stdout",
       "text": [
        "parsing 33C4EE1E...\r\n"
       ]
      },
      {
       "output_type": "stream",
       "stream": "stdout",
       "text": [
        "processing chunk line 144654368 to 145614711 (29978.229131 s elapsed)\r\n"
       ]
      },
      {
       "output_type": "stream",
       "stream": "stdout",
       "text": [
        "pushing /Volumes/Bay3 scratch/gp_association_goa_uniprot_2...\r\n"
       ]
      },
      {
       "output_type": "stream",
       "stream": "stdout",
       "text": [
        "parsing 15E42ACF...\r\n"
       ]
      },
      {
       "output_type": "stream",
       "stream": "stdout",
       "text": [
        "processing chunk line 145614711 to 146571193 (30199.2896938 s elapsed)\r\n"
       ]
      },
      {
       "output_type": "stream",
       "stream": "stdout",
       "text": [
        "pushing /Volumes/Bay3 scratch/gp_association_goa_uniprot_2...\r\n"
       ]
      },
      {
       "output_type": "stream",
       "stream": "stdout",
       "text": [
        "parsing FACC8831...\r\n"
       ]
      },
      {
       "output_type": "stream",
       "stream": "stdout",
       "text": [
        "processing chunk line 146571193 to 147533174 (30420.5579031 s elapsed)\r\n"
       ]
      },
      {
       "output_type": "stream",
       "stream": "stdout",
       "text": [
        "pushing /Volumes/Bay3 scratch/gp_association_goa_uniprot_2...\r\n"
       ]
      },
      {
       "output_type": "stream",
       "stream": "stdout",
       "text": [
        "parsing 47B62EE5...\r\n"
       ]
      },
      {
       "output_type": "stream",
       "stream": "stdout",
       "text": [
        "processing chunk line 147533174 to 148495409 (30642.279712 s elapsed)\r\n"
       ]
      },
      {
       "output_type": "stream",
       "stream": "stdout",
       "text": [
        "pushing /Volumes/Bay3 scratch/gp_association_goa_uniprot_2...\r\n"
       ]
      },
      {
       "output_type": "stream",
       "stream": "stdout",
       "text": [
        "parsing 2505AB80...\r\n"
       ]
      },
      {
       "output_type": "stream",
       "stream": "stdout",
       "text": [
        "processing chunk line 148495409 to 149457658 (30860.512711 s elapsed)\r\n"
       ]
      },
      {
       "output_type": "stream",
       "stream": "stdout",
       "text": [
        "pushing /Volumes/Bay3 scratch/gp_association_goa_uniprot_2...\r\n"
       ]
      },
      {
       "output_type": "stream",
       "stream": "stdout",
       "text": [
        "parsing 5E15D2F4...\r\n"
       ]
      },
      {
       "output_type": "stream",
       "stream": "stdout",
       "text": [
        "processing chunk line 149457658 to 150418843 (31080.1256759 s elapsed)\r\n"
       ]
      },
      {
       "output_type": "stream",
       "stream": "stdout",
       "text": [
        "pushing /Volumes/Bay3 scratch/gp_association_goa_uniprot_2...\r\n"
       ]
      },
      {
       "output_type": "stream",
       "stream": "stdout",
       "text": [
        "parsing FCDE8B52...\r\n"
       ]
      },
      {
       "output_type": "stream",
       "stream": "stdout",
       "text": [
        "processing chunk line 150418843 to 151376000 (31315.432241 s elapsed)\r\n"
       ]
      },
      {
       "output_type": "stream",
       "stream": "stdout",
       "text": [
        "pushing /Volumes/Bay3 scratch/gp_association_goa_uniprot_2...\r\n"
       ]
      },
      {
       "output_type": "stream",
       "stream": "stdout",
       "text": [
        "parsing 3C5B2BD2...\r\n"
       ]
      },
      {
       "output_type": "stream",
       "stream": "stdout",
       "text": [
        "processing chunk line 151376000 to 152333434 (31551.3899279 s elapsed)\r\n"
       ]
      },
      {
       "output_type": "stream",
       "stream": "stdout",
       "text": [
        "pushing /Volumes/Bay3 scratch/gp_association_goa_uniprot_2...\r\n"
       ]
      },
      {
       "output_type": "stream",
       "stream": "stdout",
       "text": [
        "parsing 6EB70E25...\r\n"
       ]
      },
      {
       "output_type": "stream",
       "stream": "stdout",
       "text": [
        "processing chunk line 152333434 to 153290691 (31788.2515941 s elapsed)\r\n"
       ]
      },
      {
       "output_type": "stream",
       "stream": "stdout",
       "text": [
        "pushing /Volumes/Bay3 scratch/gp_association_goa_uniprot_2...\r\n"
       ]
      },
      {
       "output_type": "stream",
       "stream": "stdout",
       "text": [
        "parsing 5A3BDC06...\r\n"
       ]
      },
      {
       "output_type": "stream",
       "stream": "stdout",
       "text": [
        "processing chunk line 153290691 to 154247152 (32022.5343089 s elapsed)\r\n"
       ]
      },
      {
       "output_type": "stream",
       "stream": "stdout",
       "text": [
        "pushing /Volumes/Bay3 scratch/gp_association_goa_uniprot_2...\r\n"
       ]
      },
      {
       "output_type": "stream",
       "stream": "stdout",
       "text": [
        "parsing 9320431E...\r\n"
       ]
      },
      {
       "output_type": "stream",
       "stream": "stdout",
       "text": [
        "processing chunk line 154247152 to 155203493 (32267.1850669 s elapsed)\r\n"
       ]
      },
      {
       "output_type": "stream",
       "stream": "stdout",
       "text": [
        "pushing /Volumes/Bay3 scratch/gp_association_goa_uniprot_2...\r\n"
       ]
      },
      {
       "output_type": "stream",
       "stream": "stdout",
       "text": [
        "parsing 4532F4B0...\r\n"
       ]
      },
      {
       "output_type": "stream",
       "stream": "stdout",
       "text": [
        "processing chunk line 155203493 to 156158761 (32505.5879068 s elapsed)\r\n"
       ]
      },
      {
       "output_type": "stream",
       "stream": "stdout",
       "text": [
        "pushing /Volumes/Bay3 scratch/gp_association_goa_uniprot_2...\r\n"
       ]
      },
      {
       "output_type": "stream",
       "stream": "stdout",
       "text": [
        "parsing 7A7B4A0E...\r\n"
       ]
      },
      {
       "output_type": "stream",
       "stream": "stdout",
       "text": [
        "processing chunk line 156158761 to 157112343 (32743.7718511 s elapsed)\r\n"
       ]
      },
      {
       "output_type": "stream",
       "stream": "stdout",
       "text": [
        "pushing /Volumes/Bay3 scratch/gp_association_goa_uniprot_2...\r\n"
       ]
      },
      {
       "output_type": "stream",
       "stream": "stdout",
       "text": [
        "parsing 7BC735BF...\r\n"
       ]
      },
      {
       "output_type": "stream",
       "stream": "stdout",
       "text": [
        "processing chunk line 157112343 to 158084694 (32985.0174301 s elapsed)\r\n"
       ]
      },
      {
       "output_type": "stream",
       "stream": "stdout",
       "text": [
        "pushing /Volumes/Bay3 scratch/gp_association_goa_uniprot_2...\r\n"
       ]
      },
      {
       "output_type": "stream",
       "stream": "stdout",
       "text": [
        "parsing 46E49B03...\r\n"
       ]
      },
      {
       "output_type": "stream",
       "stream": "stdout",
       "text": [
        "processing chunk line 158084694 to 159084473 (33104.2104089 s elapsed)\r\n"
       ]
      },
      {
       "output_type": "stream",
       "stream": "stdout",
       "text": [
        "pushing /Volumes/Bay3 scratch/gp_association_goa_uniprot_2...\r\n"
       ]
      },
      {
       "output_type": "stream",
       "stream": "stdout",
       "text": [
        "Traceback (most recent call last):\r\n",
        "  File \"/Users/sr320/sqlshare-pythonclient/tools/singleupload.py\", line 42, in <module>\r\n",
        "    main()\r\n",
        "  File \"/Users/sr320/sqlshare-pythonclient/tools/singleupload.py\", line 39, in main\r\n",
        "    conn.uploadone(args[0], datasetname)\r\n",
        "  File \"/Library/Python/2.7/site-packages/SQLShare-0.1a-py2.7.egg/sqlshare/__init__.py\", line 183, in uploadone\r\n",
        "    self.upload_chunk(fn, dataset_name, chunk, True, False)\r\n",
        "  File \"/Library/Python/2.7/site-packages/SQLShare-0.1a-py2.7.egg/sqlshare/__init__.py\", line 197, in upload_chunk\r\n",
        "    jsonuploadid = self.post_file_chunk(fn, dataset_name, chunk, force_append, force_column_headers) \r\n",
        "  File \"/Library/Python/2.7/site-packages/SQLShare-0.1a-py2.7.egg/sqlshare/__init__.py\", line 136, in post_file_chunk\r\n",
        "    h.request('POST', selector, body, headers)\r\n",
        "  File \"/System/Library/Frameworks/Python.framework/Versions/2.7/lib/python2.7/httplib.py\", line 941, in request\r\n"
       ]
      },
      {
       "output_type": "stream",
       "stream": "stdout",
       "text": [
        "    self._send_request(method, url, body, headers)\r\n",
        "  File \"/System/Library/Frameworks/Python.framework/Versions/2.7/lib/python2.7/httplib.py\", line 975, in _send_request\r\n",
        "    self.endheaders(body)\r\n",
        "  File \"/System/Library/Frameworks/Python.framework/Versions/2.7/lib/python2.7/httplib.py\", line 937, in endheaders\r\n",
        "    self._send_output(message_body)\r\n",
        "  File \"/System/Library/Frameworks/Python.framework/Versions/2.7/lib/python2.7/httplib.py\", line 797, in _send_output\r\n",
        "    self.send(msg)\r\n",
        "  File \"/System/Library/Frameworks/Python.framework/Versions/2.7/lib/python2.7/httplib.py\", line 773, in send\r\n",
        "    self.sock.sendall(data)\r\n",
        "  File \"/System/Library/Frameworks/Python.framework/Versions/2.7/lib/python2.7/ssl.py\", line 207, in sendall\r\n",
        "    v = self.send(data[count:])\r\n",
        "  File \"/System/Library/Frameworks/Python.framework/Versions/2.7/lib/python2.7/ssl.py\", line 176, in send\r\n",
        "    v = self._sslobj.write(data)\r\n",
        "socket.error: [Errno 32] Broken pipe\r\n"
       ]
      }
     ],
     "prompt_number": 12
    },
    {
     "cell_type": "code",
     "collapsed": false,
     "input": [
      "!wc /Volumes/Bay3\\ scratch/gp_association_goa_uniprot_2"
     ],
     "language": "python",
     "metadata": {},
     "outputs": [],
     "prompt_number": "*"
    },
    {
     "cell_type": "code",
     "collapsed": false,
     "input": [],
     "language": "python",
     "metadata": {},
     "outputs": []
    }
   ],
   "metadata": {}
  }
 ]
}