{
 "metadata": {
  "name": ""
 },
 "nbformat": 3,
 "nbformat_minor": 0,
 "worksheets": [
  {
   "cells": [
    {
     "cell_type": "markdown",
     "metadata": {},
     "source": [
      "<img src=\"http://eagle.fish.washington.edu/cnidarian/skitch/ga_182D258C.png\" alt=\"ga_182D258C.png\" width = 50%/>"
     ]
    },
    {
     "cell_type": "heading",
     "level": 1,
     "metadata": {},
     "source": [
      "qDOD Cgigas Gene Descriptions (Swiss-prot)"
     ]
    },
    {
     "cell_type": "markdown",
     "metadata": {},
     "source": [
      "Description and evalues associated with Cgigas 28k genes"
     ]
    },
    {
     "cell_type": "markdown",
     "metadata": {},
     "source": [
      "[Direct Link](https://sqlshare.escience.washington.edu/sqlshare#s=query/sr320%40washington.edu/qDOD%20Cgigas%20Gene%20Descriptions%20(Swiss-prot)"
     ]
    },
    {
     "cell_type": "code",
     "collapsed": false,
     "input": [
      "!python /Users/sr320/sqlshare-pythonclient/tools/fetchdata.py -s \"set rowcount 10 SELECT * FROM [sr320@washington.edu].[qDOD Cgigas Gene Descriptions (Swiss-prot)]\" -f tsv -o /Volumes/web/cnidarian/pDOD_SP_gendes.txt\n"
     ],
     "language": "python",
     "metadata": {},
     "outputs": [],
     "prompt_number": 13
    },
    {
     "cell_type": "code",
     "collapsed": false,
     "input": [
      "#PREVIEW\n",
      "!head /Volumes/web/cnidarian/pDOD_SP_gendes.txt"
     ],
     "language": "python",
     "metadata": {},
     "outputs": [
      {
       "output_type": "stream",
       "stream": "stdout",
       "text": [
        "CGI_ID\tSPID\tevalue\tDescription\r",
        "\r\n",
        "CGI_10000001\tQ9CR41\t2E-29\tHuntingtin-interacting protein K\r",
        "\r\n",
        "CGI_10000002\tQ25381\t2E-50\tActin, muscle\r",
        "\r\n",
        "CGI_10000003\tQ5M8C6\t3E-13\tFibrinogen-like protein 1\r",
        "\r\n",
        "CGI_10000011\tD2GXS7\t1E-09\tTripartite motif-containing protein 2\r",
        "\r\n",
        "CGI_10000012\tP07813\t4E-142\tLeucine--tRNA ligase\r",
        "\r\n",
        "CGI_10000013\tP49411\t2E-32\tElongation factor Tu, mitochondrial\r",
        "\r\n",
        "CGI_10000015\tQ9BYW2\t3E-38\tHistone-lysine N-methyltransferase SETD2\r",
        "\r\n",
        "CGI_10000016\tP86854\t2E-12\tPerlucin-like protein\r",
        "\r\n",
        "CGI_10000019\tQ5JXM2\t9E-09\tUPF0624 protein C6orf186\r",
        "\r\n"
       ]
      }
     ],
     "prompt_number": 14
    },
    {
     "cell_type": "markdown",
     "metadata": {},
     "source": [
      "---"
     ]
    },
    {
     "cell_type": "heading",
     "level": 1,
     "metadata": {},
     "source": [
      "TJGR_CCD_domain_concise_Superfamily_def"
     ]
    },
    {
     "cell_type": "markdown",
     "metadata": {},
     "source": [
      "Conserved Domain search results from oyster proteome (v9)"
     ]
    },
    {
     "cell_type": "markdown",
     "metadata": {},
     "source": [
      "[Direct Link](https://sqlshare.escience.washington.edu/sqlshare#s=query/sr320@washington.edu/TJGR_CCD_domain_concise_Superfamily_def&q=)"
     ]
    },
    {
     "cell_type": "code",
     "collapsed": false,
     "input": [
      "!python /Users/sr320/sqlshare-pythonclient/tools/fetchdata.py -s \"set rowcount 10 SELECT * FROM [sr320@washington.edu].[TJGR_CCD_domain_concise_Superfamily_def]\" -f tsv -o /Volumes/web/cnidarian/pDOD_CCDdomain.txt\n"
     ],
     "language": "python",
     "metadata": {},
     "outputs": [],
     "prompt_number": 2
    },
    {
     "cell_type": "code",
     "collapsed": false,
     "input": [
      "!head -4 /Volumes/web/cnidarian/pDOD_CCDdomain.txt"
     ],
     "language": "python",
     "metadata": {},
     "outputs": [
      {
       "output_type": "stream",
       "stream": "stdout",
       "text": [
        "Query\tCGI_ID\tHit type\tPSSM-ID\tFrom\tTo\tE-Value\tBitscore\tAccession\tShort name\tIncomplete\tSuperfamily\tDefinition\r",
        "\r\n",
        "Q#10 -\tCGI_10000610\tsuperfamily\t243072\t181\t303\t4.1E-33\t120.951\tcl02529\tANK superfamily\t-\t-\t\"ankyrin repeats;  ankyrin repeats mediate protein-protein interactions in very diverse families of proteins. The number of ANK repeats in a protein can range from 2 to over 20 (ankyrins, for example). ANK repeats may occur in combinations with other types of domains. The structural repeat unit contains two antiparallel helices and a beta-hairpin, repeats are stacked in a superhelical arrangement; this alignment contains 4 consecutive repeats.\"\r",
        "\r\n",
        "Q#10 -\tCGI_10000610\tsuperfamily\t243072\t12\t131\t5.08E-16\t73.5718\tcl02529\tANK superfamily\t-\t-\t\"ankyrin repeats;  ankyrin repeats mediate protein-protein interactions in very diverse families of proteins. The number of ANK repeats in a protein can range from 2 to over 20 (ankyrins, for example). ANK repeats may occur in combinations with other types of domains. The structural repeat unit contains two antiparallel helices and a beta-hairpin, repeats are stacked in a superhelical arrangement; this alignment contains 4 consecutive repeats.\"\r",
        "\r\n",
        "Q#10 -\tCGI_10000610\tsuperfamily\t243072\t278\t363\t2.46E-06\t45.4523\tcl02529\tANK superfamily\tC\t-\t\"ankyrin repeats;  ankyrin repeats mediate protein-protein interactions in very diverse families of proteins. The number of ANK repeats in a protein can range from 2 to over 20 (ankyrins, for example). ANK repeats may occur in combinations with other types of domains. The structural repeat unit contains two antiparallel helices and a beta-hairpin, repeats are stacked in a superhelical arrangement; this alignment contains 4 consecutive repeats.\"\r",
        "\r\n"
       ]
      }
     ],
     "prompt_number": 7
    },
    {
     "cell_type": "code",
     "collapsed": false,
     "input": [],
     "language": "python",
     "metadata": {},
     "outputs": []
    }
   ],
   "metadata": {}
  }
 ]
}