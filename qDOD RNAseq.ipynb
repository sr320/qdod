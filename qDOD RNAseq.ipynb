{
 "metadata": {
  "name": ""
 },
 "nbformat": 3,
 "nbformat_minor": 0,
 "worksheets": [
  {
   "cells": [
    {
     "cell_type": "markdown",
     "metadata": {},
     "source": [
      "<img src=\"http://eagle.fish.washington.edu/cnidarian/skitch/ga_182E7EED.png\" alt=\"ga_182E7EED.png\" width = 50%/>"
     ]
    },
    {
     "cell_type": "heading",
     "level": 1,
     "metadata": {},
     "source": [
      "RNA-Seq_DH3"
     ]
    },
    {
     "cell_type": "markdown",
     "metadata": {},
     "source": [
      "RNA-Seq DH3; pooled gill, Drayton Harbor"
     ]
    },
    {
     "cell_type": "markdown",
     "metadata": {},
     "source": [
      "[Direct Link](https://sqlshare.escience.washington.edu/sqlshare#s=query/sr320%40washington.edu/RNA-Seq_DH3)"
     ]
    },
    {
     "cell_type": "code",
     "collapsed": false,
     "input": [
      "!python /Users/sr320/sqlshare-pythonclient/tools/fetchdata.py -s \"set rowcount 10 SELECT * FROM [sr320@washington.edu].[RNA-Seq_DH3]\" -f tsv -o /Volumes/web/cnidarian/pDOD_DH3.txt\n"
     ],
     "language": "python",
     "metadata": {},
     "outputs": [],
     "prompt_number": 1
    },
    {
     "cell_type": "code",
     "collapsed": false,
     "input": [
      "!head -4 /Volumes/web/cnidarian/pDOD_DH3.txt"
     ],
     "language": "python",
     "metadata": {},
     "outputs": [
      {
       "output_type": "stream",
       "stream": "stdout",
       "text": [
        "Feature ID\tExpression values\tTranscripts annotated\tDetected transcripts\tExon length\tUnique gene reads\tTotal gene reads\tUnique exon reads\tTotal exon reads\tRatio of unique to total (exon reads)\tUnique exon-exon reads\tTotal exon-exon reads\tUnique intron-exon reads\tTotal intron-exon reads\tExons\tPutative exons\tRPKM\tMedian coverage\tChromosome\tChromosome region start\tChromosome region end\r",
        "\r\n",
        "CGI_10000001\t9.471\t1\t1\t351\t0\t31\t0\t31\t0\t0\t0\t0\t0\t1\t0\t9.471\t0\tC16582\t35\t385\r",
        "\r\n",
        "CGI_10000002\t8.695\t1\t1\t333\t27\t27\t27\t27\t1\t0\t0\t0\t0\t1\t0\t8.695\t3\tC17212\t31\t363\r",
        "\r\n",
        "CGI_10000003\t3.763\t1\t1\t228\t5\t8\t5\t8\t0.625\t0\t0\t0\t0\t1\t0\t3.763\t1\tC17316\t30\t257\r",
        "\r\n"
       ]
      }
     ],
     "prompt_number": 12
    },
    {
     "cell_type": "code",
     "collapsed": false,
     "input": [],
     "language": "python",
     "metadata": {},
     "outputs": []
    }
   ],
   "metadata": {}
  }
 ]
}